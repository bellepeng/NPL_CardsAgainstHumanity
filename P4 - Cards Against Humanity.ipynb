{
 "cells": [
  {
   "cell_type": "markdown",
   "metadata": {},
   "source": [
    "# NLP with Cards Against Humanity\n",
    "__Goals:__  \n",
    "1. Given a randomly chosen question, generate answer (Word2Vec)\n",
    "2. Classify the answers and questions & Topic modeling (Classification)\n",
    "3. Generate answer cards (Bag of words, Markov Chain, RNN (no labeled, quantity) )\n",
    "\n",
    "Ideas / To-dos:\n",
    "- Word Tokenize then Vectorizer \n",
    "- Word2Vec to find relationships between Q & A, use that relationship to generate the answer\n",
    "    - Use Google's Gensim\n",
    "- Topic modeling on the Questions and Answer Cards using LSA/K-Means\n",
    "    - ToDo: silouhette score for kMeans\n",
    "- Word Generation for new questions and answers (RNN)\n",
    "\n",
    "Challenges:\n",
    "- Where the blanks go\n",
    "- Short answers and questions\n",
    "- Not having Word2Vec for it (no longer a concern)"
   ]
  },
  {
   "cell_type": "markdown",
   "metadata": {
    "heading_collapsed": true
   },
   "source": [
    "### Extract the data"
   ]
  },
  {
   "cell_type": "code",
   "execution_count": 119,
   "metadata": {
    "ExecuteTime": {
     "end_time": "2018-08-21T20:53:17.624537Z",
     "start_time": "2018-08-21T20:53:17.616674Z"
    },
    "hidden": true
   },
   "outputs": [],
   "source": [
    "import urllib.request, json \n",
    "import urllib\n",
    "import json\n",
    "import pandas as pd\n",
    "import os\n",
    "from collections import Counter"
   ]
  },
  {
   "cell_type": "code",
   "execution_count": 2,
   "metadata": {
    "ExecuteTime": {
     "end_time": "2018-08-21T02:33:45.756503Z",
     "start_time": "2018-08-21T02:33:45.747655Z"
    },
    "hidden": true
   },
   "outputs": [],
   "source": [
    "os.chdir('/Users/bellepeng/Desktop/Metis/Projects/NLP_CardsAgainstHumanity/')"
   ]
  },
  {
   "cell_type": "code",
   "execution_count": 3,
   "metadata": {
    "ExecuteTime": {
     "end_time": "2018-08-21T02:33:45.785251Z",
     "start_time": "2018-08-21T02:33:45.767564Z"
    },
    "hidden": true,
    "scrolled": false
   },
   "outputs": [],
   "source": [
    "import json\n",
    "with open(\"/Users/bellepeng/Desktop/Metis/Projects/NLP_CardsAgainstHumanity/cah.json\") as json_data:\n",
    "    cah = json.load(json_data)"
   ]
  },
  {
   "cell_type": "code",
   "execution_count": 4,
   "metadata": {
    "ExecuteTime": {
     "end_time": "2018-08-21T02:33:45.815317Z",
     "start_time": "2018-08-21T02:33:45.796837Z"
    },
    "hidden": true
   },
   "outputs": [
    {
     "name": "stdout",
     "output_type": "stream",
     "text": [
      "dict_keys(['blackCards', 'whiteCards', 'Base', 'CAHe1', 'CAHe2', 'CAHe3', 'CAHe4', 'CAHe5', 'CAHe6', 'greenbox', 'order'])\n",
      "how many blackCards? 295\n",
      "how many Base black? 90\n",
      "how many whiteCards? 1155\n",
      "how many Base white? 460\n",
      "Base Set\n",
      "['Base', 'CAHe1', 'CAHe2', 'CAHe3', 'CAHe4', 'CAHe5', 'CAHe6', 'greenbox']\n"
     ]
    }
   ],
   "source": [
    "print(cah.keys())\n",
    "print(\"how many blackCards?\", len(cah['blackCards']))\n",
    "print(\"how many Base black?\",len(cah['Base']['black']))\n",
    "print(\"how many whiteCards?\",len(cah['whiteCards']))\n",
    "print(\"how many Base white?\",len(cah['Base']['white']))\n",
    "print(cah['Base']['name'])\n",
    "print(cah['order'])"
   ]
  },
  {
   "cell_type": "code",
   "execution_count": 5,
   "metadata": {
    "ExecuteTime": {
     "end_time": "2018-08-21T02:33:45.849266Z",
     "start_time": "2018-08-21T02:33:45.829112Z"
    },
    "hidden": true
   },
   "outputs": [
    {
     "name": "stdout",
     "output_type": "stream",
     "text": [
      "check total white cards: 1155\n",
      "check total black cards: 295\n"
     ]
    }
   ],
   "source": [
    "keys=['Base', 'CAHe1', 'CAHe2', 'CAHe3', 'CAHe4', 'CAHe5', 'CAHe6', 'greenbox']\n",
    "count_w=[]\n",
    "for k in range(len(keys)):\n",
    "    count_w.append(len(cah[keys[k]]['white']))\n",
    "\n",
    "count_b=[]\n",
    "for k in range(len(keys)):\n",
    "    count_b.append(len(cah[keys[k]]['black']))\n",
    "\n",
    "print(\"check total white cards:\", sum(count_w))\n",
    "print(\"check total black cards:\", sum(count_b))"
   ]
  },
  {
   "cell_type": "code",
   "execution_count": 6,
   "metadata": {
    "ExecuteTime": {
     "end_time": "2018-08-21T02:33:45.893645Z",
     "start_time": "2018-08-21T02:33:45.856463Z"
    },
    "hidden": true
   },
   "outputs": [
    {
     "name": "stdout",
     "output_type": "stream",
     "text": [
      "1155\n",
      "<class 'list'>\n"
     ]
    },
    {
     "data": {
      "text/plain": [
       "['Coat hanger abortions.',\n",
       " 'Man meat.',\n",
       " 'Autocannibalism.',\n",
       " 'Vigorous jazz hands.',\n",
       " 'Flightless birds.']"
      ]
     },
     "execution_count": 6,
     "metadata": {},
     "output_type": "execute_result"
    }
   ],
   "source": [
    "whiteCards=cah['whiteCards']\n",
    "print(len(whiteCards))\n",
    "print(type(whiteCards))\n",
    "whiteCards[:5]"
   ]
  },
  {
   "cell_type": "code",
   "execution_count": 7,
   "metadata": {
    "ExecuteTime": {
     "end_time": "2018-08-21T02:33:45.910744Z",
     "start_time": "2018-08-21T02:33:45.897264Z"
    },
    "hidden": true
   },
   "outputs": [
    {
     "name": "stdout",
     "output_type": "stream",
     "text": [
      "295\n",
      "<class 'list'>\n"
     ]
    },
    {
     "data": {
      "text/plain": [
       "[\"Why can't I sleep at night?\",\n",
       " \"I got 99 problems but _ ain't one.\",\n",
       " \"What's a girl's best friend?\",\n",
       " \"What's that smell?\",\n",
       " 'This is the way the world ends / This is the way the world ends / Not with a bang but with _.']"
      ]
     },
     "execution_count": 7,
     "metadata": {},
     "output_type": "execute_result"
    }
   ],
   "source": [
    "blackCards=[x['text'] for x in cah['blackCards']]\n",
    "print(len(blackCards))\n",
    "print(type(blackCards))\n",
    "blackCards[:5]"
   ]
  },
  {
   "cell_type": "code",
   "execution_count": 25,
   "metadata": {
    "ExecuteTime": {
     "end_time": "2018-08-21T02:36:50.241066Z",
     "start_time": "2018-08-21T02:36:50.232869Z"
    },
    "hidden": true
   },
   "outputs": [
    {
     "data": {
      "text/plain": [
       "'Before _, all we had was _.'"
      ]
     },
     "execution_count": 25,
     "metadata": {},
     "output_type": "execute_result"
    }
   ],
   "source": [
    "blackCards.pop(74)\n",
    "blackCards.pop(131)\n",
    "whiteCards.pop(614)"
   ]
  },
  {
   "cell_type": "code",
   "execution_count": null,
   "metadata": {
    "hidden": true
   },
   "outputs": [],
   "source": []
  },
  {
   "cell_type": "markdown",
   "metadata": {},
   "source": [
    "### NLP Preprocessing"
   ]
  },
  {
   "cell_type": "code",
   "execution_count": 32,
   "metadata": {
    "ExecuteTime": {
     "end_time": "2018-08-21T02:38:03.746748Z",
     "start_time": "2018-08-21T02:38:03.733080Z"
    }
   },
   "outputs": [],
   "source": [
    "from __future__ import print_function\n",
    "import nltk\n",
    "from nltk.util import ngrams\n",
    "from nltk.corpus import stopwords\n",
    "from nltk.tokenize import word_tokenize\n",
    "from nltk import WordNetLemmatizer\n",
    "from collections import Counter\n",
    "from operator import itemgetter\n",
    "\n",
    "from sklearn.feature_extraction.text import TfidfVectorizer \n",
    "from sklearn.naive_bayes import MultinomialNB\n",
    "from sklearn.metrics.pairwise import cosine_similarity\n",
    "\n",
    "import matplotlib.pyplot as plt\n",
    "%matplotlib inline\n",
    "import pandas as pd\n",
    "import numpy as np"
   ]
  },
  {
   "cell_type": "code",
   "execution_count": 420,
   "metadata": {
    "ExecuteTime": {
     "end_time": "2018-08-22T01:45:14.854827Z",
     "start_time": "2018-08-22T01:45:14.844883Z"
    }
   },
   "outputs": [
    {
     "name": "stdout",
     "output_type": "stream",
     "text": [
      "189\n",
      "189\n"
     ]
    }
   ],
   "source": [
    "# Remove Stop Words\n",
    "stop = stopwords.words('english')\n",
    "stop += ['.', ',', '(', ')', \"'\", '\"', 'got', 'br', 'getting', '&reg']\n",
    "print(len(stop))\n",
    "# itemsToRemove=['you', 'yourself', 'your', 'me', 'myself', 'our']\n",
    "# stop = [x for x in stop if x not in itemsToRemove]\n",
    "print(len(stop))\n",
    "\n",
    "punctuations=['.', ',', '(', ')', \"'\", '\"']"
   ]
  },
  {
   "cell_type": "code",
   "execution_count": 34,
   "metadata": {
    "ExecuteTime": {
     "end_time": "2018-08-21T02:38:04.637784Z",
     "start_time": "2018-08-21T02:38:04.632021Z"
    }
   },
   "outputs": [],
   "source": [
    "os.chdir('/Users/bellepeng/Desktop/Metis/Work/tools')\n",
    "from nlp import fixContractions "
   ]
  },
  {
   "cell_type": "code",
   "execution_count": 477,
   "metadata": {
    "ExecuteTime": {
     "end_time": "2018-08-22T02:11:17.877841Z",
     "start_time": "2018-08-22T02:11:17.872255Z"
    }
   },
   "outputs": [],
   "source": [
    "# Clean the text for Word2Vec\n",
    "def clean_text(text):\n",
    "    text=text.replace('&reg;', '')\n",
    "    text=text.replace('&Reg;', '')\n",
    "    lemmatize = WordNetLemmatizer()\n",
    "    text = fixContractions(text)\n",
    "    tokens = word_tokenize(text)\n",
    "    clean_text = [lemmatize.lemmatize(token.lower().strip(), pos='a') for token in tokens]\n",
    "    clean_text = [x for x in clean_text if x not in stop]\n",
    "    return ' '.join(clean_text)"
   ]
  },
  {
   "cell_type": "code",
   "execution_count": 479,
   "metadata": {
    "ExecuteTime": {
     "end_time": "2018-08-22T02:11:32.643678Z",
     "start_time": "2018-08-22T02:11:32.101560Z"
    }
   },
   "outputs": [
    {
     "name": "stdout",
     "output_type": "stream",
     "text": [
      "tempur-pedic swedish sleep system & trade ;\n",
      "learned hard way cheer grieving friend _\n"
     ]
    }
   ],
   "source": [
    "allCards = whiteCards+blackCards\n",
    "cleaned_all=[clean_text(i) for i in allCards]\n",
    "cleaned_w = [clean_text(i) for i in whiteCards]\n",
    "cleaned_b = [clean_text(i) for i in blackCards]\n",
    "print(cleaned_w[135])\n",
    "print(cleaned_b[100])"
   ]
  },
  {
   "cell_type": "code",
   "execution_count": 480,
   "metadata": {
    "ExecuteTime": {
     "end_time": "2018-08-22T02:11:39.670531Z",
     "start_time": "2018-08-22T02:11:39.484369Z"
    }
   },
   "outputs": [
    {
     "name": "stdout",
     "output_type": "stream",
     "text": [
      "1154\n",
      "293\n",
      "1153\n",
      "293\n"
     ]
    },
    {
     "data": {
      "text/plain": [
       "[['coat', 'hanger', 'abortions'], ['man', 'meat'], ['autocannibalism']]"
      ]
     },
     "execution_count": 480,
     "metadata": {},
     "output_type": "execute_result"
    }
   ],
   "source": [
    "# Tokenize for other NLP\n",
    "tokenized_w = [word_tokenize(i) for i in cleaned_w]\n",
    "tokenized_b = [word_tokenize(i) for i in cleaned_b]\n",
    "print(len(tokenized_w))\n",
    "print(len(tokenized_b))\n",
    "\n",
    "tokenized_w = list(filter(lambda x: len(x)!=0, tokenized_w))\n",
    "tokenized_b = list(filter(lambda x: len(x)!=0, tokenized_b))\n",
    "print(len(tokenized_w))\n",
    "print(len(tokenized_b))\n",
    "tokenized_w[:3]"
   ]
  },
  {
   "cell_type": "code",
   "execution_count": 481,
   "metadata": {
    "ExecuteTime": {
     "end_time": "2018-08-22T02:11:50.229754Z",
     "start_time": "2018-08-22T02:11:46.513273Z"
    }
   },
   "outputs": [],
   "source": [
    "# Vectorize\n",
    "from sklearn.feature_extraction.text import CountVectorizer, TfidfVectorizer\n",
    "count_vectorizer = CountVectorizer(ngram_range=(1,1), stop_words=stop, lowercase=False)\n",
    "tfidf_vectorizer = TfidfVectorizer(ngram_range=(1,1), stop_words=stop, lowercase=False)\n",
    "\n",
    "cv_w = [count_vectorizer.fit_transform(i) for i in tokenized_w]\n",
    "tfidf_w = [tfidf_vectorizer.fit_transform(i) for i in tokenized_w]\n",
    "\n",
    "cv_b = [count_vectorizer.fit_transform(i) for i in tokenized_b]\n",
    "tfidf_b = [tfidf_vectorizer.fit_transform(i) for i in tokenized_b]"
   ]
  },
  {
   "cell_type": "markdown",
   "metadata": {},
   "source": [
    "### Word2Vec\n",
    "Calculate the Question Word Vecs ad Answer Word Vecs, then compute the distance"
   ]
  },
  {
   "cell_type": "code",
   "execution_count": 525,
   "metadata": {
    "ExecuteTime": {
     "end_time": "2018-08-22T02:40:09.289065Z",
     "start_time": "2018-08-22T02:40:09.284769Z"
    }
   },
   "outputs": [],
   "source": [
    "import gensim  # using skip-gram\n",
    "from gensim.models import Word2Vec"
   ]
  },
  {
   "cell_type": "code",
   "execution_count": 526,
   "metadata": {
    "ExecuteTime": {
     "end_time": "2018-08-22T02:40:15.527950Z",
     "start_time": "2018-08-22T02:40:15.521593Z"
    }
   },
   "outputs": [],
   "source": [
    "def find_vec(text_list):\n",
    "    text_str=[x.split() for x in text_list]\n",
    "    model = gensim.models.Word2Vec(text_str, window=1, min_count=1, workers=1, sg=1)\n",
    "    return model\n",
    "    # list(model.wv.vocab.items())[:5]\n",
    "    # model['love']\n",
    "    #print(model.wv.most_similar('smegma'))"
   ]
  },
  {
   "cell_type": "code",
   "execution_count": 527,
   "metadata": {
    "ExecuteTime": {
     "end_time": "2018-08-22T02:40:21.650985Z",
     "start_time": "2018-08-22T02:40:21.493037Z"
    }
   },
   "outputs": [],
   "source": [
    "wordVec = find_vec((cleaned_w+cleaned_b))"
   ]
  },
  {
   "cell_type": "code",
   "execution_count": 528,
   "metadata": {
    "ExecuteTime": {
     "end_time": "2018-08-22T02:40:27.896732Z",
     "start_time": "2018-08-22T02:40:27.852149Z"
    }
   },
   "outputs": [
    {
     "name": "stdout",
     "output_type": "stream",
     "text": [
      "1153\n"
     ]
    },
    {
     "name": "stderr",
     "output_type": "stream",
     "text": [
      "/anaconda3/lib/python3.6/site-packages/ipykernel_launcher.py:2: DeprecationWarning: Call to deprecated `__getitem__` (Method will be removed in 4.0.0, use self.wv.__getitem__() instead).\n",
      "  \n"
     ]
    }
   ],
   "source": [
    "# For each White Card, find the sum of the word vectors\n",
    "cardVec_w = [sum(wordVec[x]) for x in tokenized_w]\n",
    "print(len(cardVec_w))\n",
    "cardVec_w_dict = dict(zip(whiteCards, cardVec_w))"
   ]
  },
  {
   "cell_type": "code",
   "execution_count": 529,
   "metadata": {
    "ExecuteTime": {
     "end_time": "2018-08-22T02:50:05.856717Z",
     "start_time": "2018-08-22T02:50:05.850146Z"
    }
   },
   "outputs": [],
   "source": [
    "def cardVec_list(wordVec, tokenized_words):\n",
    "    eachCard=[]\n",
    "    for i in range(len(tokenized_words)):\n",
    "        try:\n",
    "            eachCard.append(wordVec[tokenized_words[i]])\n",
    "        except:\n",
    "            eachCard.append(0)   \n",
    "    return eachCard"
   ]
  },
  {
   "cell_type": "code",
   "execution_count": 530,
   "metadata": {
    "ExecuteTime": {
     "end_time": "2018-08-22T02:50:12.411963Z",
     "start_time": "2018-08-22T02:50:12.385165Z"
    }
   },
   "outputs": [
    {
     "name": "stderr",
     "output_type": "stream",
     "text": [
      "/anaconda3/lib/python3.6/site-packages/ipykernel_launcher.py:5: DeprecationWarning: Call to deprecated `__getitem__` (Method will be removed in 4.0.0, use self.wv.__getitem__() instead).\n",
      "  \"\"\"\n"
     ]
    },
    {
     "data": {
      "text/plain": [
       "293"
      ]
     },
     "execution_count": 530,
     "metadata": {},
     "output_type": "execute_result"
    }
   ],
   "source": [
    "cardVec_list_b=[]\n",
    "for i in range(len(tokenized_b)):\n",
    "    cardVec_list_b.append(cardVec_list(wordVec, tokenized_b[i]))\n",
    "    \n",
    "len(cardVec_list_b)"
   ]
  },
  {
   "cell_type": "code",
   "execution_count": 531,
   "metadata": {
    "ExecuteTime": {
     "end_time": "2018-08-22T02:50:18.585073Z",
     "start_time": "2018-08-22T02:50:18.575242Z"
    },
    "collapsed": true
   },
   "outputs": [
    {
     "data": {
      "text/plain": [
       "dict_keys([\"Why can't I sleep at night?\", \"I got 99 problems but _ ain't one.\", \"What's a girl's best friend?\", \"What's that smell?\", 'This is the way the world ends / This is the way the world ends / Not with a bang but with _.', \"What is Batman's guilty pleasure?\", 'TSA guidelines now prohibit _ on airplanes.', 'What ended my last relationship?', \"MTV's new reality show features eight washed-up celebrities living with _.\", 'I drink to forget _.', \"I'm sorry, Professor, but I couldn't complete my homework because of _.\", 'Alternative medicine is now embracing the curative powers of _.', \"What's that sound?\", \"What's the next Happy Meal&reg; toy?\", \"It's a pity that kids these days are all getting involved with _.\", 'In the new Disney Channel Original Movie, Hannah Montana struggles with _ for the first time.', \"_. That's how I want to die.\", 'What does Dick Cheney prefer?', \"What's the most emo?\", 'Instead of coal, Santa now gives the bad children _.', 'Next from J.K. Rowling: Harry Potter and the Chamber of _.', 'A romantic, candlelit dinner would be incomplete without _.', 'White people like _.', \"_. Betcha can't have just one!\", 'War!<br><br>What is it good for?', 'BILLY MAYS HERE FOR _.', '_. High five, bro.', 'During sex, I like to think about _.', 'What did I bring back from Mexico?', 'What are my parents hiding from me?', 'What will always get you laid?', 'What would grandma find disturbing, yet oddly charming?', 'What did the U.S. airdrop to the children of Afghanistan?', 'What helps Obama unwind?', \"What's there a ton of in heaven?\", 'Major League Baseball has banned _ for giving players an unfair advantage.', 'When I am a billionaire, I shall erect a 50-foot statue to commemorate _.', \"What's the new fad diet?\", 'When I am the President of the United States, I will create the Department of _.', \"_. It's a trap!\", 'How am I maintaining my relationship status?', 'What will I bring back in time to convince people that I am a powerful wizard?', 'While the United States raced the Soviet Union to the moon, the Mexican government funneled millions of pesos into research on _.', 'Coming to Broadway this season, _: The Musical.', \"What's my secret power?\", 'What gives me uncontrollable gas?', 'But before I kill you, Mr. Bond, I must show you _.', 'What never fails to liven up the party?', 'What am I giving up for Lent?', 'What do old people smell like? ', 'The class field trip was completely ruined by _.', 'When Pharaoh remained unmoved, Moses called down a plague of _.', 'I do not know with which weapons World War III will be fought, but World War IV will be fought with _.', \"What's Teach for America using to inspire inner city students to succeed?\", \"In Michael Jackson's final moments, he thought about _.\", 'Why do I hurt all over?', 'Studies show that lab rats navigate mazes 50% faster after being exposed to _.', 'Why am I sticky?', \"What's my anti-drug?\", 'And the Academy Award for _ goes to _.', 'For my next trick, I will pull _ out of _.', '_: Good to the last drop.', 'What did Vin Diesel eat for dinner?', '_: kid-tested, mother-approved.', 'What gets better with age?', 'I never truly understood _ until I encountered _.', \"Rumor has it that Vladimir Putin's favorite delicacy is _ stuffed with _.\", 'Lifetime&reg; presents _, the story of _.', 'Make a haiku.', \"In M. Night Shyamalan's new movie, Bruce Willis discovers that _ had really been _ all along.\", '_ is a slippery slope that leads to _.', 'In a world ravaged by _, our only solace is _.', \"That's right, I killed _. How, you ask? _.\", 'When I was tripping on acid, _ turned into _.', \"What's the next superhero/sidekick duo?\", \"Dear Abby,<br><br>I'm having some trouble with _ and would like your advice.\", 'After the earthquake, Sean Penn brought _ to the people of Haiti.', 'In L.A. County Jail, word is you can trade 200 cigarettes for _.', \"Maybe she's born with it. Maybe it's _.\", 'Life for American Indians was forever changed when the White Man introduced them to _.', 'Next on ESPN2, the World Series of _.', 'Step 1: _. Step 2: _. Step 3: Profit.', 'Here is the church<br>Here is the steeple<br>Open the doors<br>And there is _.', 'How did I lose my virginity?', 'During his childhood, Salvador Dal&iacute; produced hundreds of paintings of _.', 'In 1,000 years, when paper money is a distant memory, how will we pay for goods and services?', \"What don't you want to find in your Kung Pao chicken?\", 'The Smithsonian Museum of Natural History has just opened an exhibit on _.', 'Daddy, why is Mommy crying?', 'What brought the orgy to a grinding halt?', 'When I pooped, what came out of my butt?', \"In the distant future, historians will agree that _ marked the beginning of America's decline.\", \"What's the gift that keeps on giving?\", 'This season on Man vs. Wild, Bear Grylls must survive in the depths of the Amazon with only _ and his wits.', \"Michael Bay's new three-hour action epic pits _ against _.\", \"And I would have gotten away with it, too, if it hadn't been for _!\", 'In a pinch, _ can be a suitable substitute for _.', 'What has been making life difficult at the nudist colony?', 'Science will never explain the origin of _.', 'In Rome, there are whisperings that the Vatican has a secret room devoted to _.', \"I learned the hard way that you can't cheer up a grieving friend with _.\", 'When all else fails, I can always masturbate to _.', 'An international tribunal has found _ guilty of _.', 'In its new tourism campaign, Detroit proudly proclaims that it has finally eliminated _.', 'In his new self-produced album, Kanye West raps over the sounds of _.', 'The socialist governments of Scandinavia have declared that access to _ is a basic human right.', 'He who controls _ controls the world.', 'Dear Sir or Madam, We regret to inform you that the Office of _ has denied your request for _.', 'The CIA now interrogates enemy agents by repeatedly subjecting them to _.', '_ would be woefully incomplete without _.', 'During his midlife crisis, my dad got really into _.', 'Before I run for president, I must destroy all evidence of my involvement with _.', 'My new favorite porn star is Joey \"_\" McGee.', 'In his newest and most difficult stunt, David Blaine must escape from _.', 'This is your captain speaking. Fasten your seatbelts and prepare for _.', 'My mom freaked out when she looked at my browser history and found _.com/_.', 'The Five Stages of Grief: denial, anger, bargaining, _, acceptance.', \"Members of New York's social elite are paying thousands of dollars just to experience _.\", 'I went from _ to _, all thanks to _.', 'Little Miss Muffet Sat on a tuffet, Eating her curds and _.', 'This month\\'s Cosmo: \"Spice up your sex life by bringing _ into the bedroom.\"', \"If God didn't want us to enjoy _, he wouldn't have given us _.\", \"My country, 'tis of thee, sweet land of _.\", 'After months of debate, the Occupy Wall Street General Assembly could only agree on \"More _!\"', 'I spent my whole life working toward _, only to have it ruined by _.', 'Next time on Dr. Phil: How to talk to your child about _.', 'Only two things in life are certain: death and _.', \"Everyone down on the ground! We don't want to hurt anyone. We're just here for _.\", 'The healing process began when I joined a support group for victims of _.', 'The votes are in, and the new high school mascot is _.', 'Charades was ruined for me forever when my mom had to act out _.', \"Tonight on 20/20: What you don't know about _ could kill you.\", \"You haven't truly lived until you've experienced _ and _ at the same time.\", \"Hey baby, come back to my place and I'll show you _.\", 'My gym teacher got fired for adding _ to the obstacle course.', 'Finally! A service that delivers _ right to your door.', 'To prepare for his upcoming role, Daniel Day-Lewis immersed himself in the world of _.', 'My life is ruled by a vicious cycle of _ and _.', 'During high school, I never really fit in until I found _ club.', \"Money can't buy me love, but it can buy me _.\", \"Listen, son. If you want to get involved with _, I won't stop you. Just steer clear of _.\", 'A successful job interview begins with a firm handshake and ends with _.', 'Call the law offices of Goldstein &amp; Goldstein, because no one should have to tolerate _ in the workplace.', \"Lovin' you is easy 'cause you're _.\", 'The blind date was going horribly until we discovered our shared interest in _.', 'What left this stain on my couch?', 'Turns out that _-Man was neither the hero we needed nor wanted.', \"After months of practice with _, I think I'm finally ready for _.\", 'In the seventh circle of Hell, sinners must endure _ for all eternity.', 'As part of his daily regimen, Anderson Cooper sets aside 15 minutes for _.', 'When you get right down to it, _ is just _.', 'Having problems with _? Try _!', 'And what did <i>you</i> bring for show and tell?', \"I'm not like the rest of you. I'm too rich and busy for _.\", 'With enough time and pressure, _ will turn into _.', '_: Hours of fun. Easy to use. Perfect for _!', '_. Awesome in theory, kind of a mess in practice.', \"As part of his contract, Prince won't perform without _ in his dressing room.\", 'Man, this is bullshit. Fuck _.', 'Dear Leader Kim Jong-un,<br>our village praises your infinite wisdom with a humble offering of _.', '_ may pass, but _ will last forever.', \"She's up all night for good fun.<br>I'm up all night for _.\", 'Alright, bros. Our frat house is condemned, and all the hot slampieces are over at Gamma Phi. The time has come to commence Operation _.', 'The Japanese have developed a smaller, more efficient version of _.', 'In return for my soul, the Devil promised me _, but all I got was _.', \"You guys, I saw this crazy movie last night. It opens on _, and then there's some stuff about _, and then it ends with _.\", '_ will never be the same after _.', \"Wes Anderson's new film tells the story of a precocious child coming to terms with _.\", 'In the beginning, there was _.<br>And the Lord said, \"Let there be _.\"', \"What's fun until it gets weird?\", 'We never did find _, but along the way we sure learned a lot about _.', \"You've seen the bearded lady!<br>You've seen the ring of fire!<br>Now, ladies and gentlemen, feast your eyes upon _!\", 'How am I compensating for my tiny penis?', \"I'm sorry, sir, but we don't allow _ at the country club.\", \"2 AM in the city that never sleeps. The door swings open and <i>she</i> walks in, legs up to here. Something in her eyes tells me she's looking for _.\", 'As king, how will I keep the peasants in line?', 'Oprah\\'s book of the month is \"_ For _: A Story of Hope.\"', 'Do <i>not</i> fuck with me! I am literally _ right now.', 'Adventure.<br>Romance.<br>_.<br><br>From Paramount Pictures, \"_.\"', 'I am become _, destroyer of _!', 'It lurks in the night. It hungers for flesh. This summer, no one is safe from _.', \"If you can't handle _, you'd better stay away from _.\", \"This is the prime of my life. I'm young, hot, and full of _.\", \"I'm pretty sure I'm high right now, because I'm absolutely mesmerized by _.\", 'This year\\'s hottest album is \"_\" by _.', 'Every step towards _ gets me a little closer to _.', \"Forget everything you know about _, because now we've supercharged it with _!\", \"Honey, I have a new role-play I want to try tonight! You can be _, and I'll be _.\", 'Do the Dew &reg; with our most extreme flavor yet! Get ready for Mountain Dew _!', 'Armani suit: $1,000. Dinner for two at that swanky restaurant: $300. The look on her face when you surprise her with _: priceless.', 'In his new action comedy, Jackie Chan must fend off ninjas while also dealing with _.', \"Well what do you have to say for yourself, Casey? This is the third time you've been sent to the principal's office for _.\", 'Here at the Academy for Gifted Children, we allow students to explore _ at their own pace.', 'Heed my voice, mortals! I am the god of _, and I will not tolerate _!', \"I don't mean to brag, but they call me the Michael Jordan of _.\", 'Why am I broke?', \"Help me doctor, I've got _ in my butt!\", \"Hi MTV! My name is Kendra, I live in Malibu, I'm into _, and I love to have a good time.\", 'Patient presents with _. Likely a result of _.', \"Life's pretty tough in the fast lane. That's why I never leave the house without _.\", \"What's making things awkward in the sauna?\", \"Get ready for the movie of the summer! One cop plays by the book. The other's only interested in one thing: _.\", 'Having the worst day EVER. #_', 'In his farewell address, George Washington famously warned Americans about the dangers of _.', 'Don\\'t forget! Beginning this week, Casual Friday will officially become \"_ Friday.\"', 'What killed my boner?', \"Yo' mama so fat she _!\", \"Well if _ is good enough for _, it's good enough for me.\", 'Hi, this is Jim from accounting. We noticed a $1,200 charge labeled \"_\". Can you explain?', 'Do you lack energy? Does it sometimes feel like the whole world is _? Zoloft.&reg;', 'WHOOO! God damn I love _!', 'Now in bookstores: \"The Audacity of _\", by Barack Obama.', \"And today's soup is Cream of _.\", 'I work my ass off all day for this family, and this is what I come home to? _!?', 'I have a strict policy. First date, dinner. Second date, kiss. Third date, _.', 'When I was a kid, we used to play Cowboys and _.', \"This is America. If you don't work hard, you don't succeed. I don't care if you're black, white, purple, or _.\", \"You Won't Believe These 15 Hilarious _ Bloopers!\", 'James is a lonely boy. But when he discovers a secret door in his attic, he meets a magical new friend: _.', \"Don't worry kid. It gets better. I've been living with _ for 20 years.\", 'My grandfather worked his way up from nothing. When he came to this country, all he had was the shoes on his feet and _.', 'Behind every powerful man is _.', 'You are not alone. Millions of Americans struggle with _ every day.', 'Come to Dubai, where you can relax in our world famous spas, experience the nightlife, or simply enjoy _ by the poolside.', '\"This is madness.\" \"No, THIS IS _!\"', \"Listen Gary, I like you. But if you want that corner office, you're going to have to show me _.\", 'I went to the desert and ate of the peyote cactus. Turns out my spirit animal is _.', 'And would you like those buffalo wings mild, hot, or _?', 'The six things I could never do without: oxygen, Facebook, chocolate, Netflix, friends, and _ LOL!', \"Why won't you make love to me anymore? Is it _?\", 'Puberty is a time of change. You might notice hair growing in new places. You might develop an interest in _. This is normal.', \"I'm sorry, Mrs. Chen, but there was nothing we could do. At 4:15 this morning, your son succumbed to _.\", \"I'm Miss Tennessee, and if I could make the world better by changing one thing, I would get rid of _.\", \"Tonight we will have sex. And afterwards, If you'd like, a little bit of _.\", \"Everybody join hands and close your eyes. Do you sense that? That's the presence of _ in this room.\", 'To become a true Yanomamo warrior, you must prove that you can withstand _ without crying out.', \"Y'all ready to get this thing started? I'm Nick Cannon, and this is America's Got _.\", 'If you had to describe the Card Czar, using only one of the cards in your hand, which one would it be?', '_ be all like _.', \"Art isn't just a painting in a stuffy museum. Art is alive. Art is _.\", 'As reparations for slavery, all African Americans will receive _.', 'As Teddy Roosevelt said, the four manly virtues are honor, temperance, industry, and _.', \"Best you go back where you came from, now. We don't take too kindly to _ in these parts.\", 'CNN breaking news! Scientists discover _.', 'Coming to Red Lobster&reg; this month, _.', 'Congratulations! You have been selected for our summer internship program. While we are unable to offer a salary, we can offer you _.', \"Dance like there's nobody watching, love like you'll never be hurt, and live like you're _.\", 'Errbody in the club _.', 'Feeling so grateful! #amazing #mylife #_.', 'Girls just wanna have _.', 'Google Calendar alert: _ in 10 minutes.', \"I don't believe in God. I believe in _.\", \"I got rhythm, I've got music, I've got _. Who could ask for anything more?\", 'I may not be much to look at, but I fuck like _.', 'I tell you, it was a non-stop fuckfest. When it was over, my asshole looked like _.', \"I'll take the BBQ bacon burger with friend egg and fuck it how about _.\", \"I'm sorry, sir, but your insurance plan doesn't cover injuries caused by _.\", \"I've had a horrible vision, father. I saw mountains crumbling, stars falling from the sky. I saw _.\", \"If at first you don't succeed, try _.\", 'In the 1950s, psychologists prescribed _ as a cure for homosexually.', 'LSD + _ = really bad time.', '\"Mom\\'s to-do list:<br/>- Buy Groceries.<br/>- Clean up _.<br/>- Soccer Practice.\"', 'Most Americans would not vote for a candidate who is openly _.', 'No, no, no, no, no, no, NO! I will NOT let _ ruin this wedding.', 'Oh no! Siri, how do I fix _?', 'One more thing. Watch out for Big Mike. They say he killed a man with _.', 'Ooo, daddy like _.', \"Poor Brandon, still living in his parent's basement. I heard he never got over _.\", \"Run, run, as fast as you can! You can't catch me, I'm _!\", \"She's a lady in the streets, _ in the sheets.\", \"She's just one of the guys, you know? She likes beer, and football, and _.\", \"Son, take it from someone who's been around the block a few times. Nothin' puts her in the mood like _.\", \"Summer lovin', had me a blast. _, happened so fast.\", '\"The top Google auto-complete results for \"Barack Obama\":</br>- Barack Obama Height.</br>- Barack Obama net worth.</br>- Barack Obama _.\"', 'Then the princess kissed the frog, and all of a sudden the frog was _!', \"There is no God. It's just _ and then you die.\", \"This Friday at the Liquid Lunge, it's _ Night! Ladies drink free.\", 'We do not shake with our left hands in this country. That is the hand we use for _.', 'Well if _ is a crime, then lock me up!', \"Well, shit. My eyes ain't so good, but I'll eat my own boot if that ain't _!\", 'What are all those whales singing about?', 'What sucks balls?', 'What totally destroyed my asshole?', 'What turned me into a Republican?', 'What will end racism once and for all?', \"What's a total waste of Hillary Clinton's time?\", \"What's about to take dance floor to the next level?\", \"What's the gayest?\", \"What's the most problematic?\", 'Why am I laughing and crying and taking off my clothes?', 'With a one-time gift of just $10, you can save this child from _.', 'You know who else liked _? Hitler.', \"You won't believe what's in my pussy. It's _.\"])"
      ]
     },
     "execution_count": 531,
     "metadata": {},
     "output_type": "execute_result"
    }
   ],
   "source": [
    "cardVec_b = [sum(x) for x in cardVec_list_b]\n",
    "cardVec_b_dict = dict(zip(blackCards, cardVec_b))\n",
    "cardVec_b_dict.keys()"
   ]
  },
  {
   "cell_type": "code",
   "execution_count": 532,
   "metadata": {
    "ExecuteTime": {
     "end_time": "2018-08-22T02:50:24.601971Z",
     "start_time": "2018-08-22T02:50:24.591579Z"
    },
    "collapsed": true
   },
   "outputs": [
    {
     "data": {
      "text/plain": [
       "dict_keys(['Coat hanger abortions.', 'Man meat.', 'Autocannibalism.', 'Vigorous jazz hands.', 'Flightless birds.', 'Pictures of boobs.', 'Doing the right thing.', 'The violation of our most basic human rights.', 'Viagra&reg;.', 'Self-loathing.', 'Spectacular abs.', 'A balanced breakfast.', 'Roofies.', 'Concealing a boner.', 'Amputees.', 'The Big Bang.', 'Former President George W. Bush.', 'The Rev. Dr. Martin Luther King, Jr.', 'Smegma.', 'Being marginalized.', 'Cuddling.', 'Laying an egg.', 'The Pope.', 'Aaron Burr.', 'Genital piercings.', 'Fingering.', 'A bleached asshole.', 'Horse meat.', 'Fear itself.', 'Science.', 'Elderly Japanese men.', 'Stranger danger.', 'The terrorists.', 'Praying the gay away.', 'Same-sex ice dancing.', 'Ethnic cleansing.', 'Cheating in the Special Olympics.', 'German dungeon porn.', 'Bingeing and purging.', 'Making a pouty face.', 'William Shatner.', 'Heteronormativity.', 'Nickelback.', 'Tom Cruise.', 'The profoundly handicapped.', 'The placenta.', 'Chainsaws for hands.', 'Arnold Schwarzenegger.', 'An icepick lobotomy.', 'Goblins.', 'Object permanence.', 'Dying.', 'Foreskin.', 'A falcon with a cap on its head.', 'Hormone injections.', 'Dying of dysentery.', 'Sexy pillow fights.', 'The invisible hand.', 'A really cool hat.', 'Sean Penn.', 'Heartwarming orphans.', 'The clitoris.', 'The Three-Fifths compromise.', 'A sad handjob.', 'Men.', 'Historically black colleges.', 'A micropenis.', 'Raptor attacks.', 'Agriculture.', 'Vikings.', 'Pretending to care.', 'The Underground Railroad.', 'My humps.', 'Being a dick to children.', 'Geese.', 'Bling.', 'Sniffing glue.', 'The South.', 'An Oedipus complex.', 'Eating all of the cookies before the AIDS bake-sale.', 'Sexting.', 'YOU MUST CONSTRUCT ADDITIONAL PYLONS.', 'Mutually-assured destruction.', 'Sunshine and rainbows.', 'Count Chocula.', 'Sharing needles.', 'Being rich.', 'Skeletor.', 'A sausage festival.', 'Michael Jackson.', 'Emotions.', 'Farting and walking away.', 'The Chinese gymnastics team.', 'Necrophilia.', 'Spontaneous human combustion.', 'Yeast.', 'Leaving an awkward voicemail.', 'Dick Cheney.', 'White people.', 'Penis envy.', 'Teaching a robot to love.', 'Sperm whales.', 'Scrubbing under the folds.', 'Panda sex.', 'Whipping it out.', 'Catapults.', 'Masturbation.', 'Natural selection.', 'Opposable thumbs.', 'A sassy black woman.', 'AIDS.', 'The KKK.', 'Figgy pudding.', 'Seppuku.', 'Gandhi.', 'Preteens.', \"Toni Morrison's vagina.\", 'Five-Dollar Footlongs&trade;.', 'Land mines.', 'A sea of troubles.', 'A zesty breakfast burrito.', 'Christopher Walken.', 'Friction.', 'Balls.', 'Dental dams.', 'A can of whoop-ass.', 'A tiny horse.', \"Waiting 'til marriage.\", 'Authentic Mexican cuisine.', 'Genghis Khan.', 'Old-people smell.', \"Feeding Rosie O'Donnell.\", 'Pixelated bukkake.', 'Friends with benefits.', 'The token minority.', 'The Tempur-Pedic&reg; Swedish Sleep System&trade;.', 'A thermonuclear detonation.', 'Take-backsies.', 'The Rapture.', 'A cooler full of organs.', 'Sweet, sweet vengeance.', 'RoboCop.', 'Keanu Reeves.', 'Drinking alone.', 'Giving 110%.', 'Flesh-eating bacteria.', 'The American Dream.', 'Taking off your shirt.', 'Me time.', 'A murder most foul.', 'The inevitable heat death of the universe.', 'The folly of man.', 'That thing that electrocutes your abs.', 'Cards Against Humanity.', 'Fiery poops.', 'Poor people.', 'Edible underpants.', 'Britney Spears at 55.', 'All-you-can-eat shrimp for $4.99.', 'Pooping back and forth. Forever.', 'Fancy Feast&reg;.', 'Jewish fraternities.', 'Being a motherfucking sorcerer.', 'Pulling out.', 'Picking up girls at the abortion clinic.', 'The homosexual agenda.', 'The Holy Bible.', 'Passive-agression.', 'Ronald Reagan.', 'Vehicular manslaughter.', 'Nipple blades.', 'Assless chaps.', 'Full frontal nudity.', 'Hulk Hogan.', 'Daddy issues.', 'The hardworking Mexican.', 'Natalie Portman.', \"Waking up half-naked in a Denny's parking lot.\", 'God.', 'Sean Connery.', 'Saxophone solos.', 'Gloryholes.', 'The World of Warcraft.', 'Homeless people.', 'Scalping.', 'Darth Vader.', 'Eating the last known bison.', \"Guys who don't call.\", 'Hot Pockets&reg;.', 'A time travel paradox.', 'The milk man.', 'Testicular torsion.', 'Dropping a chandelier on your enemies and riding the rope up.', 'World peace.', 'A salty surprise.', 'Poorly-timed Holocaust jokes.', 'Smallpox blankets.', 'Licking things to claim them as your own.', 'The heart of a child.', 'Robert Downey, Jr.', 'Lockjaw.', 'Eugenics.', 'A good sniff.', 'Friendly fire.', 'The taint; the grundle; the fleshy fun-bridge.', 'Wearing underwear inside-out to avoid doing laundry.', 'Hurricane Katrina.', 'Free samples.', \"Jerking off into a pool of children's tears.\", 'A foul mouth.', 'The glass ceiling.', 'Republicans.', 'Explosions.', \"Michelle Obama's arms.\", 'Getting really high.', 'Attitude.', 'Sarah Palin.', 'The &Uuml;bermensch.', 'Altar boys.', 'My soul.', 'My sex life.', 'Pedophiles.', '72 virgins.', 'Pabst Blue Ribbon.', \"Domino's&trade; Oreo&trade; Dessert Pizza.\", 'A snapping turtle biting the tip of your penis.', 'The Blood of Christ.', 'Half-assed foreplay.', 'My collection of high-tech sex toys.', 'A middle-aged man on roller skates.', 'Bitches.', 'Bill Nye the Science Guy.', 'Italians.', 'A windmill full of corpses.', 'Adderall&trade;.', 'Crippling debt.', 'A stray pube.', 'Prancing.', 'Passing a kidney stone.', 'A brain tumor.', 'Leprosy.', 'Puppies!', 'Bees?', 'Frolicking.', 'Repression.', 'Road head.', 'A bag of magic beans.', 'An asymmetric boob job.', 'Dead parents.', 'Public ridicule.', 'A mating display.', 'A mime having a stroke.', 'Stephen Hawking talking dirty.', 'African children.', 'Mouth herpes.', 'Overcompensation.', 'Riding off into the sunset.', 'Being on fire.', 'Tangled Slinkys.', 'Civilian casualties.', 'Auschwitz.', 'My genitals.', 'Not reciprocating oral sex.', 'Lactation.', 'Being fabulous.', \"Shaquille O'Neal's acting career.\", 'My relationship status.', \"Asians who aren't good at math.\", 'Alcoholism.', 'Incest.', 'Grave robbing.', 'Hope.', '8 oz. of sweet Mexican black-tar heroin.', 'Kids with ass cancer.', 'Winking at old people.', 'The Jews.', 'Justin Bieber.', \"Doin' it in the butt.\", 'A lifetime of sadness.', 'The Hamburglar.', 'Swooping.', 'Classist undertones.', 'New Age music.', 'Not giving a shit about the Third World.', 'The Kool-Aid Man.', 'A hot mess.', 'Tentacle porn.', 'Lumberjack fantasies.', 'The gays.', 'Scientology.', 'Estrogen.', 'GoGurt&reg;.', 'Judge Judy.', 'Dick fingers.', 'Racism.', 'Surprise sex!', 'Police brutality.', 'Passable transvestites.', 'The Virginia Tech Massacre.', 'When you fart and a little bit comes out.', 'Oompa-Loompas.', 'A fetus.', 'Obesity.', 'Tasteful sideboob.', 'Hot people.', 'BATMAN!!!', 'Black people.', 'A gassy antelope.', 'Sexual tension.', 'Third base.', 'Racially-biased SAT questions.', 'Porn stars.', 'A Super Soaker&trade; full of cat pee.', 'Muhammed (Praise Be Unto Him).', 'Puberty.', 'A disappointing birthday party.', 'An erection that lasts longer than four hours.', 'White privilege.', 'Getting so angry that you pop a boner.', 'Wifely duties.', 'Two midgets shitting into a bucket.', 'Queefing.', 'Wiping her butt.', 'Golden showers.', 'Barack Obama.', 'Nazis.', 'A robust mongoloid.', 'An M. Night Shyamalan plot twist.', 'Getting drunk on mouthwash.', 'Lunchables&trade;.', 'Women in yogurt commercials.', 'John Wilkes Booth.', 'Powerful thighs.', 'Mr. Clean, right behind you.', 'Multiple stab wounds.', 'Cybernetic enhancements.', 'Serfdom.', 'Kanye West.', \"Women's suffrage.\", 'Children on leashes.', 'Harry Potter erotica.', 'The Dance of the Sugar Plum Fairy.', \"Lance Armstrong's missing testicle.\", 'Parting the Red Sea.', 'The Amish.', 'Dead babies.', 'Child beauty pageants.', 'AXE Body Spray.', 'Centaurs.', 'Copping a feel.', 'Grandma.', 'Famine.', 'The Trail of Tears.', 'The miracle of childbirth.', 'Finger painting.', 'A monkey smoking a cigar.', 'The Make-A-Wish&reg; Foundation.', 'Anal beads.', 'The Force.', 'Kamikaze pilots.', 'Dry heaving.', 'Active listening.', 'Ghosts.', 'The Hustle.', 'Peeing a little bit.', 'Another goddamn vampire movie.', 'Shapeshifters.', 'The Care Bear Stare.', 'Hot cheese.', 'A mopey zoo lion.', 'A defective condom.', 'Teenage pregnancy.', 'A Bop It&trade;.', 'Expecting a burp and vomiting on the floor.', 'Horrifying laser hair removal accidents.', 'Boogers.', 'Unfathomable stupidity.', 'Breaking out into song and dance.', 'Soup that is too hot.', \"Morgan Freeman's voice.\", 'Getting naked and watching Nickelodeon.', 'MechaHitler.', 'Flying sex snakes.', 'The true meaning of Christmas.', 'My inner demons.', 'Pac-Man uncontrollably guzzling cum.', 'My vagina.', 'A homoerotic volleyball montage.', 'Actually taking candy from a baby.', 'Crystal meth.', \"Exactly what you'd expect.\", 'Natural male enhancement.', 'Passive-aggressive Post-it notes.', 'Inappropriate yodeling.', 'Lady Gaga.', 'The Little Engine That Could.', 'Vigilante justice.', 'A death ray.', 'Poor life choices.', 'A gentle caress of the inner thigh.', 'Embryonic stem cells.', 'Nicolas Cage.', 'Firing a rifle into the air while balls deep in a squealing hog.', 'Switching to Geico&reg;.', 'The chronic.', 'Erectile dysfunction.', 'Home video of Oprah sobbing into a Lean Cuisine&reg;.', 'A bucket of fish heads.', '50,000 volts straight to the nipples.', 'Being fat and stupid.', 'Hospice care.', 'A pyramid of severed heads.', 'Getting married, having a few kids, buying some stuff, retiring to Florida, and dying.', \"A subscription to Men's Fitness.\", 'Crucifixion.', 'A micropig wearing a tiny raincoat and booties.', 'Some god-damn peace and quiet.', 'Used panties.', 'A tribe of warrior women.', 'The penny whistle solo from \"My Heart Will Go On.\"', 'An oversized lollipop.', 'Helplessly giggling at the mention of Hutus and Tutsis.', 'Not wearing pants.', 'Consensual sex.', 'Her Majesty, Queen Elizabeth II.', 'Funky fresh rhymes.', 'The art of seduction.', 'The Devil himself.', 'Advice from a wise, old black man.', 'Destroying the evidence.', 'The light of a billion suns.', 'Wet dreams.', 'Synergistic management solutions.', 'Growing a pair.', 'Silence.', 'An M16 assault rifle.', 'Poopy diapers.', 'A live studio audience.', 'The Great Depression.', 'A spastic nerd.', \"Rush Limbaugh's soft, shitty body.\", 'Tickling Sean Hannity, even after he tells you to stop.', 'Stalin.', 'Brown people.', 'Rehab.', 'Capturing Newt Gingrich and forcing him to dance in a monkey suit.', 'Battlefield amputations.', 'An uppercut.', 'Shiny objects.', 'An ugly face.', 'Menstrual rage.', 'A bitch slap.', 'One trillion dollars.', 'Chunks of dead prostitute.', 'The entire Mormon Tabernacle Choir.', 'The female orgasm.', 'Extremely tight pants.', 'The Boy Scouts of America.', 'Stormtroopers.', 'Throwing a virgin into a volcano.', 'Getting in her pants, politely.', 'Gladiatorial combat.', 'Good grammar.', 'Hipsters.', 'Gandalf.', 'Genetically engineered super-soldiers.', \"George Clooney's musk.\", 'Getting abducted by Peter Pan.', 'Eating an albino.', 'Enormous Scandinavian women.', 'Fabricating statistics.', 'Finding a skeleton.', 'Suicidal thoughts.', 'Dancing with a broom.', 'Deflowering the princess.', 'Dorito breath.', 'One thousand Slim Jims.', 'My machete.', 'Overpowering your father.', 'Ominous background music.', 'Media coverage.', 'Making the penises kiss.', 'Moral ambiguity.', 'Medieval Times&reg; Dinner &amp; Tournament.', 'Mad hacky-sack skills.', 'Just the tip.', 'Literally eating shit.', 'Leveling up.', 'Insatiable bloodlust.', 'Historical revisionism.', 'Jean-Claude Van Damme.', 'Jafar.', 'The boners of the elderly.', 'The economy.', 'Statistically validated stereotypes.', 'Sudden Poop Explosion Disease.', 'Slow motion.', 'Space muffins.', 'Sexual humiliation.', 'Sexy Siamese twins.', 'Santa Claus.', 'Scrotum tickling.', \"Ripping into a man's chest and pulling out his still-beating heart.\", 'Ryan Gosling riding in on a white horse.', 'Quivering jowls.', 'Revenge fucking.', 'Pistol-whipping a hostage.', 'Quiche.', \"Zeus's sexual appetites.\", 'Words, words, words.', 'Tripping balls.', 'Being a busy adult with many important things to do.', 'The four arms of Vishnu.', 'The shambling corpse of Larry King.', 'The hiccups.', 'The harsh light of day.', 'The Gulags.', 'The Fanta&reg; girls.', 'A big black dick.', 'A beached whale.', 'A low standard of living.', 'A nuanced critique.', 'A bloody pacifier.', 'A crappy little hand.', 'Shaft.', 'Being a dinosaur.', 'Beating your wives.', 'Neil Patrick Harris.', 'Coughing into a vagina.', 'Carnies.', 'Nubile slave boys.', 'Bosnian chicken farmers.', 'A web of lies.', 'A rival dojo.', 'A passionate Latino lover.', 'Panty raids.', 'Appreciative snapping.', 'Apologizing.', 'Clams.', 'A woman scorned.', 'Being awesome at sex.', 'Spring break!', 'Another shot of morphine.', 'Dining with cardboard cutouts of the cast of \"Friends.\"', 'A soulful rendition of \"Ol\\' Man River.\"', 'Making a friend.', 'A sweaty, panting leather daddy.', 'Intimacy problems.', 'The new Radiohead album.', 'Pretty Pretty Princess Dress-Up Board Game&reg;.', 'A man in yoga pants with a ponytail and feather earrings.', 'An army of skeletons.', 'A squadron of moles wearing aviator goggles.', \"Beefin' over turf.\", 'The Google.', 'Bullshit.', 'A sweet spaceship.', 'A 55-gallon drum of lube.', 'Special musical guest, Cher.', 'The human body.', 'Mild autism.', 'Nunchuck moves.', 'Whipping a disobedient slave.', 'An ether-soaked rag.', 'Oncoming traffic.', 'A dollop of sour cream.', 'A slightly shittier parallel universe.', 'My first kill.', 'Boris the Soviet Love Hammer.', 'The grey nutrient broth that sustains Mitt Romney.', 'Tiny nipples.', 'Power.', 'Death by Steven Seagal.', 'A Burmese tiger pit.', 'Basic human decency.', \"Grandpa's ashes.\", 'One Ring to rule them all.', 'The day the birds attacked.', 'Fetal alcohol syndrome.', 'Graphic violence, adult language, and some sexual content.', 'A bigger, blacker dick.', \"The mere concept of Applebee's&reg;.\", 'A sad fat dragon with no friends.', 'A pi&ntilde;ata full of scorpions.', 'Existing.', \"Hillary Clinton's death stare.\", 'Catastrophic urethral trauma.', 'Double penetration.', \"Daddy's belt.\", 'Swiftly achieving orgasm.', 'Mooing.', 'Rising from the grave.', 'Subduing a grizzly bear and making her your wife.', 'Some really fucked-up shit.', 'Weapons-grade plutonium.', 'All of this blood.', 'Scrotal frostbite.', \"Taking a man's eyes and balls out and putting his eyes where his balls go and then his balls in the eye holes.\", 'The mixing of the races.', 'Pumping out a baby every nine months.', 'Tongue.', 'Loki, the trickster god.', 'Whining like a little bitch.', 'Wearing an octopus for a hat.', 'An unhinged ferris wheel rolling toward the sea.', 'Finding Waldo.', 'Upgrading homeless people to mobile hotspots.', 'A magic hippie love cloud.', 'Fuck Mountain.', 'Living in a trashcan.', 'The corporations.', 'Getting hilariously gang-banged by the Blue Man Group.', 'Jeff Goldblum.', \"Survivor's guilt.\", 'All my friends dying.', 'Shutting the fuck up.', 'An ass disaster.', 'Some kind of bird-man.', 'The entire Internet.', 'Going around punching people.', 'A boo-boo.', 'Indescribable loneliness.', 'Having sex on top of a pizza.', 'Chugging a lava lamp.', 'Warm, velvety muppet sex.', 'Running naked through a mall, pissing and shitting everywhere.', 'Nothing.', 'Samuel L. Jackson.', 'Self-flagellation.', 'The systematic destruction of an entire people and their way of life.', \"The Quesadilla Explosion Salad&trade; from Chili's&reg;.\", 'Reverse cowgirl.', 'Vietnam flashbacks.', 'Actually getting shot, for real.', 'Not having sex.', 'Cock.', 'Dying alone and in pain.', 'A cop who is also a dog.', 'The way white people is.', 'Gay aliens.', 'The primal, ball-slapping sex your parents are having right now.', 'A cat video so cute that your eyes roll back and your spine slides out of your anus.', 'A lamprey swimming up the toilet and latching onto your taint.', 'Slapping a racist old lady.', 'A black male in his early 20s, last seen wearing a hoodie.', 'Jumping out at people.', 'Three months in the hole.', 'Blood farts.', 'The Land of Chocolate.', 'A botched circumcision.', 'My manservant, Claude.', 'Vomiting mid-blowjob.', 'Letting everyone down.', 'Having shotguns for legs.', 'Bill Clinton, naked on a bearskin rug with a saxophone.', \"Mufasa's death scene.\", 'The Harlem Globetrotters.', 'Demonic possession.', 'Fisting.', 'The thin veneer of situational causality that underlies porn.', \"Girls that always be textin'.\", 'Blowing some dudes in an alley.', 'A spontaneous conga line.', 'A vagina that leads to another dimension.', 'Disco fever.', 'Getting your dick stuck in a Chinese finger trap with another dick.', 'Drinking ten 5-hour ENERGYs&reg; to get fifty continuous hours of energy.', 'Sneezing, farting, and coming at the same time.', 'Some douche with an acoustic guitar.', 'Spending lots of money.', 'Putting an entire peanut butter and jelly sandwich into the VCR.', 'An unstoppable wave of fire ants.', 'A greased-up Matthew McConaughey.', 'Flying robots that kill people.', 'Unlimited soup, salad, and breadsticks.', 'Crying into the pages of Sylvia Plath.', 'The moist, demanding chasm of his mouth.', 'Filling every orifice with butterscotch pudding.', \"An all-midget production of Shakespeare's <i>Richard III</i>.\", 'Screaming like a maniac.', 'Not contributing to society in any meaningful way.', 'A pile of squirming bodies.', 'Buying the right pants to be cool.', 'Roland the Farter, flatulist to the king.', 'That ass.', 'A surprising amount of hair.', \"Eating Tom Selleck's mustache to gain his powers.\", 'Velcro&trade;.', 'A PowerPoint presentation.', 'Crazy opium eyes.', '10 Incredible Facts About the Anus.', 'An interracial handshake.', 'Moderate-to-severe joint pain.', 'Finally finishing off the Indians.', 'Sugar madness.', 'Actual mutants with medical conditions and no superpowers.', 'The secret formula for ultimate female satisfaction.', 'The complex geopolitical quagmire that is the Middle East.', 'Fucking a corpse back to life.', \"Neil Diamond's Greatest Hits.\", 'Calculating every mannerism so as not to suggest homosexuality.', 'Whatever a McRib&reg; is made of.', 'No clothes on, penis in vagina.', 'All the single ladies.', 'Whispering all sexy.', 'How awesome I am.', 'Ass to mouth.', 'Smoking crack, for instance.', 'Falling into the toilet.', \"A dance move that's just sex.\", 'The size of my penis.', 'Some sort of Asian.', 'A hopeless amount of spiders.', 'Party Mexicans.', 'Drinking responsibly.', 'The safe word.', 'Angelheaded hipsters burning for the ancient heavenly connection to the starry dynamo in the machinery of night.', 'Bouncing up and down.', 'Jizz.', 'Ambiguous sarcasm.', 'A shiny rock that proves I love you.', 'Dem titties.', 'My worthless son.', 'Exploding pigeons.', 'A Ugandan warlord.', 'My sex dungeon.', 'A kiss on the lips.', 'Child Protective Services.', 'A Native American who solves crimes by going into the spirit world.', 'Doo-doo.', 'The peaceful and nonthreatening rise of China.', 'Sports.', 'A fart.', 'Unquestioning obedience.', 'Three consecutive seconds of happiness.', 'Grammar nazis who are also regular Nazis.', \"Snorting coke off a clown's boner.\", 'Africa.', 'Depression.', 'A horse with no legs.', 'The euphoric rush of strangling a drifter.', 'Khakis.', 'Interspecies marriage.', 'A gender identity that can only be conveyed through slam poetry.', 'Almost giving money to a homeless person.', \"Stuff a child's face with Fun Dip&reg; until he starts having fun.\", 'What Jesus would do.', 'A for-real lizard that spits blood from its eyes.', 'Blackula.', 'The tiniest shred of evidence that God is real.', \"My dad's dumb fucking face.\", 'Prince Ali,<br>fabulous he,<br>Ali Ababwa.', 'A manhole.', 'A sex goblin with a carnival penis.', 'A bunch of idiots playing a card game instead of interacting like normal humans.', 'A sex comet from Neptune that plunges the Earth into eternal sexiness.', 'Sharks with legs.', 'Injecting speed into one arm and horse tranquilizer into the other.', 'Lots and lots of abortions.', \"Seeing things from Hitler's perspective\", 'Too much cocaine.', 'Doing the right stuff to her nipples.', 'Giant sperm from outer space.', 'Oil!', 'Ennui.', 'A powered exoskeleton.', 'A disappointing salad.', \"Mom's new boyfriend.\", 'Unrelenting genital punishment.', 'Denzel.', 'The swim team, all at once.', 'The eight gay warlocks who dictate the rules of fashion.', 'Being nine years old.', 'The unbelievable world of mushrooms.', 'The Abercrombie &amp; Fitch lifestyle.', 'Vegetarian options.', 'My first period.', 'Having been dead for a while.', 'Backwards knees.', 'Being paralyzed from the neck down.', 'Seeing my village burned and my family slaughtered before my eyes.', 'A zero-risk way to make $2,000 from home.', 'A crazy little thing called love.', 'Ancient Athenian boy-fucking', 'Out-of-this-world bazongas.', 'The ghost of Marlon Brando.', 'The basic suffering that pervades all of existence.', 'Being worshipped as the one true God.', 'Figuring out how to have sex with a dolphin.', 'All these decorative pillows.', 'A mouthful of potato salad.', 'Russian super-tuberculosis.', 'A reason not to commit suicide.', 'Going to a high school reunion on ketamine.', 'The passage of time.', 'Child support payments.', \"Changing a person's mind with logic and facts.\", \"My boyfriend's stupid penis.\", 'The tiger that killed my father.', \"Genghis Khan's DNA.\", 'Boring vaginal sex.', '40 acres and a mule.', 'A whole new kind of porn.', 'Slowly easing down onto a cucumber.', 'Wearing glasses and sounding smart.', 'AIDS monkeys.', 'A team of lawyers.', 'Getting drive-by shot.', 'Not believing in giraffes.', \"Anal fissures like you wouldn't believe.\", 'A giant powdery manbaby.', \"Cutting off a flamingo's legs with garden shears.\", 'P.F. Chang himself.', 'An uninterrupted history of imperialism and exploitation.', 'A one-way ticket to Gary, Indiana.', \"Daddy's credit card.\", 'September 11th, 2001.', 'An unforgettable quincea&ntilde;era.', 'Deez nuts.', 'Social justice warriors with flamethrowers of compassion.', 'Some shit-hot guitar licks.', 'Butt stuff.', 'Blackface.', 'Blowjobs for everyone.', 'Getting eaten alive by Guy Fieri.', 'Western standards of beauty.', 'Ejaculating live bees and the bees are angry.', \"My dead son's baseball glove.\", 'Getting caught by the police and going to jail.', 'A face full of horse cum.', 'Free ice cream, yo.', 'The white half of Barack Obama.', 'The black half of Barack Obama.', 'An inability to form meaningful relationships.', 'A bass drop so huge it tears the starry vault asunder to reveal the face of God.', 'Growing up chained to a radiator in perpetual darkness.', 'Shitting all over the floor like a bad, bad girl.', 'A buttload of candy.', 'Sucking all the milk out of a yak.', 'Bullets.', 'A man who is so cool that he rides on a motorcycle.', 'Sudden penis loss.', 'Getting all offended.', 'Crying and shitting and eating spaghetti.', 'One unforgettable night of passion.', 'Being popular and good at sports.', \"Filling a man's anus with concrete.\", 'Two whales fucking the shit out of eachother.', 'Cool, relateable cancer teens.', 'The amount of gay I am.', 'A possible Muslim.', 'Unsheathing my massive horse cock.', 'A bowl of gourds.', 'The male gaze.', 'The power of the Dark Side.', 'Ripping a dog in half.', 'A constant need for validation.', 'Meaningless sex.', 'Such a big boy.', 'Throwing stones at a man until he dies.', 'Cancer.', 'Like a million alligators.', 'Eating together like a god damn family for once.', 'Cute boys.', 'Pussy.', 'Being a terrible mother.', 'Never having sex again.', 'A pizza guy who fucked up.', 'A whole lotta woman.', 'The all-new Nissan Pathfinder with 0.9% APR financing!', 'A peyote-fueled vision quest.', 'Kale.', 'Breastfeeding a ten year old.', 'Crippling social anxiety.', 'Immortality cream.', 'Texas.', 'Teaching a girl how to handjob the penis.', 'A turd.', 'Shapes and colors.', 'Whatever you wish, mother.', 'The haunting stare of an Iraqi child.', 'Robots who just want to party.', 'A self-microwaving burrito.', \"Forgetting grandma's first name.\", 'Our new Buffalo Chicken Dippers&reg;!', 'Treasures beyond your wildest dreams.', 'Getting shot out of a cannon.', 'The sweet song of sword against and the braying of mighty war beasts.', 'Walking into a glass door.', 'The color \"puce\".', \"Every ounce of charisma left in Mick Jagger's tired body.\", 'The eighth graders.', 'Setting my balls on fire and cartwheeling to Ohio.', 'The dentist.', \"Gwyneth Paltrow's opinions.\", 'Turning the rivers red with the blood of infidels.', 'Rabies.', 'Important news about Taylor Swift.', \"Ejaculating inside another man's wife.\", 'Owls, the perfect predator.', 'Being John Malkovich.', 'Bathing in moonsblood and dancing around the ancient oak.', 'An oppressed people with a vibrant culture.', 'An overwhelming variety of cheeses.', 'Reading the entire End-User License Agreement.', 'Morpheus.', \"Peeing into a girl's butt to make a baby.\", \"Generally having no idea of what's going on.\", 'No longer finding any Cards Against Humanity card funny.', '10 football players with erections barreling towards you at full speed.', '10,000 shrieking teenage girls.', \"A big ol' plate of fettuccine alfredo.\", 'A big, beautiful mouth packed to the brim with sparkling teeth.', 'A black friend.', \"A burrito that's just sour cream.\", 'A cheerfulness that belies a deep-seated self-loathing.', 'A cold and indifferent universe.', 'A creature made of penises that must constantly arouse itself to survive.', 'A creepy child singing a nursery rhyme.', 'A dolphin that learns to talk and becomes the Dead of Harvard Law School.', 'A duffel bag full of lizards.', 'A finger up the butt.', 'A genetic predisposition for alcoholism.', 'A gun that shoots cobras.', 'A hug.', 'A long business meeting with no obvious purpose.', 'A man in a suit with perfect hair who tells you beautiful lies.', 'A man with the head of a goat and the body of a goat.', 'A massive collection of child pornography.', 'A medium horchata.', 'A negative body image that is totally justified.', 'A slowly encroaching circle of wolves.', 'A strong horse and enough rations for thirty days.', \"A terrified fat child who won't come out of the bushes.\", 'A tiny fireman who puts out tiny fires.', 'A weird guy who says weird stuff and weirds me out.', \"A woman's right to choose.\", \"A woman's perspective.\", 'Aborting the shit out of a fetus.', 'Albert Einstein but if he had a huge muscles and a rhinoceros cock.', \"All these people I've killed.\", 'An arrangement wherein I give a person money they have sex with me.', 'An empowered woman.', 'An incurable homosexual.', 'An old dog full of tumors.', 'An older man.', 'An X-Man whose power is that he has sex with dogs and children.', 'Anal.', 'Antidepressants.', 'Art.', 'Assassinating the president.', 'Awesome pictures of planets and stuff.', \"Bad emotions I don't want.\", 'Becoming the President of the United States.', 'Being sexually attracted to children.', 'Being turned into sausages.', 'Beyonc&eacute;.', 'Big, smart money boys tap-tapping on their keyboards.', 'Blossoming into a beautiful young woman.', 'Breastfeeding in public like a radiant earth goddess.', 'Brunch.', 'Catching a live salmon in your mouth.', 'Child labor.', 'China.', 'Chipotle.', 'Chris Hemsworth.', 'Comprehensive immigration reform.', 'Condoleezza Rice.', 'Consensual, nonreproductive incest.', 'Content.', 'Crazy anal orgasms.', 'Creamy slices of real, California avocado.', 'Critical thinking.', 'Crushing the patriarchy.', 'Daddy going away forever.', 'Defeating a gorilla in single combat.', 'Denying the Holocaust.', 'Dis bitch.', 'Discovering that what I really want in life is to kill people and have sex with their corpses.', 'Doing a somersault and barfing.', 'Dominating a man by peeing on his eldest son.', 'Doritos and a Fruit Roll-Up.', \"Dropping dead in a Sbarro's bathroom and not being found for 72 hours.\", 'Dumpster juice.', 'Eating ass.', 'Eating people.', 'Eating too many Cinnabons and then vomiting and then eating the vomit.', 'Ejaculating at the apex of a cartwheel.', 'Esmeralda, my most beautiful daughter.', 'Eternal screaming madness.', \"Every man's ultimate fantasy: a perfectly cylindrical vagina.\", 'Everything.', \"Exploring each other's buttholes.\", 'Facilitating dialogue and deconstructing binaries.', 'Falling into a pit of waffles.', 'Farting a huge shit out of my pussy.', 'Farting all over my face with your tight little asshole.', 'Feeling the emotion of anger.', 'Feminism.', 'Film roles for actresses over 40.', 'Finding a nice elevator to poop in.', 'Forty-five minutes of finger blasting.', 'Founding a major world religion.', 'Fucking me good and taking me to Red Lobster&reg;.', 'Fucking my therapist.', 'Gary.', 'Gay thoughts.', 'Gayle from HR.', 'Gazpacho.', 'Getting aborted.', 'Getting blasted in the face by a t-shirt cannon.', 'Getting eaten out by a dog.', 'Getting high with mom.', 'Getting killed and dragged up a tree by a leopard.', 'Getting laid like all the time.', 'Getting naked too soon.', 'Getting pegged.', 'Getting the Dorito crumbs out of my purse.', 'Getting this party started!', 'Getting trapped in a conversation about Ayn Rand.', \"Going around pulling people's tampons out.\", 'Going to bed at a reasonable hour.', 'Gregor, my largest son.', 'Grunting for ten minutes and then peeing sand.', 'Guns.', 'Happy daddies with happy sandals.', 'Hating Jews.', 'Having a vagina.', 'Having an awesome time drinking and driving.', 'Having sex with a beautiful person.', 'Having sex with a man and then eating his head.', 'Having sex with your mom.', 'Holding the proper political beliefs of my time to attract a mate.', 'Homework.', 'Hot lettuce.', 'How good lead paint taste.', 'How great my ass looks in these jeans.', 'How sad it will be when Morgan Freeman dies.', 'How strange it is to be anything at all.', 'Huge big balls full of jizz.', 'Informing you that I am a registered sex offender.', 'ISIS.', 'It being too late to stop having sex with a horse.', 'Jason, the teen mayor.', 'Jazz.', 'Just now finding out about the Armenian Genocide.', 'Late-stage dementia.', 'Libertarians.', 'Loud, scary thunder.', 'Making out and stuff.', 'Math.', 'Meatloaf, the food.', 'Meatloaf, the man.', 'Menopause.', 'Mental illness.', 'Microaggressions.', 'Misogyny.', 'Mixing M&Ms and Skittles like some kind of psychopath.', 'Mommy and daddy fighting all the time.', 'Moon people.', \"Muchin' puss.\", \"My brother's hot friends.\", 'My dog dying.', 'My huge penis and substantial fortune.', 'Objectifying women.', 'One of them big-city Jew lawyers.', 'One of those \"blow jobs\" I\\'ve been hearing so much about.', 'Onions.', 'Opening your mouth to talk and a big penis fops out.', 'Our baby.', 'Out-of-control teenage blowjob parties.', 'Overthrowing the democratically-elected government of Chile.', 'Participating.', 'Period poops.', 'Picking up a glass of water and taking a sip and being the president.', 'Playing my asshole like a trumpet.', 'Plowing that ass like a New England corn farmer.', 'Political correctness.', 'Pooping in a leotard and hoping no one notices.', 'Pooping in the potty.', 'Prematurely ejaculating like a total loser.', 'Pretending to be one of the guys but actually being the spider god.', 'Putting more black people in jail.', 'Quacking like a duck in lieu of a cogent argument.', 'Quinoa.', 'Raising three kids on minimum wage.', 'Reaching an age where barbecue chips are better than sex.', 'Regurgitating a half-digested sparrow.', 'Restoring Germany to its former glory.', 'Rock-hard tits and a huge vagina.', 'Rolling so hard.', 'Rubbing my bush all over your bald head.', \"Salsa Night at Dave's Cantina.\", \"Scissoring, if that's a thing.\", 'Seizing control of the means of production.', 'Self-identifying as a DJ.', 'Showing all the boys my pussy.', 'Slamming a dunk.', 'Smashing my balls at the moment of climax.', 'Some of that good dick.', 'Some real spicy shrimps.', 'Starting a shitty podcast.', \"Straight blazin' 24/7.\", \"Sucking each other's penises for hours on end.\", 'Sudden and unwanted slam poetry.', \"Swearing praise upon the Sultan's hideous daughters.\", 'Systems and policies designed to preserve centuries-old power structures.', 'Tables.', 'Taking the form of a falcon.', 'Tender chunks of all-white-meat chicken.', 'That bitch, Stacy.', 'The amount of baby carrots I can fit up my ass.', 'The best, deepest quotes from The Dark Knight.', 'The body of a 46-year-old man.', 'The bond between a woman and her horse.', 'The chicken from Popeyes&reg;.', 'The clown that followed me home from the grocery store.', \"The fear and hatred in men's hearts.\", \"The feeling of going to McDonald's as a 6-year-old.\", 'The flaming wreckage of the International Space Station.', 'The full blown marginalization of ugly people.', 'The full force of the American military.', 'The government.', 'The graceful path of an autumn leaf as it falls to its earthen cradle.', 'The hottest MILF in Dallas.', 'The LGBT community.', 'The lived experience of African Americans.', 'The mysterious fog rolling into town.', \"The ol' penis-in-the-popcorn surprise.\", 'The Rwandan Genocide.', 'The secret to truly resilient hair.', 'The sweet, forbidden meat of the monkey.', 'The wind.', 'Thinking about what eating even is.', 'Three hours of nonstop penetration.', 'Tiny, rancid girl farts.', 'Trees.', \"Trevor, the world's greatest boyfriend.\", 'Turning 32.', 'Twenty bucks.', 'Twenty cheerleaders laughing at your tiny penis.', 'Twisting my cock and balls into a balloon poodle.', 'Two beautiful pig sisters.', 'Two shitty kids and a garbage husband.', 'Waking up inside of a tornado.', 'Watching a hot person eat.', 'Watching you die.', 'Water.', 'When the big truck goes \"Toot! Toot!\"', 'Who really did 9/11.', 'Whomsoever let the dogs out.', 'Whooping your ass at Mario Kart.', 'Working so hard to have muscles and then having them.'])"
      ]
     },
     "execution_count": 532,
     "metadata": {},
     "output_type": "execute_result"
    }
   ],
   "source": [
    "cardVec_w_dict.keys()"
   ]
  },
  {
   "cell_type": "code",
   "execution_count": 533,
   "metadata": {
    "ExecuteTime": {
     "end_time": "2018-08-22T02:51:36.304978Z",
     "start_time": "2018-08-22T02:50:57.254692Z"
    }
   },
   "outputs": [],
   "source": [
    "distances=[]\n",
    "for question in range(len(tokenized_b)):\n",
    "    X = cardVec_b[question]\n",
    "    \n",
    "    answers=[]\n",
    "    for answer in range(len(tokenized_w)):\n",
    "        Z = [X, cardVec_w[answer]]\n",
    "        answers.append(cosine_similarity(Z)[0][1])\n",
    "    \n",
    "    distances.append(answers)      "
   ]
  },
  {
   "cell_type": "code",
   "execution_count": 534,
   "metadata": {
    "ExecuteTime": {
     "end_time": "2018-08-22T02:51:42.097224Z",
     "start_time": "2018-08-22T02:51:42.089816Z"
    },
    "scrolled": true
   },
   "outputs": [
    {
     "name": "stdout",
     "output_type": "stream",
     "text": [
      "1153\n"
     ]
    },
    {
     "data": {
      "text/plain": [
       "293"
      ]
     },
     "execution_count": 534,
     "metadata": {},
     "output_type": "execute_result"
    }
   ],
   "source": [
    "print(len(distances[0]))\n",
    "len(distances)"
   ]
  },
  {
   "cell_type": "code",
   "execution_count": 49,
   "metadata": {
    "ExecuteTime": {
     "end_time": "2018-08-21T02:38:55.570716Z",
     "start_time": "2018-08-21T02:38:55.565286Z"
    }
   },
   "outputs": [],
   "source": [
    "# import pickle\n",
    "# with open('CAH_distances.pkl', 'wb') as picklefile:\n",
    "#     pickle.dump(distances, picklefile)"
   ]
  },
  {
   "cell_type": "markdown",
   "metadata": {},
   "source": [
    "I got 99 problems but _ ain't one.  \n",
    "Min: Being a motherfucking sorcerer.  \n",
    "Max: One thousand Slim Jims.  \n",
    "\n",
    "Why can't I sleep at night?  \n",
    "Min: Friendly fire.  \n",
    "Max: Bees?  "
   ]
  },
  {
   "cell_type": "code",
   "execution_count": 50,
   "metadata": {
    "ExecuteTime": {
     "end_time": "2018-08-21T02:38:55.828450Z",
     "start_time": "2018-08-21T02:38:55.574609Z"
    },
    "collapsed": true
   },
   "outputs": [
    {
     "name": "stdout",
     "output_type": "stream",
     "text": [
      "Why can't I sleep at night?\n",
      "Least Expected Answer: Getting trapped in a conversation about Ayn Rand.\n",
      "Most Expected Answer: An M. Night Shyamalan plot twist.\n",
      "\n",
      "\n",
      "I got 99 problems but _ ain't one.\n",
      "Least Expected Answer: Sexual tension.\n",
      "Most Expected Answer: One trillion dollars.\n",
      "\n",
      "\n",
      "What's a girl's best friend?\n",
      "Least Expected Answer: Getting trapped in a conversation about Ayn Rand.\n",
      "Most Expected Answer: Bees?\n",
      "\n",
      "\n",
      "What's that smell?\n",
      "Least Expected Answer: A snapping turtle biting the tip of your penis.\n",
      "Most Expected Answer: Bees?\n",
      "\n",
      "\n",
      "This is the way the world ends / This is the way the world ends / Not with a bang but with _.\n",
      "Least Expected Answer: Turning the rivers red with the blood of infidels.\n",
      "Most Expected Answer: The World of Warcraft.\n",
      "\n",
      "\n",
      "What is Batman's guilty pleasure?\n",
      "Least Expected Answer: Social justice warriors with flamethrowers of compassion.\n",
      "Most Expected Answer: Daddy's belt.\n",
      "\n",
      "\n",
      "TSA guidelines now prohibit _ on airplanes.\n",
      "Least Expected Answer: Getting naked and watching Nickelodeon.\n",
      "Most Expected Answer: A terrified fat child who won't come out of the bushes.\n",
      "\n",
      "\n",
      "What ended my last relationship?\n",
      "Least Expected Answer: Quivering jowls.\n",
      "Most Expected Answer: My relationship status.\n",
      "\n",
      "\n",
      "MTV's new reality show features eight washed-up celebrities living with _.\n",
      "Least Expected Answer: Grunting for ten minutes and then peeing sand.\n",
      "Most Expected Answer: The feeling of going to McDonald's as a 6-year-old.\n",
      "\n",
      "\n",
      "I drink to forget _.\n",
      "Least Expected Answer: Capturing Newt Gingrich and forcing him to dance in a monkey suit.\n",
      "Most Expected Answer: Cutting off a flamingo's legs with garden shears.\n",
      "\n",
      "\n",
      "I'm sorry, Professor, but I couldn't complete my homework because of _.\n",
      "Least Expected Answer: Hope.\n",
      "Most Expected Answer: Homework.\n",
      "\n",
      "\n",
      "Alternative medicine is now embracing the curative powers of _.\n",
      "Least Expected Answer: Owls, the perfect predator.\n",
      "Most Expected Answer: Eating Tom Selleck's mustache to gain his powers.\n",
      "\n",
      "\n",
      "What's that sound?\n",
      "Least Expected Answer: 10,000 shrieking teenage girls.\n",
      "Most Expected Answer: Bees?\n",
      "\n",
      "\n",
      "What's the next Happy Meal&reg; toy?\n",
      "Least Expected Answer: A sausage festival.\n",
      "Most Expected Answer: Viagra&reg;.\n",
      "\n",
      "\n",
      "It's a pity that kids these days are all getting involved with _.\n",
      "Least Expected Answer: Ghosts.\n",
      "Most Expected Answer: Getting aborted.\n",
      "\n",
      "\n",
      "In the new Disney Channel Original Movie, Hannah Montana struggles with _ for the first time.\n",
      "Least Expected Answer: Grunting for ten minutes and then peeing sand.\n",
      "Most Expected Answer: Civilian casualties.\n",
      "\n",
      "\n",
      "_. That's how I want to die.\n",
      "Least Expected Answer: Vigorous jazz hands.\n",
      "Most Expected Answer: Watching you die.\n",
      "\n",
      "\n",
      "What does Dick Cheney prefer?\n",
      "Least Expected Answer: The South.\n",
      "Most Expected Answer: Dick Cheney.\n",
      "\n",
      "\n",
      "What's the most emo?\n",
      "Least Expected Answer: The power of the Dark Side.\n",
      "Most Expected Answer: Bees?\n",
      "\n",
      "\n",
      "Instead of coal, Santa now gives the bad children _.\n",
      "Least Expected Answer: Getting naked and watching Nickelodeon.\n",
      "Most Expected Answer: Finding Waldo.\n",
      "\n",
      "\n",
      "Next from J.K. Rowling: Harry Potter and the Chamber of _.\n",
      "Least Expected Answer: Whipping it out.\n",
      "Most Expected Answer: Harry Potter erotica.\n",
      "\n",
      "\n",
      "A romantic, candlelit dinner would be incomplete without _.\n",
      "Least Expected Answer: Fisting.\n",
      "Most Expected Answer: The body of a 46-year-old man.\n",
      "\n",
      "\n",
      "White people like _.\n",
      "Least Expected Answer: Party Mexicans.\n",
      "Most Expected Answer: White people.\n",
      "\n",
      "\n",
      "_. Betcha can't have just one!\n",
      "Least Expected Answer: Bullets.\n",
      "Most Expected Answer: BATMAN!!!\n",
      "\n",
      "\n",
      "War!<br><br>What is it good for?\n",
      "Least Expected Answer: Forty-five minutes of finger blasting.\n",
      "Most Expected Answer: Prince Ali,<br>fabulous he,<br>Ali Ababwa.\n",
      "\n",
      "\n",
      "BILLY MAYS HERE FOR _.\n",
      "Least Expected Answer: Almost giving money to a homeless person.\n",
      "Most Expected Answer: George Clooney's musk.\n",
      "\n",
      "\n",
      "_. High five, bro.\n",
      "Least Expected Answer: A windmill full of corpses.\n",
      "Most Expected Answer: Getting really high.\n",
      "\n",
      "\n",
      "During sex, I like to think about _.\n",
      "Least Expected Answer: Growing a pair.\n",
      "Most Expected Answer: Not having sex.\n",
      "\n",
      "\n",
      "What did I bring back from Mexico?\n",
      "Least Expected Answer: Moral ambiguity.\n",
      "Most Expected Answer: Fucking a corpse back to life.\n",
      "\n",
      "\n",
      "What are my parents hiding from me?\n",
      "Least Expected Answer: China.\n",
      "Most Expected Answer: Dead parents.\n",
      "\n",
      "\n",
      "What will always get you laid?\n",
      "Least Expected Answer: Christopher Walken.\n",
      "Most Expected Answer: Bees?\n",
      "\n",
      "\n",
      "What would grandma find disturbing, yet oddly charming?\n",
      "Least Expected Answer: Watching you die.\n",
      "Most Expected Answer: Grandma.\n",
      "\n",
      "\n",
      "What did the U.S. airdrop to the children of Afghanistan?\n",
      "Least Expected Answer: Passive-aggressive Post-it notes.\n",
      "Most Expected Answer: African children.\n",
      "\n",
      "\n",
      "What helps Obama unwind?\n",
      "Least Expected Answer: Leprosy.\n",
      "Most Expected Answer: Daddy's belt.\n",
      "\n",
      "\n",
      "What's there a ton of in heaven?\n",
      "Least Expected Answer: Rubbing my bush all over your bald head.\n",
      "Most Expected Answer: Bees?\n",
      "\n",
      "\n",
      "Major League Baseball has banned _ for giving players an unfair advantage.\n",
      "Least Expected Answer: China.\n",
      "Most Expected Answer: Hot people.\n",
      "\n",
      "\n",
      "When I am a billionaire, I shall erect a 50-foot statue to commemorate _.\n",
      "Least Expected Answer: Fear itself.\n",
      "Most Expected Answer: Blowing some dudes in an alley.\n",
      "\n",
      "\n",
      "What's the new fad diet?\n",
      "Least Expected Answer: A 55-gallon drum of lube.\n",
      "Most Expected Answer: Mom's new boyfriend.\n",
      "\n",
      "\n",
      "When I am the President of the United States, I will create the Department of _.\n",
      "Least Expected Answer: Ominous background music.\n",
      "Most Expected Answer: Becoming the President of the United States.\n",
      "\n",
      "\n",
      "_. It's a trap!\n",
      "Least Expected Answer: A subscription to Men's Fitness.\n",
      "Most Expected Answer: BATMAN!!!\n",
      "\n",
      "\n",
      "How am I maintaining my relationship status?\n",
      "Least Expected Answer: China.\n",
      "Most Expected Answer: My relationship status.\n",
      "\n",
      "\n",
      "What will I bring back in time to convince people that I am a powerful wizard?\n",
      "Least Expected Answer: Nubile slave boys.\n",
      "Most Expected Answer: Brown people.\n",
      "\n",
      "\n",
      "While the United States raced the Soviet Union to the moon, the Mexican government funneled millions of pesos into research on _.\n",
      "Least Expected Answer: Objectifying women.\n",
      "Most Expected Answer: Becoming the President of the United States.\n",
      "\n",
      "\n",
      "Coming to Broadway this season, _: The Musical.\n",
      "Least Expected Answer: Britney Spears at 55.\n",
      "Most Expected Answer: A middle-aged man on roller skates.\n",
      "\n",
      "\n",
      "What's my secret power?\n",
      "Least Expected Answer: Crazy anal orgasms.\n",
      "Most Expected Answer: Power.\n",
      "\n",
      "\n",
      "What gives me uncontrollable gas?\n",
      "Least Expected Answer: A dollop of sour cream.\n",
      "Most Expected Answer: Bees?\n",
      "\n",
      "\n",
      "But before I kill you, Mr. Bond, I must show you _.\n",
      "Least Expected Answer: Foreskin.\n",
      "Most Expected Answer: Cute boys.\n",
      "\n",
      "\n",
      "What never fails to liven up the party?\n",
      "Least Expected Answer: Sean Penn.\n",
      "Most Expected Answer: Never having sex again.\n",
      "\n",
      "\n",
      "What am I giving up for Lent?\n",
      "Least Expected Answer: 10,000 shrieking teenage girls.\n",
      "Most Expected Answer: Giving 110%.\n",
      "\n",
      "\n",
      "What do old people smell like? \n",
      "Least Expected Answer: Porn stars.\n",
      "Most Expected Answer: Moon people.\n",
      "\n",
      "\n",
      "The class field trip was completely ruined by _.\n",
      "Least Expected Answer: Two midgets shitting into a bucket.\n",
      "Most Expected Answer: Deez nuts.\n",
      "\n",
      "\n",
      "When Pharaoh remained unmoved, Moses called down a plague of _.\n",
      "Least Expected Answer: Forty-five minutes of finger blasting.\n",
      "Most Expected Answer: Ripping into a man's chest and pulling out his still-beating heart.\n",
      "\n",
      "\n",
      "I do not know with which weapons World War III will be fought, but World War IV will be fought with _.\n",
      "Least Expected Answer: Tasteful sideboob.\n",
      "Most Expected Answer: World peace.\n",
      "\n",
      "\n",
      "What's Teach for America using to inspire inner city students to succeed?\n",
      "Least Expected Answer: Taking the form of a falcon.\n",
      "Most Expected Answer: Amputees.\n",
      "\n",
      "\n",
      "In Michael Jackson's final moments, he thought about _.\n",
      "Least Expected Answer: Flesh-eating bacteria.\n",
      "Most Expected Answer: Michael Jackson.\n",
      "\n",
      "\n",
      "Why do I hurt all over?\n",
      "Least Expected Answer: Tender chunks of all-white-meat chicken.\n",
      "Most Expected Answer: Bees?\n",
      "\n",
      "\n",
      "Studies show that lab rats navigate mazes 50% faster after being exposed to _.\n",
      "Least Expected Answer: Being turned into sausages.\n",
      "Most Expected Answer: Erectile dysfunction.\n",
      "\n",
      "\n",
      "Why am I sticky?\n",
      "Least Expected Answer: Public ridicule.\n",
      "Most Expected Answer: Bees?\n",
      "\n",
      "\n",
      "What's my anti-drug?\n",
      "Least Expected Answer: The male gaze.\n",
      "Most Expected Answer: Bees?\n",
      "\n",
      "\n",
      "And the Academy Award for _ goes to _.\n",
      "Least Expected Answer: Assless chaps.\n",
      "Most Expected Answer: Ripping into a man's chest and pulling out his still-beating heart.\n",
      "\n",
      "\n",
      "For my next trick, I will pull _ out of _.\n",
      "Least Expected Answer: Deflowering the princess.\n",
      "Most Expected Answer: Swooping.\n",
      "\n",
      "\n",
      "_: Good to the last drop.\n",
      "Least Expected Answer: Hope.\n",
      "Most Expected Answer: A good sniff.\n",
      "\n",
      "\n",
      "What did Vin Diesel eat for dinner?\n",
      "Least Expected Answer: Social justice warriors with flamethrowers of compassion.\n",
      "Most Expected Answer: George Clooney's musk.\n",
      "\n",
      "\n",
      "_: kid-tested, mother-approved.\n",
      "Least Expected Answer: Misogyny.\n",
      "Most Expected Answer: Dining with cardboard cutouts of the cast of \"Friends.\"\n",
      "\n",
      "\n",
      "What gets better with age?\n",
      "Least Expected Answer: Social justice warriors with flamethrowers of compassion.\n",
      "Most Expected Answer: Being popular and good at sports.\n",
      "\n",
      "\n",
      "I never truly understood _ until I encountered _.\n",
      "Least Expected Answer: Grave robbing.\n",
      "Most Expected Answer: Nubile slave boys.\n",
      "\n",
      "\n",
      "Rumor has it that Vladimir Putin's favorite delicacy is _ stuffed with _.\n",
      "Least Expected Answer: Math.\n",
      "Most Expected Answer: Ripping into a man's chest and pulling out his still-beating heart.\n",
      "\n",
      "\n",
      "Lifetime&reg; presents _, the story of _.\n",
      "Least Expected Answer: Hope.\n",
      "Most Expected Answer: Whatever a McRib&reg; is made of.\n",
      "\n",
      "\n",
      "Make a haiku.\n",
      "Least Expected Answer: Catapults.\n",
      "Most Expected Answer: Getting blasted in the face by a t-shirt cannon.\n",
      "\n",
      "\n",
      "In M. Night Shyamalan's new movie, Bruce Willis discovers that _ had really been _ all along.\n",
      "Least Expected Answer: Overpowering your father.\n",
      "Most Expected Answer: Gwyneth Paltrow's opinions.\n",
      "\n",
      "\n",
      "_ is a slippery slope that leads to _.\n",
      "Least Expected Answer: Hope.\n",
      "Most Expected Answer: Playing my asshole like a trumpet.\n",
      "\n",
      "\n",
      "In a world ravaged by _, our only solace is _.\n",
      "Least Expected Answer: Filling every orifice with butterscotch pudding.\n",
      "Most Expected Answer: The World of Warcraft.\n",
      "\n",
      "\n",
      "That's right, I killed _. How, you ask? _.\n",
      "Least Expected Answer: Eating all of the cookies before the AIDS bake-sale.\n",
      "Most Expected Answer: Bees?\n",
      "\n",
      "\n",
      "When I was tripping on acid, _ turned into _.\n",
      "Least Expected Answer: Kanye West.\n",
      "Most Expected Answer: A pizza guy who fucked up.\n",
      "\n",
      "\n",
      "What's the next superhero/sidekick duo?\n",
      "Least Expected Answer: The South.\n",
      "Most Expected Answer: Bees?\n",
      "\n",
      "\n",
      "Dear Abby,<br><br>I'm having some trouble with _ and would like your advice.\n",
      "Least Expected Answer: The primal, ball-slapping sex your parents are having right now.\n",
      "Most Expected Answer: Prince Ali,<br>fabulous he,<br>Ali Ababwa.\n",
      "\n",
      "\n",
      "After the earthquake, Sean Penn brought _ to the people of Haiti.\n",
      "Least Expected Answer: Dominating a man by peeing on his eldest son.\n",
      "Most Expected Answer: Sean Penn.\n",
      "\n",
      "\n",
      "In L.A. County Jail, word is you can trade 200 cigarettes for _.\n",
      "Least Expected Answer: The full force of the American military.\n",
      "Most Expected Answer: Velcro&trade;.\n",
      "\n",
      "\n",
      "Maybe she's born with it. Maybe it's _.\n",
      "Least Expected Answer: Getting naked too soon.\n",
      "Most Expected Answer: A bunch of idiots playing a card game instead of interacting like normal humans.\n",
      "\n",
      "\n",
      "Life for American Indians was forever changed when the White Man introduced them to _.\n",
      "Least Expected Answer: YOU MUST CONSTRUCT ADDITIONAL PYLONS.\n",
      "Most Expected Answer: Daddy going away forever.\n",
      "\n",
      "\n",
      "Next on ESPN2, the World Series of _.\n",
      "Least Expected Answer: Auschwitz.\n",
      "Most Expected Answer: The World of Warcraft.\n",
      "\n",
      "\n",
      "Step 1: _. Step 2: _. Step 3: Profit.\n",
      "Least Expected Answer: Chugging a lava lamp.\n",
      "Most Expected Answer: Every man's ultimate fantasy: a perfectly cylindrical vagina.\n",
      "\n",
      "\n",
      "Here is the church<br>Here is the steeple<br>Open the doors<br>And there is _.\n",
      "Least Expected Answer: Forty-five minutes of finger blasting.\n",
      "Most Expected Answer: Prince Ali,<br>fabulous he,<br>Ali Ababwa.\n",
      "\n",
      "\n",
      "How did I lose my virginity?\n",
      "Least Expected Answer: Sean Penn.\n",
      "Most Expected Answer: Bees?\n",
      "\n",
      "\n",
      "During his childhood, Salvador Dal&iacute; produced hundreds of paintings of _.\n",
      "Least Expected Answer: The glass ceiling.\n",
      "Most Expected Answer: Viagra&reg;.\n",
      "\n",
      "\n",
      "In 1,000 years, when paper money is a distant memory, how will we pay for goods and services?\n",
      "Least Expected Answer: The flaming wreckage of the International Space Station.\n",
      "Most Expected Answer: Genital piercings.\n",
      "\n",
      "\n",
      "What don't you want to find in your Kung Pao chicken?\n",
      "Least Expected Answer: Crying into the pages of Sylvia Plath.\n",
      "Most Expected Answer: Bees?\n",
      "\n",
      "\n",
      "The Smithsonian Museum of Natural History has just opened an exhibit on _.\n",
      "Least Expected Answer: Overpowering your father.\n",
      "Most Expected Answer: An uninterrupted history of imperialism and exploitation.\n",
      "\n",
      "\n",
      "Daddy, why is Mommy crying?\n",
      "Least Expected Answer: Child support payments.\n",
      "Most Expected Answer: Mommy and daddy fighting all the time.\n",
      "\n",
      "\n",
      "What brought the orgy to a grinding halt?\n",
      "Least Expected Answer: Getting trapped in a conversation about Ayn Rand.\n",
      "Most Expected Answer: The penny whistle solo from \"My Heart Will Go On.\"\n",
      "\n",
      "\n",
      "When I pooped, what came out of my butt?\n",
      "Least Expected Answer: The Fanta&reg; girls.\n",
      "Most Expected Answer: A finger up the butt.\n",
      "\n",
      "\n",
      "In the distant future, historians will agree that _ marked the beginning of America's decline.\n",
      "Least Expected Answer: The placenta.\n",
      "Most Expected Answer: Taking a man's eyes and balls out and putting his eyes where his balls go and then his balls in the eye holes.\n",
      "\n",
      "\n",
      "What's the gift that keeps on giving?\n",
      "Least Expected Answer: Child support payments.\n",
      "Most Expected Answer: Giving 110%.\n",
      "\n",
      "\n",
      "This season on Man vs. Wild, Bear Grylls must survive in the depths of the Amazon with only _ and his wits.\n",
      "Least Expected Answer: Gayle from HR.\n",
      "Most Expected Answer: Three months in the hole.\n",
      "\n",
      "\n",
      "Michael Bay's new three-hour action epic pits _ against _.\n",
      "Least Expected Answer: The glass ceiling.\n",
      "Most Expected Answer: Seeing things from Hitler's perspective\n",
      "\n",
      "\n",
      "And I would have gotten away with it, too, if it hadn't been for _!\n",
      "Least Expected Answer: Grunting for ten minutes and then peeing sand.\n",
      "Most Expected Answer: What Jesus would do.\n",
      "\n",
      "\n",
      "In a pinch, _ can be a suitable substitute for _.\n",
      "Least Expected Answer: Hope.\n",
      "Most Expected Answer: Hot cheese.\n",
      "\n",
      "\n",
      "What has been making life difficult at the nudist colony?\n",
      "Least Expected Answer: The graceful path of an autumn leaf as it falls to its earthen cradle.\n",
      "Most Expected Answer: My sex life.\n",
      "\n",
      "\n",
      "Science will never explain the origin of _.\n",
      "Least Expected Answer: The complex geopolitical quagmire that is the Middle East.\n",
      "Most Expected Answer: Never having sex again.\n",
      "\n",
      "\n",
      "In Rome, there are whisperings that the Vatican has a secret room devoted to _.\n",
      "Least Expected Answer: No longer finding any Cards Against Humanity card funny.\n",
      "Most Expected Answer: The Force.\n",
      "\n",
      "\n",
      "I learned the hard way that you can't cheer up a grieving friend with _.\n",
      "Least Expected Answer: Slow motion.\n",
      "Most Expected Answer: A black friend.\n",
      "\n",
      "\n",
      "When all else fails, I can always masturbate to _.\n",
      "Least Expected Answer: Grunting for ten minutes and then peeing sand.\n",
      "Most Expected Answer: Forgetting grandma's first name.\n",
      "\n",
      "\n",
      "An international tribunal has found _ guilty of _.\n",
      "Least Expected Answer: Getting abducted by Peter Pan.\n",
      "Most Expected Answer: Daddy's belt.\n",
      "\n",
      "\n",
      "In its new tourism campaign, Detroit proudly proclaims that it has finally eliminated _.\n",
      "Least Expected Answer: A big, beautiful mouth packed to the brim with sparkling teeth.\n",
      "Most Expected Answer: Vegetarian options.\n",
      "\n",
      "\n",
      "In his new self-produced album, Kanye West raps over the sounds of _.\n",
      "Least Expected Answer: A Burmese tiger pit.\n",
      "Most Expected Answer: Kanye West.\n",
      "\n",
      "\n",
      "The socialist governments of Scandinavia have declared that access to _ is a basic human right.\n",
      "Least Expected Answer: The eighth graders.\n",
      "Most Expected Answer: The violation of our most basic human rights.\n",
      "\n",
      "\n",
      "He who controls _ controls the world.\n",
      "Least Expected Answer: Misogyny.\n",
      "Most Expected Answer: World peace.\n",
      "\n",
      "\n",
      "Dear Sir or Madam, We regret to inform you that the Office of _ has denied your request for _.\n",
      "Least Expected Answer: The Great Depression.\n",
      "Most Expected Answer: Hot cheese.\n",
      "\n",
      "\n",
      "The CIA now interrogates enemy agents by repeatedly subjecting them to _.\n",
      "Least Expected Answer: Grunting for ten minutes and then peeing sand.\n",
      "Most Expected Answer: Hot lettuce.\n",
      "\n",
      "\n",
      "_ would be woefully incomplete without _.\n",
      "Least Expected Answer: Overpowering your father.\n",
      "Most Expected Answer: The Force.\n",
      "\n",
      "\n",
      "During his midlife crisis, my dad got really into _.\n",
      "Least Expected Answer: A sausage festival.\n",
      "Most Expected Answer: Mixing M&Ms and Skittles like some kind of psychopath.\n",
      "\n",
      "\n",
      "Before I run for president, I must destroy all evidence of my involvement with _.\n",
      "Least Expected Answer: A sausage festival.\n",
      "Most Expected Answer: Destroying the evidence.\n",
      "\n",
      "\n",
      "My new favorite porn star is Joey \"_\" McGee.\n",
      "Least Expected Answer: Child support payments.\n",
      "Most Expected Answer: The color \"puce\".\n",
      "\n",
      "\n",
      "In his newest and most difficult stunt, David Blaine must escape from _.\n",
      "Least Expected Answer: Getting naked too soon.\n",
      "Most Expected Answer: Our new Buffalo Chicken Dippers&reg;!\n",
      "\n",
      "\n",
      "This is your captain speaking. Fasten your seatbelts and prepare for _.\n",
      "Least Expected Answer: Assless chaps.\n",
      "Most Expected Answer: Mouth herpes.\n",
      "\n",
      "\n",
      "My mom freaked out when she looked at my browser history and found _.com/_.\n",
      "Least Expected Answer: Silence.\n",
      "Most Expected Answer: September 11th, 2001.\n",
      "\n",
      "\n",
      "The Five Stages of Grief: denial, anger, bargaining, _, acceptance.\n",
      "Least Expected Answer: Necrophilia.\n",
      "Most Expected Answer: Feeling the emotion of anger.\n",
      "\n",
      "\n",
      "Members of New York's social elite are paying thousands of dollars just to experience _.\n",
      "Least Expected Answer: Forty-five minutes of finger blasting.\n",
      "Most Expected Answer: Ripping into a man's chest and pulling out his still-beating heart.\n",
      "\n",
      "\n",
      "I went from _ to _, all thanks to _.\n",
      "Least Expected Answer: Hope.\n",
      "Most Expected Answer: Salsa Night at Dave's Cantina.\n",
      "\n",
      "\n",
      "Little Miss Muffet Sat on a tuffet, Eating her curds and _.\n",
      "Least Expected Answer: Turning 32.\n",
      "Most Expected Answer: Eating people.\n",
      "\n",
      "\n",
      "This month's Cosmo: \"Spice up your sex life by bringing _ into the bedroom.\"\n",
      "Least Expected Answer: All of this blood.\n",
      "Most Expected Answer: Dining with cardboard cutouts of the cast of \"Friends.\"\n",
      "\n",
      "\n",
      "If God didn't want us to enjoy _, he wouldn't have given us _.\n",
      "Least Expected Answer: Teenage pregnancy.\n",
      "Most Expected Answer: Western standards of beauty.\n",
      "\n",
      "\n",
      "My country, 'tis of thee, sweet land of _.\n",
      "Least Expected Answer: Auschwitz.\n",
      "Most Expected Answer: Sweet, sweet vengeance.\n",
      "\n",
      "\n",
      "After months of debate, the Occupy Wall Street General Assembly could only agree on \"More _!\"\n",
      "Least Expected Answer: Assless chaps.\n",
      "Most Expected Answer: When the big truck goes \"Toot! Toot!\"\n",
      "\n",
      "\n",
      "I spent my whole life working toward _, only to have it ruined by _.\n",
      "Least Expected Answer: Enormous Scandinavian women.\n",
      "Most Expected Answer: A subscription to Men's Fitness.\n",
      "\n",
      "\n",
      "Next time on Dr. Phil: How to talk to your child about _.\n",
      "Least Expected Answer: Critical thinking.\n",
      "Most Expected Answer: Child beauty pageants.\n",
      "\n",
      "\n",
      "Only two things in life are certain: death and _.\n",
      "Least Expected Answer: The glass ceiling.\n",
      "Most Expected Answer: Ripping into a man's chest and pulling out his still-beating heart.\n",
      "\n",
      "\n",
      "Everyone down on the ground! We don't want to hurt anyone. We're just here for _.\n",
      "Least Expected Answer: Suicidal thoughts.\n",
      "Most Expected Answer: BATMAN!!!\n",
      "\n",
      "\n",
      "The healing process began when I joined a support group for victims of _.\n",
      "Least Expected Answer: Deflowering the princess.\n",
      "Most Expected Answer: A good sniff.\n",
      "\n",
      "\n",
      "The votes are in, and the new high school mascot is _.\n",
      "Least Expected Answer: Full frontal nudity.\n",
      "Most Expected Answer: Going to a high school reunion on ketamine.\n",
      "\n",
      "\n",
      "Charades was ruined for me forever when my mom had to act out _.\n",
      "Least Expected Answer: Nunchuck moves.\n",
      "Most Expected Answer: Fingering.\n",
      "\n",
      "\n",
      "Tonight on 20/20: What you don't know about _ could kill you.\n",
      "Least Expected Answer: A sausage festival.\n",
      "Most Expected Answer: The Little Engine That Could.\n",
      "\n",
      "\n",
      "You haven't truly lived until you've experienced _ and _ at the same time.\n",
      "Least Expected Answer: Getting naked too soon.\n",
      "Most Expected Answer: Forgetting grandma's first name.\n",
      "\n",
      "\n",
      "Hey baby, come back to my place and I'll show you _.\n",
      "Least Expected Answer: A big ol' plate of fettuccine alfredo.\n",
      "Most Expected Answer: Roland the Farter, flatulist to the king.\n",
      "\n",
      "\n",
      "My gym teacher got fired for adding _ to the obstacle course.\n",
      "Least Expected Answer: Edible underpants.\n",
      "Most Expected Answer: Taking a man's eyes and balls out and putting his eyes where his balls go and then his balls in the eye holes.\n",
      "\n",
      "\n",
      "Finally! A service that delivers _ right to your door.\n",
      "Least Expected Answer: Dry heaving.\n",
      "Most Expected Answer: BATMAN!!!\n",
      "\n",
      "\n",
      "To prepare for his upcoming role, Daniel Day-Lewis immersed himself in the world of _.\n",
      "Least Expected Answer: Blackula.\n",
      "Most Expected Answer: Consensual, nonreproductive incest.\n",
      "\n",
      "\n",
      "My life is ruled by a vicious cycle of _ and _.\n",
      "Least Expected Answer: Almost giving money to a homeless person.\n",
      "Most Expected Answer: Ripping into a man's chest and pulling out his still-beating heart.\n",
      "\n",
      "\n",
      "During high school, I never really fit in until I found _ club.\n",
      "Least Expected Answer: Cheating in the Special Olympics.\n",
      "Most Expected Answer: Getting really high.\n",
      "\n",
      "\n",
      "Money can't buy me love, but it can buy me _.\n",
      "Least Expected Answer: Letting everyone down.\n",
      "Most Expected Answer: Ancient Athenian boy-fucking\n",
      "\n",
      "\n",
      "Listen, son. If you want to get involved with _, I won't stop you. Just steer clear of _.\n",
      "Least Expected Answer: Dumpster juice.\n",
      "Most Expected Answer: Bill Nye the Science Guy.\n",
      "\n",
      "\n",
      "A successful job interview begins with a firm handshake and ends with _.\n",
      "Least Expected Answer: Blackface.\n",
      "Most Expected Answer: Incest.\n",
      "\n",
      "\n",
      "Call the law offices of Goldstein &amp; Goldstein, because no one should have to tolerate _ in the workplace.\n",
      "Least Expected Answer: A sausage festival.\n",
      "Most Expected Answer: The Abercrombie &amp; Fitch lifestyle.\n",
      "\n",
      "\n",
      "Lovin' you is easy 'cause you're _.\n",
      "Least Expected Answer: A cop who is also a dog.\n",
      "Most Expected Answer: Soup that is too hot.\n",
      "\n",
      "\n",
      "The blind date was going horribly until we discovered our shared interest in _.\n",
      "Least Expected Answer: Deflowering the princess.\n",
      "Most Expected Answer: A lamprey swimming up the toilet and latching onto your taint.\n",
      "\n",
      "\n",
      "What left this stain on my couch?\n",
      "Least Expected Answer: The haunting stare of an Iraqi child.\n",
      "Most Expected Answer: Twisting my cock and balls into a balloon poodle.\n",
      "\n",
      "\n",
      "Turns out that _-Man was neither the hero we needed nor wanted.\n",
      "Least Expected Answer: Fingering.\n",
      "Most Expected Answer: Waiting 'til marriage.\n",
      "\n",
      "\n",
      "After months of practice with _, I think I'm finally ready for _.\n",
      "Least Expected Answer: Overpowering your father.\n",
      "Most Expected Answer: Seizing control of the means of production.\n",
      "\n",
      "\n",
      "In the seventh circle of Hell, sinners must endure _ for all eternity.\n",
      "Least Expected Answer: Plowing that ass like a New England corn farmer.\n",
      "Most Expected Answer: Mixing M&Ms and Skittles like some kind of psychopath.\n",
      "\n",
      "\n",
      "As part of his daily regimen, Anderson Cooper sets aside 15 minutes for _.\n",
      "Least Expected Answer: Hot Pockets&reg;.\n",
      "Most Expected Answer: Every man's ultimate fantasy: a perfectly cylindrical vagina.\n",
      "\n",
      "\n",
      "When you get right down to it, _ is just _.\n",
      "Least Expected Answer: A nuanced critique.\n",
      "Most Expected Answer: Doing the right thing.\n",
      "\n",
      "\n",
      "Having problems with _? Try _!\n",
      "Least Expected Answer: Grunting for ten minutes and then peeing sand.\n",
      "Most Expected Answer: Bees?\n",
      "\n",
      "\n",
      "And what did <i>you</i> bring for show and tell?\n",
      "Least Expected Answer: The Boy Scouts of America.\n",
      "Most Expected Answer: An all-midget production of Shakespeare's <i>Richard III</i>.\n",
      "\n",
      "\n",
      "I'm not like the rest of you. I'm too rich and busy for _.\n",
      "Least Expected Answer: Throwing a virgin into a volcano.\n",
      "Most Expected Answer: Being rich.\n",
      "\n",
      "\n",
      "With enough time and pressure, _ will turn into _.\n",
      "Least Expected Answer: That ass.\n",
      "Most Expected Answer: The Force.\n",
      "\n",
      "\n",
      "_: Hours of fun. Easy to use. Perfect for _!\n",
      "Least Expected Answer: Misogyny.\n",
      "Most Expected Answer: Surprise sex!\n",
      "\n",
      "\n",
      "_. Awesome in theory, kind of a mess in practice.\n",
      "Least Expected Answer: Republicans.\n",
      "Most Expected Answer: A hot mess.\n",
      "\n",
      "\n",
      "As part of his contract, Prince won't perform without _ in his dressing room.\n",
      "Least Expected Answer: Child support payments.\n",
      "Most Expected Answer: Bees?\n",
      "\n",
      "\n",
      "Man, this is bullshit. Fuck _.\n",
      "Least Expected Answer: The heart of a child.\n",
      "Most Expected Answer: An older man.\n",
      "\n",
      "\n",
      "Dear Leader Kim Jong-un,<br>our village praises your infinite wisdom with a humble offering of _.\n",
      "Least Expected Answer: Finding Waldo.\n",
      "Most Expected Answer: Prince Ali,<br>fabulous he,<br>Ali Ababwa.\n",
      "\n",
      "\n",
      "_ may pass, but _ will last forever.\n",
      "Least Expected Answer: A duffel bag full of lizards.\n",
      "Most Expected Answer: Gwyneth Paltrow's opinions.\n",
      "\n",
      "\n",
      "She's up all night for good fun.<br>I'm up all night for _.\n",
      "Least Expected Answer: The American Dream.\n",
      "Most Expected Answer: Prince Ali,<br>fabulous he,<br>Ali Ababwa.\n",
      "\n",
      "\n",
      "Alright, bros. Our frat house is condemned, and all the hot slampieces are over at Gamma Phi. The time has come to commence Operation _.\n",
      "Least Expected Answer: A disappointing salad.\n",
      "Most Expected Answer: Hot lettuce.\n",
      "\n",
      "\n",
      "The Japanese have developed a smaller, more efficient version of _.\n",
      "Least Expected Answer: Restoring Germany to its former glory.\n",
      "Most Expected Answer: Graphic violence, adult language, and some sexual content.\n",
      "\n",
      "\n",
      "In return for my soul, the Devil promised me _, but all I got was _.\n",
      "Least Expected Answer: Full frontal nudity.\n",
      "Most Expected Answer: My soul.\n",
      "\n",
      "\n",
      "You guys, I saw this crazy movie last night. It opens on _, and then there's some stuff about _, and then it ends with _.\n",
      "Least Expected Answer: Almost giving money to a homeless person.\n",
      "Most Expected Answer: Salsa Night at Dave's Cantina.\n",
      "\n",
      "\n",
      "_ will never be the same after _.\n",
      "Least Expected Answer: Hope.\n",
      "Most Expected Answer: Swooping.\n",
      "\n",
      "\n",
      "Wes Anderson's new film tells the story of a precocious child coming to terms with _.\n",
      "Least Expected Answer: The economy.\n",
      "Most Expected Answer: A man in a suit with perfect hair who tells you beautiful lies.\n",
      "\n",
      "\n",
      "In the beginning, there was _.<br>And the Lord said, \"Let there be _.\"\n",
      "Least Expected Answer: A finger up the butt.\n",
      "Most Expected Answer: Prince Ali,<br>fabulous he,<br>Ali Ababwa.\n",
      "\n",
      "\n",
      "What's fun until it gets weird?\n",
      "Least Expected Answer: Passive-aggressive Post-it notes.\n",
      "Most Expected Answer: Bees?\n",
      "\n",
      "\n",
      "We never did find _, but along the way we sure learned a lot about _.\n",
      "Least Expected Answer: Hope.\n",
      "Most Expected Answer: Gwyneth Paltrow's opinions.\n",
      "\n",
      "\n",
      "You've seen the bearded lady!<br>You've seen the ring of fire!<br>Now, ladies and gentlemen, feast your eyes upon _!\n",
      "Least Expected Answer: Forty-five minutes of finger blasting.\n",
      "Most Expected Answer: Prince Ali,<br>fabulous he,<br>Ali Ababwa.\n",
      "\n",
      "\n",
      "How am I compensating for my tiny penis?\n",
      "Least Expected Answer: A spontaneous conga line.\n",
      "Most Expected Answer: Tiny nipples.\n",
      "\n",
      "\n",
      "I'm sorry, sir, but we don't allow _ at the country club.\n",
      "Least Expected Answer: Content.\n",
      "Most Expected Answer: Being a motherfucking sorcerer.\n",
      "\n",
      "\n",
      "2 AM in the city that never sleeps. The door swings open and <i>she</i> walks in, legs up to here. Something in her eyes tells me she's looking for _.\n",
      "Least Expected Answer: An M16 assault rifle.\n",
      "Most Expected Answer: An all-midget production of Shakespeare's <i>Richard III</i>.\n",
      "\n",
      "\n",
      "As king, how will I keep the peasants in line?\n",
      "Least Expected Answer: Tiny, rancid girl farts.\n",
      "Most Expected Answer: Bees?\n",
      "\n",
      "\n",
      "Oprah's book of the month is \"_ For _: A Story of Hope.\"\n",
      "Least Expected Answer: Turning 32.\n",
      "Most Expected Answer: Dining with cardboard cutouts of the cast of \"Friends.\"\n",
      "\n",
      "\n",
      "Do <i>not</i> fuck with me! I am literally _ right now.\n",
      "Least Expected Answer: Drinking responsibly.\n",
      "Most Expected Answer: An all-midget production of Shakespeare's <i>Richard III</i>.\n",
      "\n",
      "\n",
      "Adventure.<br>Romance.<br>_.<br><br>From Paramount Pictures, \"_.\"\n",
      "Least Expected Answer: Forty-five minutes of finger blasting.\n",
      "Most Expected Answer: Prince Ali,<br>fabulous he,<br>Ali Ababwa.\n",
      "\n",
      "\n",
      "I am become _, destroyer of _!\n",
      "Least Expected Answer: A duffel bag full of lizards.\n",
      "Most Expected Answer: BATMAN!!!\n",
      "\n",
      "\n",
      "It lurks in the night. It hungers for flesh. This summer, no one is safe from _.\n",
      "Least Expected Answer: Critical thinking.\n",
      "Most Expected Answer: One unforgettable night of passion.\n",
      "\n",
      "\n",
      "If you can't handle _, you'd better stay away from _.\n",
      "Least Expected Answer: Hope.\n",
      "Most Expected Answer: Being popular and good at sports.\n",
      "\n",
      "\n",
      "This is the prime of my life. I'm young, hot, and full of _.\n",
      "Least Expected Answer: Objectifying women.\n",
      "Most Expected Answer: Hot cheese.\n",
      "\n",
      "\n",
      "I'm pretty sure I'm high right now, because I'm absolutely mesmerized by _.\n",
      "Least Expected Answer: Content.\n",
      "Most Expected Answer: The amount of gay I am.\n",
      "\n",
      "\n",
      "This year's hottest album is \"_\" by _.\n",
      "Least Expected Answer: Child support payments.\n",
      "Most Expected Answer: The color \"puce\".\n",
      "\n",
      "\n",
      "Every step towards _ gets me a little closer to _.\n",
      "Least Expected Answer: Chugging a lava lamp.\n",
      "Most Expected Answer: Swooping.\n",
      "\n",
      "\n",
      "Forget everything you know about _, because now we've supercharged it with _!\n",
      "Least Expected Answer: Walking into a glass door.\n",
      "Most Expected Answer: Oil!\n",
      "\n",
      "\n",
      "Honey, I have a new role-play I want to try tonight! You can be _, and I'll be _.\n",
      "Least Expected Answer: Kanye West.\n",
      "Most Expected Answer: BATMAN!!!\n",
      "\n",
      "\n",
      "Do the Dew &reg; with our most extreme flavor yet! Get ready for Mountain Dew _!\n",
      "Least Expected Answer: Space muffins.\n",
      "Most Expected Answer: Whatever a McRib&reg; is made of.\n",
      "\n",
      "\n",
      "Armani suit: $1,000. Dinner for two at that swanky restaurant: $300. The look on her face when you surprise her with _: priceless.\n",
      "Least Expected Answer: A finger up the butt.\n",
      "Most Expected Answer: My dad's dumb fucking face.\n",
      "\n",
      "\n",
      "In his new action comedy, Jackie Chan must fend off ninjas while also dealing with _.\n",
      "Least Expected Answer: Gloryholes.\n",
      "Most Expected Answer: Denying the Holocaust.\n",
      "\n",
      "\n",
      "Well what do you have to say for yourself, Casey? This is the third time you've been sent to the principal's office for _.\n",
      "Least Expected Answer: An X-Man whose power is that he has sex with dogs and children.\n",
      "Most Expected Answer: Me time.\n",
      "\n",
      "\n",
      "Here at the Academy for Gifted Children, we allow students to explore _ at their own pace.\n",
      "Least Expected Answer: The heart of a child.\n",
      "Most Expected Answer: Another goddamn vampire movie.\n",
      "\n",
      "\n",
      "Heed my voice, mortals! I am the god of _, and I will not tolerate _!\n",
      "Least Expected Answer: China.\n",
      "Most Expected Answer: BATMAN!!!\n",
      "\n",
      "\n",
      "I don't mean to brag, but they call me the Michael Jordan of _.\n",
      "Least Expected Answer: A sausage festival.\n",
      "Most Expected Answer: Mixing M&Ms and Skittles like some kind of psychopath.\n",
      "\n",
      "\n",
      "Why am I broke?\n",
      "Least Expected Answer: The homosexual agenda.\n",
      "Most Expected Answer: Bees?\n",
      "\n",
      "\n",
      "Help me doctor, I've got _ in my butt!\n",
      "Least Expected Answer: Party Mexicans.\n",
      "Most Expected Answer: Butt stuff.\n",
      "\n",
      "\n",
      "Hi MTV! My name is Kendra, I live in Malibu, I'm into _, and I love to have a good time.\n",
      "Least Expected Answer: My huge penis and substantial fortune.\n",
      "Most Expected Answer: Being popular and good at sports.\n",
      "\n",
      "\n",
      "Patient presents with _. Likely a result of _.\n",
      "Least Expected Answer: Child support payments.\n",
      "Most Expected Answer: Ripping into a man's chest and pulling out his still-beating heart.\n",
      "\n",
      "\n",
      "Life's pretty tough in the fast lane. That's why I never leave the house without _.\n",
      "Least Expected Answer: Turning the rivers red with the blood of infidels.\n",
      "Most Expected Answer: A subscription to Men's Fitness.\n",
      "\n",
      "\n",
      "What's making things awkward in the sauna?\n",
      "Least Expected Answer: A mouthful of potato salad.\n",
      "Most Expected Answer: Bees?\n",
      "\n",
      "\n",
      "Get ready for the movie of the summer! One cop plays by the book. The other's only interested in one thing: _.\n",
      "Least Expected Answer: Screaming like a maniac.\n",
      "Most Expected Answer: One trillion dollars.\n",
      "\n",
      "\n",
      "Having the worst day EVER. #_\n",
      "Least Expected Answer: The Great Depression.\n",
      "Most Expected Answer: Shitting all over the floor like a bad, bad girl.\n",
      "\n",
      "\n",
      "In his farewell address, George Washington famously warned Americans about the dangers of _.\n",
      "Least Expected Answer: Just the tip.\n",
      "Most Expected Answer: Putting more black people in jail.\n",
      "\n",
      "\n",
      "Don't forget! Beginning this week, Casual Friday will officially become \"_ Friday.\"\n",
      "Least Expected Answer: Child support payments.\n",
      "Most Expected Answer: The color \"puce\".\n",
      "\n",
      "\n",
      "What killed my boner?\n",
      "Least Expected Answer: Social justice warriors with flamethrowers of compassion.\n",
      "Most Expected Answer: Concealing a boner.\n",
      "\n",
      "\n",
      "Yo' mama so fat she _!\n",
      "Least Expected Answer: Forty-five minutes of finger blasting.\n",
      "Most Expected Answer: BATMAN!!!\n",
      "\n",
      "\n",
      "Well if _ is good enough for _, it's good enough for me.\n",
      "Least Expected Answer: Deflowering the princess.\n",
      "Most Expected Answer: Being popular and good at sports.\n",
      "\n",
      "\n",
      "Hi, this is Jim from accounting. We noticed a $1,200 charge labeled \"_\". Can you explain?\n",
      "Least Expected Answer: The South.\n",
      "Most Expected Answer: The penny whistle solo from \"My Heart Will Go On.\"\n",
      "\n",
      "\n",
      "Do you lack energy? Does it sometimes feel like the whole world is _? Zoloft.&reg;\n",
      "Least Expected Answer: Misogyny.\n",
      "Most Expected Answer: Bees?\n",
      "\n",
      "\n",
      "WHOOO! God damn I love _!\n",
      "Least Expected Answer: Trevor, the world's greatest boyfriend.\n",
      "Most Expected Answer: BATMAN!!!\n",
      "\n",
      "\n",
      "Now in bookstores: \"The Audacity of _\", by Barack Obama.\n",
      "Least Expected Answer: Centaurs.\n",
      "Most Expected Answer: The color \"puce\".\n",
      "\n",
      "\n",
      "And today's soup is Cream of _.\n",
      "Least Expected Answer: Almost giving money to a homeless person.\n",
      "Most Expected Answer: Soup that is too hot.\n",
      "\n",
      "\n",
      "I work my ass off all day for this family, and this is what I come home to? _!?\n",
      "Least Expected Answer: The homosexual agenda.\n",
      "Most Expected Answer: Bees?\n",
      "\n",
      "\n",
      "I have a strict policy. First date, dinner. Second date, kiss. Third date, _.\n",
      "Least Expected Answer: Slow motion.\n",
      "Most Expected Answer: Dining with cardboard cutouts of the cast of \"Friends.\"\n",
      "\n",
      "\n",
      "When I was a kid, we used to play Cowboys and _.\n",
      "Least Expected Answer: Child labor.\n",
      "Most Expected Answer: A sweet spaceship.\n",
      "\n",
      "\n",
      "This is America. If you don't work hard, you don't succeed. I don't care if you're black, white, purple, or _.\n",
      "Least Expected Answer: Rising from the grave.\n",
      "Most Expected Answer: A big black dick.\n",
      "\n",
      "\n",
      "You Won't Believe These 15 Hilarious _ Bloopers!\n",
      "Least Expected Answer: Preteens.\n",
      "Most Expected Answer: BATMAN!!!\n",
      "\n",
      "\n",
      "James is a lonely boy. But when he discovers a secret door in his attic, he meets a magical new friend: _.\n",
      "Least Expected Answer: Nipple blades.\n",
      "Most Expected Answer: A man who is so cool that he rides on a motorcycle.\n",
      "\n",
      "\n",
      "Don't worry kid. It gets better. I've been living with _ for 20 years.\n",
      "Least Expected Answer: Heteronormativity.\n",
      "Most Expected Answer: All these people I've killed.\n",
      "\n",
      "\n",
      "My grandfather worked his way up from nothing. When he came to this country, all he had was the shoes on his feet and _.\n",
      "Least Expected Answer: Chipotle.\n",
      "Most Expected Answer: Nothing.\n"
     ]
    },
    {
     "name": "stdout",
     "output_type": "stream",
     "text": [
      "\n",
      "\n",
      "Behind every powerful man is _.\n",
      "Least Expected Answer: Eating ass.\n",
      "Most Expected Answer: Meatloaf, the man.\n",
      "\n",
      "\n",
      "You are not alone. Millions of Americans struggle with _ every day.\n",
      "Least Expected Answer: A spontaneous conga line.\n",
      "Most Expected Answer: Becoming the President of the United States.\n",
      "\n",
      "\n",
      "Come to Dubai, where you can relax in our world famous spas, experience the nightlife, or simply enjoy _ by the poolside.\n",
      "Least Expected Answer: Getting pegged.\n",
      "Most Expected Answer: Fucking my therapist.\n",
      "\n",
      "\n",
      "\"This is madness.\" \"No, THIS IS _!\"\n",
      "Least Expected Answer: Child support payments.\n",
      "Most Expected Answer: The color \"puce\".\n",
      "\n",
      "\n",
      "Listen Gary, I like you. But if you want that corner office, you're going to have to show me _.\n",
      "Least Expected Answer: Foreskin.\n",
      "Most Expected Answer: A bunch of idiots playing a card game instead of interacting like normal humans.\n",
      "\n",
      "\n",
      "I went to the desert and ate of the peyote cactus. Turns out my spirit animal is _.\n",
      "Least Expected Answer: Sharing needles.\n",
      "Most Expected Answer: The hiccups.\n",
      "\n",
      "\n",
      "And would you like those buffalo wings mild, hot, or _?\n",
      "Least Expected Answer: Eating all of the cookies before the AIDS bake-sale.\n",
      "Most Expected Answer: Mild autism.\n",
      "\n",
      "\n",
      "The six things I could never do without: oxygen, Facebook, chocolate, Netflix, friends, and _ LOL!\n",
      "Least Expected Answer: Jean-Claude Van Damme.\n",
      "Most Expected Answer: Surprise sex!\n",
      "\n",
      "\n",
      "Why won't you make love to me anymore? Is it _?\n",
      "Least Expected Answer: Teenage pregnancy.\n",
      "Most Expected Answer: Bees?\n",
      "\n",
      "\n",
      "Puberty is a time of change. You might notice hair growing in new places. You might develop an interest in _. This is normal.\n",
      "Least Expected Answer: Teenage pregnancy.\n",
      "Most Expected Answer: The secret to truly resilient hair.\n",
      "\n",
      "\n",
      "I'm sorry, Mrs. Chen, but there was nothing we could do. At 4:15 this morning, your son succumbed to _.\n",
      "Least Expected Answer: Jean-Claude Van Damme.\n",
      "Most Expected Answer: Angelheaded hipsters burning for the ancient heavenly connection to the starry dynamo in the machinery of night.\n",
      "\n",
      "\n",
      "I'm Miss Tennessee, and if I could make the world better by changing one thing, I would get rid of _.\n",
      "Least Expected Answer: Calculating every mannerism so as not to suggest homosexuality.\n",
      "Most Expected Answer: Scissoring, if that's a thing.\n",
      "\n",
      "\n",
      "Tonight we will have sex. And afterwards, If you'd like, a little bit of _.\n",
      "Least Expected Answer: 10 Incredible Facts About the Anus.\n",
      "Most Expected Answer: Never having sex again.\n",
      "\n",
      "\n",
      "Everybody join hands and close your eyes. Do you sense that? That's the presence of _ in this room.\n",
      "Least Expected Answer: A sausage festival.\n",
      "Most Expected Answer: Bees?\n",
      "\n",
      "\n",
      "To become a true Yanomamo warrior, you must prove that you can withstand _ without crying out.\n",
      "Least Expected Answer: The mixing of the races.\n",
      "Most Expected Answer: Being worshipped as the one true God.\n",
      "\n",
      "\n",
      "Y'all ready to get this thing started? I'm Nick Cannon, and this is America's Got _.\n",
      "Least Expected Answer: Overpowering your father.\n",
      "Most Expected Answer: A subscription to Men's Fitness.\n",
      "\n",
      "\n",
      "If you had to describe the Card Czar, using only one of the cards in your hand, which one would it be?\n",
      "Least Expected Answer: 10 Incredible Facts About the Anus.\n",
      "Most Expected Answer: One Ring to rule them all.\n",
      "\n",
      "\n",
      "_ be all like _.\n",
      "Least Expected Answer: Party Mexicans.\n",
      "Most Expected Answer: Like a million alligators.\n",
      "\n",
      "\n",
      "Art isn't just a painting in a stuffy museum. Art is alive. Art is _.\n",
      "Least Expected Answer: Vomiting mid-blowjob.\n",
      "Most Expected Answer: Art.\n",
      "\n",
      "\n",
      "As reparations for slavery, all African Americans will receive _.\n",
      "Least Expected Answer: Sean Connery.\n",
      "Most Expected Answer: The lived experience of African Americans.\n",
      "\n",
      "\n",
      "As Teddy Roosevelt said, the four manly virtues are honor, temperance, industry, and _.\n",
      "Least Expected Answer: The grey nutrient broth that sustains Mitt Romney.\n",
      "Most Expected Answer: Going to bed at a reasonable hour.\n",
      "\n",
      "\n",
      "Best you go back where you came from, now. We don't take too kindly to _ in these parts.\n",
      "Least Expected Answer: Forty-five minutes of finger blasting.\n",
      "Most Expected Answer: Fucking a corpse back to life.\n",
      "\n",
      "\n",
      "CNN breaking news! Scientists discover _.\n",
      "Least Expected Answer: Changing a person's mind with logic and facts.\n",
      "Most Expected Answer: BATMAN!!!\n",
      "\n",
      "\n",
      "Coming to Red Lobster&reg; this month, _.\n",
      "Least Expected Answer: Dental dams.\n",
      "Most Expected Answer: Fucking me good and taking me to Red Lobster&reg;.\n",
      "\n",
      "\n",
      "Congratulations! You have been selected for our summer internship program. While we are unable to offer a salary, we can offer you _.\n",
      "Least Expected Answer: Misogyny.\n",
      "Most Expected Answer: BATMAN!!!\n",
      "\n",
      "\n",
      "Dance like there's nobody watching, love like you'll never be hurt, and live like you're _.\n",
      "Least Expected Answer: Growing a pair.\n",
      "Most Expected Answer: Like a million alligators.\n",
      "\n",
      "\n",
      "Errbody in the club _.\n",
      "Least Expected Answer: Vomiting mid-blowjob.\n",
      "Most Expected Answer: The Force.\n",
      "\n",
      "\n",
      "Feeling so grateful! #amazing #mylife #_.\n",
      "Least Expected Answer: Gayle from HR.\n",
      "Most Expected Answer: Late-stage dementia.\n",
      "\n",
      "\n",
      "Girls just wanna have _.\n",
      "Least Expected Answer: Nickelback.\n",
      "Most Expected Answer: Cute boys.\n",
      "\n",
      "\n",
      "Google Calendar alert: _ in 10 minutes.\n",
      "Least Expected Answer: Onions.\n",
      "Most Expected Answer: Dining with cardboard cutouts of the cast of \"Friends.\"\n",
      "\n",
      "\n",
      "I don't believe in God. I believe in _.\n",
      "Least Expected Answer: Overpowering your father.\n",
      "Most Expected Answer: God.\n",
      "\n",
      "\n",
      "I got rhythm, I've got music, I've got _. Who could ask for anything more?\n",
      "Least Expected Answer: Jean-Claude Van Damme.\n",
      "Most Expected Answer: Bees?\n",
      "\n",
      "\n",
      "I may not be much to look at, but I fuck like _.\n",
      "Least Expected Answer: Falling into a pit of waffles.\n",
      "Most Expected Answer: Mixing M&Ms and Skittles like some kind of psychopath.\n",
      "\n",
      "\n",
      "I tell you, it was a non-stop fuckfest. When it was over, my asshole looked like _.\n",
      "Least Expected Answer: When you fart and a little bit comes out.\n",
      "Most Expected Answer: Playing my asshole like a trumpet.\n",
      "\n",
      "\n",
      "I'll take the BBQ bacon burger with friend egg and fuck it how about _.\n",
      "Least Expected Answer: The haunting stare of an Iraqi child.\n",
      "Most Expected Answer: Laying an egg.\n",
      "\n",
      "\n",
      "I'm sorry, sir, but your insurance plan doesn't cover injuries caused by _.\n",
      "Least Expected Answer: Pixelated bukkake.\n",
      "Most Expected Answer: Watching a hot person eat.\n",
      "\n",
      "\n",
      "I've had a horrible vision, father. I saw mountains crumbling, stars falling from the sky. I saw _.\n",
      "Least Expected Answer: Ejaculating live bees and the bees are angry.\n",
      "Most Expected Answer: The entire Mormon Tabernacle Choir.\n",
      "\n",
      "\n",
      "If at first you don't succeed, try _.\n",
      "Least Expected Answer: Eating all of the cookies before the AIDS bake-sale.\n",
      "Most Expected Answer: My first kill.\n",
      "\n",
      "\n",
      "In the 1950s, psychologists prescribed _ as a cure for homosexually.\n",
      "Least Expected Answer: Walking into a glass door.\n",
      "Most Expected Answer: Western standards of beauty.\n",
      "\n",
      "\n",
      "LSD + _ = really bad time.\n",
      "Least Expected Answer: Sean Penn.\n",
      "Most Expected Answer: Me time.\n",
      "\n",
      "\n",
      "\"Mom's to-do list:<br/>- Buy Groceries.<br/>- Clean up _.<br/>- Soccer Practice.\"\n",
      "Least Expected Answer: Forty-five minutes of finger blasting.\n",
      "Most Expected Answer: An all-midget production of Shakespeare's <i>Richard III</i>.\n",
      "\n",
      "\n",
      "Most Americans would not vote for a candidate who is openly _.\n",
      "Least Expected Answer: Bill Clinton, naked on a bearskin rug with a saxophone.\n",
      "Most Expected Answer: Anal fissures like you wouldn't believe.\n",
      "\n",
      "\n",
      "No, no, no, no, no, no, NO! I will NOT let _ ruin this wedding.\n",
      "Least Expected Answer: Turning 32.\n",
      "Most Expected Answer: Whomsoever let the dogs out.\n",
      "\n",
      "\n",
      "Oh no! Siri, how do I fix _?\n",
      "Least Expected Answer: Political correctness.\n",
      "Most Expected Answer: Bees?\n",
      "\n",
      "\n",
      "One more thing. Watch out for Big Mike. They say he killed a man with _.\n",
      "Least Expected Answer: The gays.\n",
      "Most Expected Answer: Salsa Night at Dave's Cantina.\n",
      "\n",
      "\n",
      "Ooo, daddy like _.\n",
      "Least Expected Answer: The corporations.\n",
      "Most Expected Answer: Like a million alligators.\n",
      "\n",
      "\n",
      "Poor Brandon, still living in his parent's basement. I heard he never got over _.\n",
      "Least Expected Answer: The South.\n",
      "Most Expected Answer: Lumberjack fantasies.\n",
      "\n",
      "\n",
      "Run, run, as fast as you can! You can't catch me, I'm _!\n",
      "Least Expected Answer: Unquestioning obedience.\n",
      "Most Expected Answer: BATMAN!!!\n",
      "\n",
      "\n",
      "She's a lady in the streets, _ in the sheets.\n",
      "Least Expected Answer: Opposable thumbs.\n",
      "Most Expected Answer: Slapping a racist old lady.\n",
      "\n",
      "\n",
      "She's just one of the guys, you know? She likes beer, and football, and _.\n",
      "Least Expected Answer: Eating all of the cookies before the AIDS bake-sale.\n",
      "Most Expected Answer: A web of lies.\n",
      "\n",
      "\n",
      "Son, take it from someone who's been around the block a few times. Nothin' puts her in the mood like _.\n",
      "Least Expected Answer: Shaft.\n",
      "Most Expected Answer: Mixing M&Ms and Skittles like some kind of psychopath.\n",
      "\n",
      "\n",
      "Summer lovin', had me a blast. _, happened so fast.\n",
      "Least Expected Answer: A bowl of gourds.\n",
      "Most Expected Answer: A turd.\n",
      "\n",
      "\n",
      "\"The top Google auto-complete results for \"Barack Obama\":</br>- Barack Obama Height.</br>- Barack Obama net worth.</br>- Barack Obama _.\"\n",
      "Least Expected Answer: Showing all the boys my pussy.\n",
      "Most Expected Answer: Barack Obama.\n",
      "\n",
      "\n",
      "Then the princess kissed the frog, and all of a sudden the frog was _!\n",
      "Least Expected Answer: Menstrual rage.\n",
      "Most Expected Answer: Altar boys.\n",
      "\n",
      "\n",
      "There is no God. It's just _ and then you die.\n",
      "Least Expected Answer: Overpowering your father.\n",
      "Most Expected Answer: God.\n",
      "\n",
      "\n",
      "This Friday at the Liquid Lunge, it's _ Night! Ladies drink free.\n",
      "Least Expected Answer: Party Mexicans.\n",
      "Most Expected Answer: All the single ladies.\n",
      "\n",
      "\n",
      "We do not shake with our left hands in this country. That is the hand we use for _.\n",
      "Least Expected Answer: A death ray.\n",
      "Most Expected Answer: A crappy little hand.\n",
      "\n",
      "\n",
      "Well if _ is a crime, then lock me up!\n",
      "Least Expected Answer: Eternal screaming madness.\n",
      "Most Expected Answer: BATMAN!!!\n",
      "\n",
      "\n",
      "Well, shit. My eyes ain't so good, but I'll eat my own boot if that ain't _!\n",
      "Least Expected Answer: Preteens.\n",
      "Most Expected Answer: Being popular and good at sports.\n",
      "\n",
      "\n",
      "What are all those whales singing about?\n",
      "Least Expected Answer: An inability to form meaningful relationships.\n",
      "Most Expected Answer: Bees?\n",
      "\n",
      "\n",
      "What sucks balls?\n",
      "Least Expected Answer: The South.\n",
      "Most Expected Answer: Bees?\n",
      "\n",
      "\n",
      "What totally destroyed my asshole?\n",
      "Least Expected Answer: A sausage festival.\n",
      "Most Expected Answer: Bees?\n",
      "\n",
      "\n",
      "What turned me into a Republican?\n",
      "Least Expected Answer: China.\n",
      "Most Expected Answer: Being turned into sausages.\n",
      "\n",
      "\n",
      "What will end racism once and for all?\n",
      "Least Expected Answer: Child support payments.\n",
      "Most Expected Answer: Racism.\n",
      "\n",
      "\n",
      "What's a total waste of Hillary Clinton's time?\n",
      "Least Expected Answer: Serfdom.\n",
      "Most Expected Answer: Hillary Clinton's death stare.\n",
      "\n",
      "\n",
      "What's about to take dance floor to the next level?\n",
      "Least Expected Answer: Shaft.\n",
      "Most Expected Answer: Capturing Newt Gingrich and forcing him to dance in a monkey suit.\n",
      "\n",
      "\n",
      "What's the gayest?\n",
      "Least Expected Answer: A sausage festival.\n",
      "Most Expected Answer: Gay aliens.\n",
      "\n",
      "\n",
      "What's the most problematic?\n",
      "Least Expected Answer: September 11th, 2001.\n",
      "Most Expected Answer: Bees?\n",
      "\n",
      "\n",
      "Why am I laughing and crying and taking off my clothes?\n",
      "Least Expected Answer: Figgy pudding.\n",
      "Most Expected Answer: Taking off your shirt.\n",
      "\n",
      "\n",
      "With a one-time gift of just $10, you can save this child from _.\n",
      "Least Expected Answer: The bond between a woman and her horse.\n",
      "Most Expected Answer: A creepy child singing a nursery rhyme.\n",
      "\n",
      "\n",
      "You know who else liked _? Hitler.\n",
      "Least Expected Answer: Comprehensive immigration reform.\n",
      "Most Expected Answer: Bees?\n",
      "\n",
      "\n",
      "You won't believe what's in my pussy. It's _.\n",
      "Least Expected Answer: Overpowering your father.\n",
      "Most Expected Answer: Pussy.\n",
      "\n",
      "\n"
     ]
    }
   ],
   "source": [
    "for q in range(len(blackCards)):\n",
    "    print(blackCards[q])\n",
    "    max_answer=distances[q].index(max(distances[q]))\n",
    "    min_answer=distances[q].index(min(distances[q]))\n",
    "    print(\"Least Expected Answer:\", whiteCards[min_answer])\n",
    "    print(\"Most Expected Answer:\", whiteCards[max_answer])\n",
    "    print(\"\\n\")"
   ]
  },
  {
   "cell_type": "markdown",
   "metadata": {},
   "source": [
    "#### Generate a Labeled Dataset using W2V"
   ]
  },
  {
   "cell_type": "code",
   "execution_count": 558,
   "metadata": {
    "ExecuteTime": {
     "end_time": "2018-08-22T04:04:13.266529Z",
     "start_time": "2018-08-22T04:04:11.165794Z"
    }
   },
   "outputs": [],
   "source": [
    "# For Generating a Labeled Dataset\n",
    "w2v_pred_matrix=[]\n",
    "w2v_pred_words=[]\n",
    "\n",
    "for q in range(len(blackCards)):\n",
    "    answer_min = distances[q].index(min(distances[q]))\n",
    "    answer_25 = distances[q].index(np.percentile(distances[q], 25))\n",
    "    answer_med = distances[q].index(np.median(distances[q]))\n",
    "    answer_75 = distances[q].index(np.percentile(distances[q], 75))\n",
    "    answer_max = distances[q].index(max(distances[q]))\n",
    "    answers = [answer_min, answer_25, answer_med, answer_75, answer_max]\n",
    "    w2v_pred_matrix.append(answers)\n",
    "    \n",
    "    words_min = tokenized_w[distances[q].index(min(distances[q]))]\n",
    "    words_25 = tokenized_w[distances[q].index(np.percentile(distances[q], 25))]\n",
    "    words_med = tokenized_w[distances[q].index(np.median(distances[q]))]\n",
    "    words_75 = tokenized_w[distances[q].index(np.percentile(distances[q], 75))]\n",
    "    words_max = tokenized_w[distances[q].index(max(distances[q]))]\n",
    "    words = [tokenized_b[q], words_min, words_25, words_med, words_75, words_max]\n",
    "    w2v_pred_words.append(words)"
   ]
  },
  {
   "cell_type": "code",
   "execution_count": 559,
   "metadata": {
    "ExecuteTime": {
     "end_time": "2018-08-22T04:04:19.977307Z",
     "start_time": "2018-08-22T04:04:19.962026Z"
    }
   },
   "outputs": [
    {
     "name": "stdout",
     "output_type": "stream",
     "text": [
      "[[1019, 482, 952, 297, 327], [308, 676, 633, 1080, 576], [1019, 306, 423, 644, 242], [225, 306, 402, 520, 242], [895, 445, 186, 180, 182]]\n"
     ]
    },
    {
     "data": {
      "text/plain": [
       "[['sleep', 'night', '?'],\n",
       " ['trapped', 'conversation', 'ayn', 'rand'],\n",
       " ['moral', 'ambiguity'],\n",
       " ['bad', 'emotions', 'want'],\n",
       " ['passable', 'transvestites'],\n",
       " ['m.', 'night', 'shyamalan', 'plot', 'twist']]"
      ]
     },
     "execution_count": 559,
     "metadata": {},
     "output_type": "execute_result"
    }
   ],
   "source": [
    "print(w2v_pred_matrix[:5])\n",
    "w2v_pred_words[0]"
   ]
  },
  {
   "cell_type": "code",
   "execution_count": 563,
   "metadata": {
    "ExecuteTime": {
     "end_time": "2018-08-22T04:06:53.218419Z",
     "start_time": "2018-08-22T04:06:53.207404Z"
    }
   },
   "outputs": [
    {
     "name": "stdout",
     "output_type": "stream",
     "text": [
      "293\n"
     ]
    },
    {
     "data": {
      "text/plain": [
       "[['sleep',\n",
       "  'night',\n",
       "  '?',\n",
       "  'trapped',\n",
       "  'conversation',\n",
       "  'ayn',\n",
       "  'rand',\n",
       "  'moral',\n",
       "  'ambiguity',\n",
       "  'bad',\n",
       "  'emotions',\n",
       "  'want',\n",
       "  'passable',\n",
       "  'transvestites',\n",
       "  'm.',\n",
       "  'night',\n",
       "  'shyamalan',\n",
       "  'plot',\n",
       "  'twist'],\n",
       " ['99',\n",
       "  'problems',\n",
       "  '_',\n",
       "  'one',\n",
       "  'sexual',\n",
       "  'tension',\n",
       "  'moist',\n",
       "  'demanding',\n",
       "  'chasm',\n",
       "  'mouth',\n",
       "  'actually',\n",
       "  'shot',\n",
       "  'real',\n",
       "  'prematurely',\n",
       "  'ejaculating',\n",
       "  'like',\n",
       "  'total',\n",
       "  'loser',\n",
       "  'one',\n",
       "  'ring',\n",
       "  'rule'],\n",
       " ['girl',\n",
       "  \"'s\",\n",
       "  'best',\n",
       "  'friend',\n",
       "  '?',\n",
       "  'trapped',\n",
       "  'conversation',\n",
       "  'ayn',\n",
       "  'rand',\n",
       "  'black',\n",
       "  'people',\n",
       "  'consensual',\n",
       "  'sex',\n",
       "  'black',\n",
       "  'male',\n",
       "  'early',\n",
       "  '20s',\n",
       "  'last',\n",
       "  'seen',\n",
       "  'wearing',\n",
       "  'hoodie',\n",
       "  'bees',\n",
       "  '?'],\n",
       " ['smell',\n",
       "  '?',\n",
       "  'snapping',\n",
       "  'turtle',\n",
       "  'biting',\n",
       "  'tip',\n",
       "  'penis',\n",
       "  'black',\n",
       "  'people',\n",
       "  'firing',\n",
       "  'rifle',\n",
       "  'air',\n",
       "  'balls',\n",
       "  'deep',\n",
       "  'squealing',\n",
       "  'hog',\n",
       "  'low',\n",
       "  'standard',\n",
       "  'living',\n",
       "  'bees',\n",
       "  '?'],\n",
       " ['way',\n",
       "  'world',\n",
       "  'ends',\n",
       "  '/',\n",
       "  'way',\n",
       "  'world',\n",
       "  'ends',\n",
       "  '/',\n",
       "  'bang',\n",
       "  '_',\n",
       "  'turning',\n",
       "  'rivers',\n",
       "  'red',\n",
       "  'blood',\n",
       "  'infidels',\n",
       "  'capturing',\n",
       "  'newt',\n",
       "  'gingrich',\n",
       "  'forcing',\n",
       "  'dance',\n",
       "  'monkey',\n",
       "  'suit',\n",
       "  'eating',\n",
       "  'last',\n",
       "  'known',\n",
       "  'bison',\n",
       "  'saxophone',\n",
       "  'solos',\n",
       "  'world',\n",
       "  'warcraft']]"
      ]
     },
     "execution_count": 563,
     "metadata": {},
     "output_type": "execute_result"
    }
   ],
   "source": [
    "from itertools import chain\n",
    "w2v_pred_words_flat = [list(chain.from_iterable(x)) for x in w2v_pred_words]\n",
    "print(len(w2v_pred_words_flat))\n",
    "w2v_pred_words_flat[:5]"
   ]
  },
  {
   "cell_type": "code",
   "execution_count": 566,
   "metadata": {
    "ExecuteTime": {
     "end_time": "2018-08-22T04:07:47.963718Z",
     "start_time": "2018-08-22T04:07:47.026311Z"
    }
   },
   "outputs": [
    {
     "name": "stdout",
     "output_type": "stream",
     "text": [
      "  (0, 11)\t1\n",
      "  (1, 6)\t1\n",
      "  (3, 13)\t1\n",
      "  (4, 3)\t1\n",
      "  (5, 1)\t1\n",
      "  (6, 9)\t1\n",
      "  (7, 5)\t1\n",
      "  (8, 0)\t1\n",
      "  (9, 2)\t1\n",
      "  (10, 4)\t1\n",
      "  (11, 15)\t1\n",
      "  (12, 7)\t1\n",
      "  (13, 12)\t1\n",
      "  (15, 6)\t1\n",
      "  (16, 10)\t1\n",
      "  (17, 8)\t1\n",
      "  (18, 14)\t1\n",
      "  (0, 11)\t1.0\n",
      "  (1, 6)\t1.0\n",
      "  (3, 13)\t1.0\n",
      "  (4, 3)\t1.0\n",
      "  (5, 1)\t1.0\n",
      "  (6, 9)\t1.0\n",
      "  (7, 5)\t1.0\n",
      "  (8, 0)\t1.0\n",
      "  (9, 2)\t1.0\n",
      "  (10, 4)\t1.0\n",
      "  (11, 15)\t1.0\n",
      "  (12, 7)\t1.0\n",
      "  (13, 12)\t1.0\n",
      "  (15, 6)\t1.0\n",
      "  (16, 10)\t1.0\n",
      "  (17, 8)\t1.0\n",
      "  (18, 14)\t1.0\n"
     ]
    }
   ],
   "source": [
    "# Vectorize\n",
    "count_vec_pred = CountVectorizer(ngram_range=(1,1), stop_words=stop, lowercase=False)\n",
    "tfidf_vec_pred = TfidfVectorizer(ngram_range=(1,1), stop_words=stop, lowercase=False)\n",
    "\n",
    "cv_w2v = [count_vec_pred.fit_transform(i) for i in w2v_pred_words_flat]\n",
    "tfidf_w2v = [tfidf_vec_pred.fit_transform(i) for i in w2v_pred_words_flat]\n",
    "\n",
    "print(cv_w2v[0])\n",
    "print(tfidf_w2v[0])"
   ]
  },
  {
   "cell_type": "code",
   "execution_count": null,
   "metadata": {},
   "outputs": [],
   "source": []
  },
  {
   "cell_type": "code",
   "execution_count": null,
   "metadata": {},
   "outputs": [],
   "source": []
  },
  {
   "cell_type": "code",
   "execution_count": 51,
   "metadata": {
    "ExecuteTime": {
     "end_time": "2018-08-21T02:38:55.844563Z",
     "start_time": "2018-08-21T02:38:55.836868Z"
    }
   },
   "outputs": [],
   "source": [
    "# Google Word2Vec\n",
    "# Avg instead of sum so i'm not penalized by words not in the dictionary"
   ]
  },
  {
   "cell_type": "markdown",
   "metadata": {
    "heading_collapsed": true
   },
   "source": [
    "### Topic Modeling"
   ]
  },
  {
   "cell_type": "code",
   "execution_count": 52,
   "metadata": {
    "ExecuteTime": {
     "end_time": "2018-08-21T02:38:55.936947Z",
     "start_time": "2018-08-21T02:38:55.855545Z"
    },
    "hidden": true
   },
   "outputs": [],
   "source": [
    "from sklearn.decomposition import NMF, LatentDirichletAllocation, TruncatedSVD"
   ]
  },
  {
   "cell_type": "code",
   "execution_count": 482,
   "metadata": {
    "ExecuteTime": {
     "end_time": "2018-08-22T02:11:58.195832Z",
     "start_time": "2018-08-22T02:11:58.142914Z"
    },
    "hidden": true
   },
   "outputs": [],
   "source": [
    "# Vectorize\n",
    "from sklearn.feature_extraction.text import CountVectorizer, TfidfVectorizer\n",
    "vectorizer_count_w = CountVectorizer(ngram_range=(1, 1), stop_words=stop, lowercase=False)\n",
    "vectorizer_tfidf_w = TfidfVectorizer(ngram_range=(1, 1), stop_words=stop, lowercase=False)\n",
    "vectorizer_count_b = CountVectorizer(ngram_range=(1, 1), stop_words=stop, lowercase=False)\n",
    "vectorizer_tfidf_b = TfidfVectorizer(ngram_range=(1, 1), stop_words=stop, lowercase=False)\n",
    "\n",
    "cv_w = vectorizer_count_w.fit_transform(cleaned_w)\n",
    "cv_b = vectorizer_count_b.fit_transform(cleaned_b)\n",
    "tfidf_w = vectorizer_tfidf_w.fit_transform(cleaned_w)\n",
    "tfidf_b = vectorizer_tfidf_b.fit_transform(cleaned_b)"
   ]
  },
  {
   "cell_type": "code",
   "execution_count": 423,
   "metadata": {
    "ExecuteTime": {
     "end_time": "2018-08-22T01:47:00.517300Z",
     "start_time": "2018-08-22T01:47:00.508073Z"
    },
    "hidden": true
   },
   "outputs": [],
   "source": [
    "def display_topics(model, fit, feature_names, no_top_words, topic_names=None):\n",
    "    for ix, topic in enumerate(model.components_):\n",
    "        if not topic_names or not topic_names[ix]:\n",
    "            print(\"\\nTopic {a:} score: {b: 6.1f}%\".format(a=ix, b=100*sum(fit[:,ix])/fit.sum()   ))\n",
    "        else:\n",
    "            print(\"\\nTopic {a:} score: {b: 6.1f}%\".format(a=topic_names[ix], b=100*sum(fit[:,ix])/fit.sum()   ))\n",
    "        print(\", \".join([feature_names[i]\n",
    "                        for i in topic.argsort()[:-no_top_words - 1:-1]]))"
   ]
  },
  {
   "cell_type": "markdown",
   "metadata": {
    "heading_collapsed": true,
    "hidden": true
   },
   "source": [
    "#### NMF_CV and LSA_TFIDF were the chosen Topic Modeling Techniques"
   ]
  },
  {
   "cell_type": "code",
   "execution_count": 483,
   "metadata": {
    "ExecuteTime": {
     "end_time": "2018-08-22T02:12:05.414396Z",
     "start_time": "2018-08-22T02:12:05.330659Z"
    },
    "hidden": true
   },
   "outputs": [
    {
     "name": "stdout",
     "output_type": "stream",
     "text": [
      "\n",
      "Topic 0 score:   14.9%\n",
      "sex, person, life, good, right, money, high, really, horse, eternal\n",
      "\n",
      "Topic 1 score:   17.6%\n",
      "man, old, body, goat, head, year, every, vagina, pants, power\n",
      "\n",
      "Topic 2 score:   16.8%\n",
      "people, going, old, life, way, around, white, black, kill, homeless\n",
      "\n",
      "Topic 3 score:    9.0%\n",
      "balls, eyes, taking, putting, go, holes, eye, man, deep, rifle\n",
      "\n",
      "Topic 4 score:   16.9%\n",
      "like, eating, ass, god, bad, shitting, playing, damn, vomiting, new\n",
      "\n",
      "Topic 5 score:   24.7%\n",
      "big, penis, full, black, dick, one, mouth, huge, horse, face\n"
     ]
    }
   ],
   "source": [
    "n_comp = 6\n",
    "nm_cv = NMF(n_components=n_comp)\n",
    "nm_cv_data_W = nm_cv.fit_transform(cv_w)\n",
    "display_topics(nm_cv, nm_cv_data_W, vectorizer_count_w.get_feature_names(), 10)"
   ]
  },
  {
   "cell_type": "code",
   "execution_count": 56,
   "metadata": {
    "ExecuteTime": {
     "end_time": "2018-08-21T02:38:56.339857Z",
     "start_time": "2018-08-21T02:38:56.329414Z"
    },
    "hidden": true
   },
   "outputs": [
    {
     "name": "stdout",
     "output_type": "stream",
     "text": [
      "Document X Topic: (1154, 10)\n",
      "Topic X Words: (10, 2220)\n"
     ]
    }
   ],
   "source": [
    "# Understanding the NMF Decomposition\n",
    "print(\"Document X Topic:\", nm_cv_data_W.shape)\n",
    "print(\"Topic X Words:\", nm_cv.components_.shape)"
   ]
  },
  {
   "cell_type": "code",
   "execution_count": 217,
   "metadata": {
    "ExecuteTime": {
     "end_time": "2018-08-21T21:34:39.656130Z",
     "start_time": "2018-08-21T21:34:39.649176Z"
    },
    "hidden": true
   },
   "outputs": [
    {
     "data": {
      "text/plain": [
       "('Coat hanger abortions.',\n",
       " array([0.04012226, 0.        , 0.        , 0.        , 0.        ,\n",
       "        0.        , 0.        , 0.95987774]))"
      ]
     },
     "execution_count": 217,
     "metadata": {},
     "output_type": "execute_result"
    }
   ],
   "source": [
    "card_index = 0\n",
    "whiteCards[card_index], nm_cv_data_W[card_index]/nm_cv_data_W[card_index].sum()"
   ]
  },
  {
   "cell_type": "code",
   "execution_count": 484,
   "metadata": {
    "ExecuteTime": {
     "end_time": "2018-08-22T02:12:12.503754Z",
     "start_time": "2018-08-22T02:12:12.467417Z"
    },
    "hidden": true
   },
   "outputs": [
    {
     "name": "stdout",
     "output_type": "stream",
     "text": [
      "\n",
      "Topic 0 score:   31.0%\n",
      "sex, people, man, life, eating, awesome, mom, surprise, person, dungeon\n",
      "\n",
      "Topic 1 score:   19.7%\n",
      "people, black, white, old, hot, eating, homeless, way, going, killed\n",
      "\n",
      "Topic 2 score:   17.9%\n",
      "man, old, meat, eating, meatloaf, milk, head, body, folly, year\n",
      "\n",
      "Topic 3 score:    8.8%\n",
      "ass, eating, mouth, like, cancer, whoop, disaster, albino, kids, shit\n",
      "\n",
      "Topic 4 score:   13.0%\n",
      "dick, black, big, ass, good, children, mouth, fingers, cheney, obama\n",
      "\n",
      "Topic 5 score:    9.6%\n",
      "hot, soup, ass, friends, pockets, lettuce, mess, cheese, dick, shit\n"
     ]
    }
   ],
   "source": [
    "n_comp = 6\n",
    "lsa_tfidf = TruncatedSVD(n_components=n_comp)\n",
    "lsa_tfidf_data_w = lsa_tfidf.fit_transform(tfidf_w)\n",
    "display_topics(lsa_tfidf, lsa_tfidf_data_w, vectorizer_tfidf_w.get_feature_names(), 10)"
   ]
  },
  {
   "cell_type": "code",
   "execution_count": 269,
   "metadata": {
    "ExecuteTime": {
     "end_time": "2018-08-21T23:25:03.559280Z",
     "start_time": "2018-08-21T23:25:03.549508Z"
    },
    "hidden": true
   },
   "outputs": [
    {
     "data": {
      "text/plain": [
       "('Teaching a robot to love.',\n",
       " array([ 0.10598603, -0.03009037, -0.00668206,  0.17477302,  0.10740341,\n",
       "         0.64860996]))"
      ]
     },
     "execution_count": 269,
     "metadata": {},
     "output_type": "execute_result"
    }
   ],
   "source": [
    "card_index = 100\n",
    "whiteCards[card_index], lsa_tfidf_data_w[card_index]/lsa_tfidf_data_w[card_index].sum()"
   ]
  },
  {
   "cell_type": "markdown",
   "metadata": {
    "heading_collapsed": true,
    "hidden": true
   },
   "source": [
    "#### Attempts that are not chosen as results"
   ]
  },
  {
   "cell_type": "code",
   "execution_count": 262,
   "metadata": {
    "ExecuteTime": {
     "end_time": "2018-08-21T23:17:38.787006Z",
     "start_time": "2018-08-21T23:17:38.760517Z"
    },
    "collapsed": true,
    "hidden": true
   },
   "outputs": [
    {
     "name": "stdout",
     "output_type": "stream",
     "text": [
      "\n",
      "Topic 0 score:   55.5%\n",
      "sex, man, getting, balls, people, old, eyes, eating, head, life\n",
      "\n",
      "Topic 1 score:   15.3%\n",
      "man, getting, balls, eyes, old, taking, dick, putting, go, shot\n",
      "\n",
      "Topic 2 score:  -17.2%\n",
      "man, balls, eyes, old, taking, go, putting, holes, eye, body\n",
      "\n",
      "Topic 3 score:   22.0%\n",
      "people, old, black, going, full, way, around, white, life, kill\n",
      "\n",
      "Topic 4 score:   25.1%\n",
      "reg, trade, fun, child, pretty, face, balls, chicken, stuff, taking\n",
      "\n",
      "Topic 5 score:   -0.7%\n",
      "balls, eyes, taking, putting, go, holes, eye, big, sex, full\n"
     ]
    }
   ],
   "source": [
    "n_comp = 6\n",
    "lsa_cv = TruncatedSVD(n_components=n_comp)\n",
    "lsa_cv_data_W = lsa_cv.fit_transform(cv_w)\n",
    "display_topics(lsa_cv, lsa_cv_data_W, vectorizer_count_w.get_feature_names(), 10)"
   ]
  },
  {
   "cell_type": "code",
   "execution_count": 175,
   "metadata": {
    "ExecuteTime": {
     "end_time": "2018-08-21T21:19:15.993307Z",
     "start_time": "2018-08-21T21:19:15.989579Z"
    },
    "hidden": true
   },
   "outputs": [],
   "source": [
    "# # Try to model the blackcards - results aren't very good, so combine them both\n",
    "# n_comp = 6\n",
    "# nm_cv_b = NMF(n_components=n_comp)\n",
    "# nm_cv_data_b = nm_cv_b.fit_transform(cv_b)\n",
    "# display_topics(nm_cv_b, nm_cv_data_b, vectorizer_count_b.get_feature_names(), 10)"
   ]
  },
  {
   "cell_type": "code",
   "execution_count": 177,
   "metadata": {
    "ExecuteTime": {
     "end_time": "2018-08-21T21:21:20.125617Z",
     "start_time": "2018-08-21T21:21:20.122082Z"
    },
    "hidden": true
   },
   "outputs": [],
   "source": [
    "# # LDA\n",
    "# from sklearn.decomposition import LatentDirichletAllocation\n",
    "# n_comp = 10\n",
    "# lda = LatentDirichletAllocation(n_components=n_comp, max_iter=5, learning_method='online', learning_offset=50.,\\\n",
    "#                                 random_state=0).fit_transform(cv_w)\n",
    "# print(lda.shape)\n",
    "# lda[0]"
   ]
  },
  {
   "cell_type": "markdown",
   "metadata": {
    "heading_collapsed": true,
    "hidden": true
   },
   "source": [
    "#### Topic model with the White and Black Cards together"
   ]
  },
  {
   "cell_type": "code",
   "execution_count": 203,
   "metadata": {
    "ExecuteTime": {
     "end_time": "2018-08-21T21:30:27.468527Z",
     "start_time": "2018-08-21T21:30:27.314849Z"
    },
    "collapsed": true,
    "hidden": true
   },
   "outputs": [
    {
     "name": "stdout",
     "output_type": "stream",
     "text": [
      "Document X Topic: (1447, 8)\n",
      "Topic X Words: (8, 2925)\n",
      "\n",
      "Topic 0 score:    4.3%\n",
      "obama, barack, google, complete, top, height, auto, worth, results, net\n",
      "\n",
      "Topic 1 score:   11.0%\n",
      "like, love, never, would, live, dance, watching, hurt, nobody, little\n",
      "\n",
      "Topic 2 score:   14.1%\n",
      "man, balls, eyes, old, body, every, taking, go, putting, goat\n",
      "\n",
      "Topic 3 score:   11.6%\n",
      "one, thing, get, would, good, summer, night, ready, god, big\n",
      "\n",
      "Topic 4 score:   14.5%\n",
      "sex, life, person, good, right, penis, really, high, want, eating\n",
      "\n",
      "Topic 5 score:   17.0%\n",
      "new, reg, time, child, might, must, movie, good, discovers, coming\n",
      "\n",
      "Topic 6 score:   11.9%\n",
      "getting, dick, shot, high, kids, naked, cannon, eaten, stuff, another\n",
      "\n",
      "Topic 7 score:   15.5%\n",
      "world, people, way, ends, war, fought, going, old, white, life\n"
     ]
    }
   ],
   "source": [
    "# Combine the black and white cards\n",
    "vectorizer_count = CountVectorizer(ngram_range=(1, 1), stop_words=stop, lowercase=False)\n",
    "cv_data = vectorizer_count.fit_transform(cleaned_all)\n",
    "\n",
    "n_comp = 8\n",
    "nm_cv = NMF(n_components=n_comp)\n",
    "nm_cv_data = nm_cv.fit_transform(cv_data)\n",
    "\n",
    "# Understanding the NMF Decomposition\n",
    "print(\"Document X Topic:\", nm_cv_data.shape)\n",
    "print(\"Topic X Words:\", nm_cv.components_.shape)\n",
    "\n",
    "display_topics(nm_cv, nm_cv_data, vectorizer_count.get_feature_names(), 10)"
   ]
  },
  {
   "cell_type": "code",
   "execution_count": 212,
   "metadata": {
    "ExecuteTime": {
     "end_time": "2018-08-21T21:33:28.688383Z",
     "start_time": "2018-08-21T21:33:28.680465Z"
    },
    "hidden": true
   },
   "outputs": [
    {
     "data": {
      "text/plain": [
       "('coat hanger abortions',\n",
       " array([0.        , 0.        , 0.        , 0.00471043, 0.99528957,\n",
       "        0.        , 0.        , 0.        ]))"
      ]
     },
     "execution_count": 212,
     "metadata": {},
     "output_type": "execute_result"
    }
   ],
   "source": [
    "card_index = 0\n",
    "cleaned_all[card_index], nm_cv_data[card_index]/nm_cv_data[card_index].sum()"
   ]
  },
  {
   "cell_type": "markdown",
   "metadata": {
    "hidden": true
   },
   "source": []
  },
  {
   "cell_type": "markdown",
   "metadata": {
    "heading_collapsed": true
   },
   "source": [
    "### Clustering"
   ]
  },
  {
   "cell_type": "code",
   "execution_count": 63,
   "metadata": {
    "ExecuteTime": {
     "end_time": "2018-08-21T02:38:57.729486Z",
     "start_time": "2018-08-21T02:38:57.574114Z"
    },
    "hidden": true
   },
   "outputs": [],
   "source": [
    "from sklearn.cluster import KMeans\n",
    "from sklearn.manifold import TSNE\n",
    "import matplotlib.pyplot as plt\n",
    "%matplotlib inline\n",
    "from sklearn.metrics import silhouette_score"
   ]
  },
  {
   "cell_type": "markdown",
   "metadata": {
    "heading_collapsed": true,
    "hidden": true
   },
   "source": [
    "#### KMeans"
   ]
  },
  {
   "cell_type": "code",
   "execution_count": 496,
   "metadata": {
    "ExecuteTime": {
     "end_time": "2018-08-22T02:20:27.427759Z",
     "start_time": "2018-08-22T02:19:22.496897Z"
    },
    "collapsed": true,
    "hidden": true
   },
   "outputs": [
    {
     "data": {
      "text/plain": [
       "[<matplotlib.lines.Line2D at 0x1a3350bf98>]"
      ]
     },
     "execution_count": 496,
     "metadata": {},
     "output_type": "execute_result"
    },
    {
     "data": {
      "image/png": "[encoded data removed]",
      "text/plain": [
       "<Figure size 1440x432 with 2 Axes>"
      ]
     },
     "metadata": {},
     "output_type": "display_data"
    }
   ],
   "source": [
    "# Finding the right # of clusters using TSNE\n",
    "tsne = TSNE(n_components = 2, perplexity = 30.0)\n",
    "nm_cv_sne = tsne.fit_transform(nm_cv_data_W)\n",
    "lsa_tfidf_sne = tsne.fit_transform(lsa_tfidf_data_w)\n",
    "\n",
    "f, ax = plt.subplots(nrows=1, ncols=2, sharex=True, sharey=True, figsize=(20,6))\n",
    "f.subplots_adjust(hspace=0.3)\n",
    "\n",
    "ax[0].set_title('NMF CV tSNE')\n",
    "ax[0].plot(nm_cv_sne[:, 0], nm_cv_sne[:, 1],'o')\n",
    "ax[1].set_title('LSA TFIDF tSNE')\n",
    "ax[1].plot(lsa_tfidf_sne[:, 0], lsa_tfidf_sne[:, 1],'o')"
   ]
  },
  {
   "cell_type": "code",
   "execution_count": 497,
   "metadata": {
    "ExecuteTime": {
     "end_time": "2018-08-22T02:20:45.225693Z",
     "start_time": "2018-08-22T02:20:43.557001Z"
    },
    "hidden": true
   },
   "outputs": [
    {
     "data": {
      "text/plain": [
       "[<matplotlib.lines.Line2D at 0x1a323d8c18>]"
      ]
     },
     "execution_count": 497,
     "metadata": {},
     "output_type": "execute_result"
    },
    {
     "data": {
      "image/png": "[encoded data removed]",
      "text/plain": [
       "<Figure size 1440x432 with 2 Axes>"
      ]
     },
     "metadata": {},
     "output_type": "display_data"
    }
   ],
   "source": [
    "inertia_lsa = [0,0]\n",
    "inertia_nmf = [0,0]\n",
    "for n_clusters in range(2, 15):\n",
    "    km_nmf = KMeans(n_clusters = n_clusters)\n",
    "    km_nmf.fit(nm_cv_data_W)\n",
    "    msg_nmf = f\"\"\"# clusters: {n_clusters:2d}   Inertia: {km_nmf.inertia_:8.6f}\"\"\"\n",
    "    inertia_nmf.append(km_nmf.inertia_)\n",
    "    # print(msg_nmf)\n",
    "    \n",
    "    km_lsa = KMeans(n_clusters = n_clusters)\n",
    "    km_lsa.fit(lsa_tfidf_data_w)\n",
    "    msg_lsa = f\"\"\"# clusters: {n_clusters:2d}   Inertia: {km_lsa.inertia_:8.6f}\"\"\"\n",
    "    inertia_lsa.append(km_lsa.inertia_)\n",
    "    # print(msg_lsa)\n",
    "\n",
    "f, ax = plt.subplots(nrows=1, ncols=2, sharex=True, sharey=True, figsize=(20,6))\n",
    "f.subplots_adjust(hspace=0.3)\n",
    "\n",
    "ax[0].set_title('NMF Kmeans Inertia')\n",
    "ax[0].plot(inertia_nmf)\n",
    "ax[1].set_title('LSA Kmeans Inertia')\n",
    "ax[1].plot(inertia_lsa)\n",
    "\n",
    "# Based on this result I will choose n_clusters = 6"
   ]
  },
  {
   "cell_type": "code",
   "execution_count": 501,
   "metadata": {
    "ExecuteTime": {
     "end_time": "2018-08-22T02:25:34.649776Z",
     "start_time": "2018-08-22T02:25:34.645171Z"
    },
    "hidden": true
   },
   "outputs": [],
   "source": [
    "def eval_kmeans(X, n_clusters):\n",
    "    km = KMeans(n_clusters = n_clusters)\n",
    "    km.fit(X)\n",
    "    print(f\"\"\"# clusters: {n_clusters:2d}   Inertia: {km.inertia_:8.6f}     Silouette Score: {metrics.silhouette_score(X, labels)}\"\"\")\n",
    "    return km.predict(X)"
   ]
  },
  {
   "cell_type": "code",
   "execution_count": 503,
   "metadata": {
    "ExecuteTime": {
     "end_time": "2018-08-22T02:25:51.558532Z",
     "start_time": "2018-08-22T02:25:51.387207Z"
    },
    "hidden": true
   },
   "outputs": [
    {
     "name": "stdout",
     "output_type": "stream",
     "text": [
      "# clusters:  6   Inertia: 8.382875     Silouette Score: 0.7379880602713703\n",
      "# clusters:  6   Inertia: 6.900080     Silouette Score: 0.8591487602826989\n"
     ]
    }
   ],
   "source": [
    "km_lsa = eval_kmeans(lsa_tfidf_data_w, n_clusters=6)\n",
    "km_nmf = eval_kmeans(nm_cv_data_W, n_clusters=6)"
   ]
  },
  {
   "cell_type": "code",
   "execution_count": 505,
   "metadata": {
    "ExecuteTime": {
     "end_time": "2018-08-22T02:26:16.876445Z",
     "start_time": "2018-08-22T02:26:16.342007Z"
    },
    "hidden": true
   },
   "outputs": [
    {
     "data": {
      "text/plain": [
       "<matplotlib.collections.PathCollection at 0x1a33755358>"
      ]
     },
     "execution_count": 505,
     "metadata": {},
     "output_type": "execute_result"
    },
    {
     "data": {
      "text/plain": [
       "<Figure size 600x400 with 0 Axes>"
      ]
     },
     "metadata": {},
     "output_type": "display_data"
    },
    {
     "data": {
      "image/png": "[encoded data removed]",
      "text/plain": [
       "<Figure size 1440x432 with 2 Axes>"
      ]
     },
     "metadata": {},
     "output_type": "display_data"
    }
   ],
   "source": [
    "plt.figure(dpi=100)\n",
    "\n",
    "f, ax = plt.subplots(nrows=1, ncols=2, sharex=True, sharey=True, figsize=(20,6))\n",
    "f.subplots_adjust(hspace=0.3)\n",
    "\n",
    "ax[0].set_title('tSNE on topic space')\n",
    "ax[0].scatter(nm_cv_sne[:, 0], nm_cv_sne[:, 1], c=km_nmf, alpha=0.5)\n",
    "ax[1].set_title('tSNE on topic space')\n",
    "ax[1].scatter(lsa_tfidf_sne[:, 0], lsa_tfidf_sne[:, 1], c=km_lsa, alpha=0.5)"
   ]
  },
  {
   "cell_type": "markdown",
   "metadata": {
    "hidden": true
   },
   "source": [
    "__Look at the clusters__"
   ]
  },
  {
   "cell_type": "code",
   "execution_count": 507,
   "metadata": {
    "ExecuteTime": {
     "end_time": "2018-08-22T02:28:38.135391Z",
     "start_time": "2018-08-22T02:28:38.123398Z"
    },
    "hidden": true
   },
   "outputs": [
    {
     "data": {
      "text/plain": [
       "Counter({0: 1055, 1: 25, 5: 27, 4: 24, 3: 22, 2: 1})"
      ]
     },
     "execution_count": 507,
     "metadata": {},
     "output_type": "execute_result"
    }
   ],
   "source": [
    "kmeans_nmf_labels = pd.concat([pd.DataFrame(cleaned_w), pd.DataFrame(km_nmf)], axis=1)\n",
    "kmeans_nmf_labels.columns=['Answer', 'Label']\n",
    "Counter(kmeans_nmf_labels['Label'])"
   ]
  },
  {
   "cell_type": "code",
   "execution_count": 516,
   "metadata": {
    "ExecuteTime": {
     "end_time": "2018-08-22T02:30:13.410522Z",
     "start_time": "2018-08-22T02:30:13.398741Z"
    },
    "hidden": true
   },
   "outputs": [
    {
     "data": {
      "text/html": [
       "<div>\n",
       "<style scoped>\n",
       "    .dataframe tbody tr th:only-of-type {\n",
       "        vertical-align: middle;\n",
       "    }\n",
       "\n",
       "    .dataframe tbody tr th {\n",
       "        vertical-align: top;\n",
       "    }\n",
       "\n",
       "    .dataframe thead th {\n",
       "        text-align: right;\n",
       "    }\n",
       "</style>\n",
       "<table border=\"1\" class=\"dataframe\">\n",
       "  <thead>\n",
       "    <tr style=\"text-align: right;\">\n",
       "      <th></th>\n",
       "      <th>Answer</th>\n",
       "      <th>Label</th>\n",
       "    </tr>\n",
       "  </thead>\n",
       "  <tbody>\n",
       "    <tr>\n",
       "      <th>597</th>\n",
       "      <td>taking man 's eyes balls putting eyes balls go...</td>\n",
       "      <td>2</td>\n",
       "    </tr>\n",
       "  </tbody>\n",
       "</table>\n",
       "</div>"
      ],
      "text/plain": [
       "                                                Answer  Label\n",
       "597  taking man 's eyes balls putting eyes balls go...      2"
      ]
     },
     "execution_count": 516,
     "metadata": {},
     "output_type": "execute_result"
    }
   ],
   "source": [
    "# kmeans_nmf_labels[kmeans_nmf_labels['Label']==0][:20]\n",
    "# kmeans_nmf_labels[kmeans_nmf_labels['Label']==1] # Man\n",
    "# kmeans_nmf_labels[kmeans_nmf_labels['Label']==2] # Eyes\n",
    "# kmeans_nmf_labels[kmeans_nmf_labels['Label']==3] # Peopel\n",
    "# kmeans_nmf_labels[kmeans_nmf_labels['Label']==4] # Eating and like\n",
    "# kmeans_nmf_labels[kmeans_nmf_labels['Label']==5] # Sex"
   ]
  },
  {
   "cell_type": "code",
   "execution_count": 517,
   "metadata": {
    "ExecuteTime": {
     "end_time": "2018-08-22T02:30:31.088687Z",
     "start_time": "2018-08-22T02:30:31.078147Z"
    },
    "hidden": true
   },
   "outputs": [
    {
     "data": {
      "text/plain": [
       "Counter({0: 1049, 5: 27, 2: 28, 3: 20, 1: 20, 4: 10})"
      ]
     },
     "execution_count": 517,
     "metadata": {},
     "output_type": "execute_result"
    }
   ],
   "source": [
    "kmeans_lsa_labels = pd.concat([pd.DataFrame(cleaned_w), pd.DataFrame(km_lsa)], axis=1)\n",
    "kmeans_lsa_labels.columns=['Answer', 'Label']\n",
    "Counter(kmeans_lsa_labels['Label'])"
   ]
  },
  {
   "cell_type": "code",
   "execution_count": 524,
   "metadata": {
    "ExecuteTime": {
     "end_time": "2018-08-22T02:31:57.218117Z",
     "start_time": "2018-08-22T02:31:57.204674Z"
    },
    "hidden": true
   },
   "outputs": [
    {
     "data": {
      "text/html": [
       "<div>\n",
       "<style scoped>\n",
       "    .dataframe tbody tr th:only-of-type {\n",
       "        vertical-align: middle;\n",
       "    }\n",
       "\n",
       "    .dataframe tbody tr th {\n",
       "        vertical-align: top;\n",
       "    }\n",
       "\n",
       "    .dataframe thead th {\n",
       "        text-align: right;\n",
       "    }\n",
       "</style>\n",
       "<table border=\"1\" class=\"dataframe\">\n",
       "  <thead>\n",
       "    <tr style=\"text-align: right;\">\n",
       "      <th></th>\n",
       "      <th>Answer</th>\n",
       "      <th>Label</th>\n",
       "    </tr>\n",
       "  </thead>\n",
       "  <tbody>\n",
       "    <tr>\n",
       "      <th>188</th>\n",
       "      <td>hot pockets</td>\n",
       "      <td>4</td>\n",
       "    </tr>\n",
       "    <tr>\n",
       "      <th>285</th>\n",
       "      <td>hot mess</td>\n",
       "      <td>4</td>\n",
       "    </tr>\n",
       "    <tr>\n",
       "      <th>304</th>\n",
       "      <td>hot people</td>\n",
       "      <td>4</td>\n",
       "    </tr>\n",
       "    <tr>\n",
       "      <th>368</th>\n",
       "      <td>hot cheese</td>\n",
       "      <td>4</td>\n",
       "    </tr>\n",
       "    <tr>\n",
       "      <th>378</th>\n",
       "      <td>soup hot</td>\n",
       "      <td>4</td>\n",
       "    </tr>\n",
       "    <tr>\n",
       "      <th>820</th>\n",
       "      <td>shit-hot guitar licks</td>\n",
       "      <td>4</td>\n",
       "    </tr>\n",
       "    <tr>\n",
       "      <th>1034</th>\n",
       "      <td>hot lettuce</td>\n",
       "      <td>4</td>\n",
       "    </tr>\n",
       "    <tr>\n",
       "      <th>1061</th>\n",
       "      <td>brother 's hot friends</td>\n",
       "      <td>4</td>\n",
       "    </tr>\n",
       "    <tr>\n",
       "      <th>1124</th>\n",
       "      <td>hot milf dallas</td>\n",
       "      <td>4</td>\n",
       "    </tr>\n",
       "    <tr>\n",
       "      <th>1145</th>\n",
       "      <td>watching hot person eat</td>\n",
       "      <td>4</td>\n",
       "    </tr>\n",
       "  </tbody>\n",
       "</table>\n",
       "</div>"
      ],
      "text/plain": [
       "                       Answer  Label\n",
       "188               hot pockets      4\n",
       "285                  hot mess      4\n",
       "304                hot people      4\n",
       "368                hot cheese      4\n",
       "378                  soup hot      4\n",
       "820     shit-hot guitar licks      4\n",
       "1034              hot lettuce      4\n",
       "1061   brother 's hot friends      4\n",
       "1124          hot milf dallas      4\n",
       "1145  watching hot person eat      4"
      ]
     },
     "execution_count": 524,
     "metadata": {},
     "output_type": "execute_result"
    }
   ],
   "source": [
    "# kmeans_lsa_labels[kmeans_lsa_labels['Label']==0][:20]\n",
    "# kmeans_lsa_labels[kmeans_lsa_labels['Label']==1] # People\n",
    "# kmeans_lsa_labels[kmeans_lsa_labels['Label']==2] # Sex\n",
    "# kmeans_lsa_labels[kmeans_lsa_labels['Label']==3] # Eating\n",
    "kmeans_lsa_labels[kmeans_lsa_labels['Label']==4] # hot\n",
    "# kmeans_lsa_labels[kmeans_lsa_labels['Label']==5] # Man"
   ]
  },
  {
   "cell_type": "markdown",
   "metadata": {
    "heading_collapsed": true,
    "hidden": true
   },
   "source": [
    "#### DB Scan"
   ]
  },
  {
   "cell_type": "code",
   "execution_count": 287,
   "metadata": {
    "ExecuteTime": {
     "end_time": "2018-08-22T00:27:36.088135Z",
     "start_time": "2018-08-22T00:27:36.083501Z"
    },
    "hidden": true
   },
   "outputs": [],
   "source": [
    "from sklearn.cluster import DBSCAN\n",
    "from sklearn.preprocessing import StandardScaler\n",
    "from sklearn import metrics"
   ]
  },
  {
   "cell_type": "code",
   "execution_count": 485,
   "metadata": {
    "ExecuteTime": {
     "end_time": "2018-08-22T02:12:18.447605Z",
     "start_time": "2018-08-22T02:12:18.439543Z"
    },
    "hidden": true
   },
   "outputs": [],
   "source": [
    "X_lsa_tfidf_data_w = StandardScaler().fit_transform(lsa_tfidf_data_w)\n",
    "X_nm_cv_data_W = StandardScaler().fit_transform(nm_cv_data_W)"
   ]
  },
  {
   "cell_type": "code",
   "execution_count": 433,
   "metadata": {
    "ExecuteTime": {
     "end_time": "2018-08-22T02:01:45.247921Z",
     "start_time": "2018-08-22T02:01:45.241300Z"
    },
    "hidden": true
   },
   "outputs": [],
   "source": [
    "def eval_dbscan(X, eps, min_samples):\n",
    "    clusters = []\n",
    "    silhouette_scores = []\n",
    "    for i in range(len(eps)):\n",
    "        # Compute DBSCAN\n",
    "        db = DBSCAN(eps=eps[i], min_samples=min_samples).fit(X)\n",
    "        core_samples_mask = np.zeros_like(db.labels_, dtype=bool)\n",
    "        core_samples_mask[db.core_sample_indices_] = True\n",
    "        labels = db.labels_\n",
    "\n",
    "        n_clusters_ = len(set(labels)) - (1 if -1 in labels else 0)\n",
    "        # print('Estimated number of clusters: %d' % n_clusters_)\n",
    "        # print(\"Silhouette Coefficient: %0.3f\"% metrics.silhouette_score(X, labels))\n",
    "        clusters.append(n_clusters_)\n",
    "        silhouette_scores.append(metrics.silhouette_score(X, labels))\n",
    "    return pd.DataFrame(list(zip(eps, clusters, silhouette_scores)), columns=['eps', 'clusters', 'silhouette_scores'])"
   ]
  },
  {
   "cell_type": "code",
   "execution_count": 486,
   "metadata": {
    "ExecuteTime": {
     "end_time": "2018-08-22T02:12:28.185348Z",
     "start_time": "2018-08-22T02:12:24.239810Z"
    },
    "hidden": true
   },
   "outputs": [
    {
     "name": "stdout",
     "output_type": "stream",
     "text": [
      "                 0  eps  clusters  silhouette_scores\n",
      "22  X_nm_cv_data_W  2.3         5           0.864719\n",
      "23  X_nm_cv_data_W  2.4         5           0.864719\n",
      "21  X_nm_cv_data_W  2.2         5           0.863818\n",
      "20  X_nm_cv_data_W  2.1         5           0.859468\n",
      "19  X_nm_cv_data_W  2.0         5           0.859468\n"
     ]
    },
    {
     "data": {
      "text/plain": [
       "[<matplotlib.lines.Line2D at 0x10bd51d68>]"
      ]
     },
     "execution_count": 486,
     "metadata": {},
     "output_type": "execute_result"
    },
    {
     "data": {
      "image/png": "[encoded data removed]",
      "text/plain": [
       "<Figure size 432x288 with 1 Axes>"
      ]
     },
     "metadata": {},
     "output_type": "display_data"
    }
   ],
   "source": [
    "eps = np.arange(0.1, 2.5, 0.1)\n",
    "min_samples=3\n",
    "name = ['X_nm_cv_data_W']*len(eps) + ['X_lsa_tfidf_data_w']*len(eps)\n",
    "X = [X_nm_cv_data_W, X_lsa_tfidf_data_w]\n",
    "\n",
    "db_nm = eval_dbscan(X_nm_cv_data_W, eps, min_samples)\n",
    "db_lsa = eval_dbscan(X_lsa_tfidf_data_w, eps, min_samples)\n",
    "db_all = pd.concat([db_nm, db_lsa], axis=0).reset_index()\n",
    "db_all = pd.merge(pd.DataFrame(name), db_all, left_index=True, right_index=True)\n",
    "db_all.drop(labels = ['index'], axis=1, inplace=True)\n",
    "print(db_all.sort_values(by='silhouette_scores', ascending = False)[:5])\n",
    "\n",
    "plt.plot(db_all['silhouette_scores'])\n",
    "# Based on this results, I pick eps=2.3, X_nm_cv_data_W"
   ]
  },
  {
   "cell_type": "code",
   "execution_count": 487,
   "metadata": {
    "ExecuteTime": {
     "end_time": "2018-08-22T02:12:45.675380Z",
     "start_time": "2018-08-22T02:12:45.127958Z"
    },
    "hidden": true
   },
   "outputs": [
    {
     "name": "stdout",
     "output_type": "stream",
     "text": [
      "Estimated number of clusters: 5\n",
      "Silhouette Coefficient: 0.865\n"
     ]
    },
    {
     "data": {
      "text/plain": [
       "Text(0.5,1,'Estimated number of clusters: 5')"
      ]
     },
     "execution_count": 487,
     "metadata": {},
     "output_type": "execute_result"
    },
    {
     "data": {
      "image/png": "[encoded data removed]",
      "text/plain": [
       "<Figure size 1200x800 with 1 Axes>"
      ]
     },
     "metadata": {},
     "output_type": "display_data"
    }
   ],
   "source": [
    "# Compute DBSCAN and Plot the Chosen parameters\n",
    "X = X_nm_cv_data_W\n",
    "eps=2.3\n",
    "min_samples=3\n",
    "db = DBSCAN(eps=eps, min_samples=min_samples).fit(X)\n",
    "core_samples_mask = np.zeros_like(db.labels_, dtype=bool)\n",
    "core_samples_mask[db.core_sample_indices_] = True\n",
    "labels = db.labels_\n",
    "\n",
    "n_clusters_ = len(set(labels)) - (1 if -1 in labels else 0)\n",
    "print('Estimated number of clusters: %d' % n_clusters_)\n",
    "print(\"Silhouette Coefficient: %0.3f\"% metrics.silhouette_score(X, labels))\n",
    "\n",
    "plt.figure(dpi=200)\n",
    "unique_labels = set(labels)\n",
    "colors = [plt.cm.Spectral(each)\n",
    "          for each in np.linspace(0, 1, len(unique_labels))]\n",
    "for k, col in zip(unique_labels, colors):\n",
    "    if k == -1:\n",
    "        col = [0, 0, 0, 1]\n",
    "\n",
    "    class_member_mask = (labels == k)\n",
    "\n",
    "    xy = X[class_member_mask & core_samples_mask]\n",
    "    plt.plot(xy[:, 0], xy[:, 1], 'o', markerfacecolor=tuple(col),\n",
    "             markeredgecolor='k', markersize=6, alpha=0.5)\n",
    "\n",
    "    xy = X[class_member_mask & ~core_samples_mask]\n",
    "    plt.plot(xy[:, 0], xy[:, 1], 'o', markerfacecolor=tuple(col),\n",
    "             markeredgecolor='k', markersize=2, alpha=0.5)\n",
    "\n",
    "plt.title('Estimated number of clusters: %d' % n_clusters_)"
   ]
  },
  {
   "cell_type": "code",
   "execution_count": 488,
   "metadata": {
    "ExecuteTime": {
     "end_time": "2018-08-22T02:12:53.490200Z",
     "start_time": "2018-08-22T02:12:53.214028Z"
    },
    "hidden": true
   },
   "outputs": [
    {
     "name": "stdout",
     "output_type": "stream",
     "text": [
      "Counter({0: 1054, 2: 27, 3: 24, 1: 23, 4: 20, -1: 6})\n"
     ]
    },
    {
     "data": {
      "text/plain": [
       "(array([   6., 1054.,   23.,   27.,   44.]),\n",
       " array([-1.,  0.,  1.,  2.,  3.,  4.]),\n",
       " <a list of 5 Patch objects>)"
      ]
     },
     "execution_count": 488,
     "metadata": {},
     "output_type": "execute_result"
    },
    {
     "data": {
      "image/png": "[encoded data removed]",
      "text/plain": [
       "<Figure size 432x288 with 1 Axes>"
      ]
     },
     "metadata": {},
     "output_type": "display_data"
    }
   ],
   "source": [
    "print(Counter(labels))\n",
    "plt.hist(labels, bins=5)"
   ]
  },
  {
   "cell_type": "code",
   "execution_count": 489,
   "metadata": {
    "ExecuteTime": {
     "end_time": "2018-08-22T02:13:00.344295Z",
     "start_time": "2018-08-22T02:13:00.333153Z"
    },
    "hidden": true
   },
   "outputs": [],
   "source": [
    "dbscan_labels = pd.concat([pd.DataFrame(cleaned_w), pd.DataFrame(labels)], axis=1)\n",
    "dbscan_labels.columns=['Answer', 'Label']"
   ]
  },
  {
   "cell_type": "code",
   "execution_count": 495,
   "metadata": {
    "ExecuteTime": {
     "end_time": "2018-08-22T02:15:59.351861Z",
     "start_time": "2018-08-22T02:15:59.337278Z"
    },
    "hidden": true
   },
   "outputs": [
    {
     "data": {
      "text/html": [
       "<div>\n",
       "<style scoped>\n",
       "    .dataframe tbody tr th:only-of-type {\n",
       "        vertical-align: middle;\n",
       "    }\n",
       "\n",
       "    .dataframe tbody tr th {\n",
       "        vertical-align: top;\n",
       "    }\n",
       "\n",
       "    .dataframe thead th {\n",
       "        text-align: right;\n",
       "    }\n",
       "</style>\n",
       "<table border=\"1\" class=\"dataframe\">\n",
       "  <thead>\n",
       "    <tr style=\"text-align: right;\">\n",
       "      <th></th>\n",
       "      <th>Answer</th>\n",
       "      <th>Label</th>\n",
       "    </tr>\n",
       "  </thead>\n",
       "  <tbody>\n",
       "    <tr>\n",
       "      <th>0</th>\n",
       "      <td>coat hanger abortions</td>\n",
       "      <td>0</td>\n",
       "    </tr>\n",
       "    <tr>\n",
       "      <th>2</th>\n",
       "      <td>autocannibalism</td>\n",
       "      <td>0</td>\n",
       "    </tr>\n",
       "    <tr>\n",
       "      <th>3</th>\n",
       "      <td>vigorous jazz hands</td>\n",
       "      <td>0</td>\n",
       "    </tr>\n",
       "    <tr>\n",
       "      <th>4</th>\n",
       "      <td>flightless birds</td>\n",
       "      <td>0</td>\n",
       "    </tr>\n",
       "    <tr>\n",
       "      <th>5</th>\n",
       "      <td>pictures boobs</td>\n",
       "      <td>0</td>\n",
       "    </tr>\n",
       "    <tr>\n",
       "      <th>6</th>\n",
       "      <td>right thing</td>\n",
       "      <td>0</td>\n",
       "    </tr>\n",
       "    <tr>\n",
       "      <th>7</th>\n",
       "      <td>violation basic human rights</td>\n",
       "      <td>0</td>\n",
       "    </tr>\n",
       "    <tr>\n",
       "      <th>8</th>\n",
       "      <td>viagra</td>\n",
       "      <td>0</td>\n",
       "    </tr>\n",
       "    <tr>\n",
       "      <th>9</th>\n",
       "      <td>self-loathing</td>\n",
       "      <td>0</td>\n",
       "    </tr>\n",
       "    <tr>\n",
       "      <th>10</th>\n",
       "      <td>spectacular abs</td>\n",
       "      <td>0</td>\n",
       "    </tr>\n",
       "    <tr>\n",
       "      <th>11</th>\n",
       "      <td>balanced breakfast</td>\n",
       "      <td>0</td>\n",
       "    </tr>\n",
       "    <tr>\n",
       "      <th>12</th>\n",
       "      <td>roofies</td>\n",
       "      <td>0</td>\n",
       "    </tr>\n",
       "    <tr>\n",
       "      <th>13</th>\n",
       "      <td>concealing boner</td>\n",
       "      <td>0</td>\n",
       "    </tr>\n",
       "    <tr>\n",
       "      <th>14</th>\n",
       "      <td>amputees</td>\n",
       "      <td>0</td>\n",
       "    </tr>\n",
       "    <tr>\n",
       "      <th>15</th>\n",
       "      <td>big bang</td>\n",
       "      <td>0</td>\n",
       "    </tr>\n",
       "    <tr>\n",
       "      <th>16</th>\n",
       "      <td>former president george w. bush</td>\n",
       "      <td>0</td>\n",
       "    </tr>\n",
       "    <tr>\n",
       "      <th>17</th>\n",
       "      <td>rev dr. martin luther king jr</td>\n",
       "      <td>0</td>\n",
       "    </tr>\n",
       "    <tr>\n",
       "      <th>18</th>\n",
       "      <td>smegma</td>\n",
       "      <td>0</td>\n",
       "    </tr>\n",
       "    <tr>\n",
       "      <th>19</th>\n",
       "      <td>marginalized</td>\n",
       "      <td>0</td>\n",
       "    </tr>\n",
       "    <tr>\n",
       "      <th>20</th>\n",
       "      <td>cuddling</td>\n",
       "      <td>0</td>\n",
       "    </tr>\n",
       "  </tbody>\n",
       "</table>\n",
       "</div>"
      ],
      "text/plain": [
       "                             Answer  Label\n",
       "0             coat hanger abortions      0\n",
       "2                   autocannibalism      0\n",
       "3               vigorous jazz hands      0\n",
       "4                  flightless birds      0\n",
       "5                    pictures boobs      0\n",
       "6                       right thing      0\n",
       "7      violation basic human rights      0\n",
       "8                            viagra      0\n",
       "9                     self-loathing      0\n",
       "10                  spectacular abs      0\n",
       "11               balanced breakfast      0\n",
       "12                          roofies      0\n",
       "13                 concealing boner      0\n",
       "14                         amputees      0\n",
       "15                         big bang      0\n",
       "16  former president george w. bush      0\n",
       "17    rev dr. martin luther king jr      0\n",
       "18                           smegma      0\n",
       "19                     marginalized      0\n",
       "20                         cuddling      0"
      ]
     },
     "execution_count": 495,
     "metadata": {},
     "output_type": "execute_result"
    }
   ],
   "source": [
    "dbscan_labels[dbscan_labels['Label']==0][:20]\n",
    "# dbscan_labels[dbscan_labels['Label']==1] #Man\n",
    "# dbscan_labels[dbscan_labels['Label']==2] #Sex\n",
    "# dbscan_labels[dbscan_labels['Label']==3] #Eating and like\n",
    "# dbscan_labels[dbscan_labels['Label']==4] # Peopel\n",
    "# dbscan_labels[dbscan_labels['Label']== -1] #F-ed up violence"
   ]
  },
  {
   "cell_type": "code",
   "execution_count": null,
   "metadata": {
    "hidden": true
   },
   "outputs": [],
   "source": []
  },
  {
   "cell_type": "markdown",
   "metadata": {
    "heading_collapsed": true,
    "hidden": true
   },
   "source": [
    "#### Not using"
   ]
  },
  {
   "cell_type": "code",
   "execution_count": 118,
   "metadata": {
    "ExecuteTime": {
     "end_time": "2018-08-21T20:52:38.694511Z",
     "start_time": "2018-08-21T20:52:38.352771Z"
    },
    "collapsed": true,
    "hidden": true
   },
   "outputs": [
    {
     "name": "stdout",
     "output_type": "stream",
     "text": [
      "[0.00934901 0.00915374 0.00867205 0.00750075 0.0070236  0.00665537\n",
      " 0.00590909 0.00515451 0.0052755  0.00480675]\n",
      "[5.90951596 5.57760141 5.43678995 5.08170682 4.93701365 4.7361396\n",
      " 4.50894425 4.24894714 4.21849413 4.0347939 ]\n",
      "(10, 2220)\n"
     ]
    },
    {
     "data": {
      "text/plain": [
       "[<matplotlib.lines.Line2D at 0x1a2bd31b00>]"
      ]
     },
     "execution_count": 118,
     "metadata": {},
     "output_type": "execute_result"
    },
    {
     "data": {
      "image/png": "[encoded data removed]",
      "text/plain": [
       "<Figure size 1440x432 with 2 Axes>"
      ]
     },
     "metadata": {},
     "output_type": "display_data"
    }
   ],
   "source": [
    "# For Visualization\n",
    "n_comp = 10\n",
    "pca_cv = TruncatedSVD(n_components=n_comp)\n",
    "pca_cv_data_W = pca_cv.fit_transform(cv_w)\n",
    "print(pca_cv.explained_variance_ratio_)  \n",
    "print(pca_cv.singular_values_) \n",
    "print(pca_cv.components_.shape)\n",
    "\n",
    "f, ax = plt.subplots(nrows=1, ncols=2, sharex=True, sharey=True, figsize=(20,6))\n",
    "f.subplots_adjust(hspace=0.3)\n",
    "\n",
    "ax[0].set_title('PCA Components')\n",
    "ax[0].plot(pca_cv.components_[0, :], pca_cv.components_[1, :], 'o', alpha=0.5)\n",
    "ax[1].set_title('PCA Out Matrix')\n",
    "ax[1].plot(pca_cv_data_W[:,0], pca_cv_data_W[:,1], 'o', alpha=0.5)"
   ]
  },
  {
   "cell_type": "code",
   "execution_count": 171,
   "metadata": {
    "ExecuteTime": {
     "end_time": "2018-08-21T21:08:20.539442Z",
     "start_time": "2018-08-21T21:08:20.240047Z"
    },
    "hidden": true
   },
   "outputs": [
    {
     "name": "stdout",
     "output_type": "stream",
     "text": [
      "Counter({0: 957, 9: 55, 4: 29, 3: 26, 1: 22, 2: 21, 5: 19, 6: 12, 8: 12, 7: 1})\n"
     ]
    },
    {
     "data": {
      "text/plain": [
       "<matplotlib.collections.PathCollection at 0x1a1594c630>"
      ]
     },
     "execution_count": 171,
     "metadata": {},
     "output_type": "execute_result"
    },
    {
     "data": {
      "image/png": "[encoded data removed]",
      "text/plain": [
       "<Figure size 432x288 with 1 Axes>"
      ]
     },
     "metadata": {},
     "output_type": "display_data"
    }
   ],
   "source": [
    "# For Visualization\n",
    "n_clusters = 10\n",
    "km2 = KMeans(n_clusters = n_clusters)\n",
    "km2.fit(pca_cv_data_W)\n",
    "print(Counter(km2.labels_))\n",
    "\n",
    "plt.title('PCA Out Matrix')\n",
    "plt.scatter(pca_cv_data_W[:,0], pca_cv_data_W[:,1], c=km2.labels_, alpha=0.5)"
   ]
  },
  {
   "cell_type": "markdown",
   "metadata": {},
   "source": [
    "### RNN"
   ]
  },
  {
   "cell_type": "code",
   "execution_count": 219,
   "metadata": {
    "ExecuteTime": {
     "end_time": "2018-08-21T21:45:23.960946Z",
     "start_time": "2018-08-21T21:45:23.276455Z"
    }
   },
   "outputs": [],
   "source": [
    "import torch\n",
    "import torch.nn as nn\n",
    "import torch.nn.functional as F\n",
    "import torch.optim as optim"
   ]
  },
  {
   "cell_type": "code",
   "execution_count": 237,
   "metadata": {
    "ExecuteTime": {
     "end_time": "2018-08-21T22:12:39.628547Z",
     "start_time": "2018-08-21T22:12:39.580914Z"
    }
   },
   "outputs": [
    {
     "name": "stdout",
     "output_type": "stream",
     "text": [
      "[tensor([[-0.5576, -0.4004, -0.1611]]), tensor([[1.6806, 0.8899, 0.7150]]), tensor([[1.6324, 0.0333, 0.3113]]), tensor([[ 0.7473, -1.5173,  1.0968]]), tensor([[-0.4707,  1.4109,  0.8930]])]\n",
      "\n",
      "(tensor([[[ 0.5312,  0.4164, -2.0819]]]), tensor([[[ 1.8215,  1.4218, -0.1352]]]))\n",
      "\n",
      "tensor([[[ 0.1960,  0.3304, -0.0140]]], grad_fn=<CatBackward>) (tensor([[[ 0.1960,  0.3304, -0.0140]]], grad_fn=<ViewBackward>), tensor([[[ 0.9050,  0.5521, -0.0185]]], grad_fn=<ViewBackward>))\n",
      "\n",
      "tensor([[[ 0.2625, -0.1113, -0.0187]]], grad_fn=<CatBackward>) (tensor([[[ 0.2625, -0.1113, -0.0187]]], grad_fn=<ViewBackward>), tensor([[[ 0.4410, -0.2044, -0.0255]]], grad_fn=<ViewBackward>))\n",
      "\n",
      "tensor([[[ 0.1582, -0.3098, -0.0229]]], grad_fn=<CatBackward>) (tensor([[[ 0.1582, -0.3098, -0.0229]]], grad_fn=<ViewBackward>), tensor([[[ 0.3333, -0.5099, -0.0379]]], grad_fn=<ViewBackward>))\n",
      "\n",
      "tensor([[[ 0.2187, -0.2396, -0.0119]]], grad_fn=<CatBackward>) (tensor([[[ 0.2187, -0.2396, -0.0119]]], grad_fn=<ViewBackward>), tensor([[[ 0.4865, -0.3318, -0.0213]]], grad_fn=<ViewBackward>))\n",
      "\n",
      "tensor([[[ 0.1785, -0.2037, -0.0698]]], grad_fn=<CatBackward>) (tensor([[[ 0.1785, -0.2037, -0.0698]]], grad_fn=<ViewBackward>), tensor([[[ 0.3078, -0.5290, -0.0836]]], grad_fn=<ViewBackward>))\n",
      "\n"
     ]
    }
   ],
   "source": [
    "lstm = nn.LSTM(3, 3)  # Input dim is 3, output dim is 3\n",
    "inputs = [torch.randn(1, 3) for _ in range(5)]  # make a sequence of length 5\n",
    "print(inputs)\n",
    "print()\n",
    "# # initialize the hidden state.\n",
    "hidden = (torch.randn(1, 1, 3),\n",
    "          torch.randn(1, 1, 3))\n",
    "print(hidden)\n",
    "print()\n",
    "for i in inputs:\n",
    "#     # Step through the sequence one element at a time.\n",
    "#     # after each step, hidden contains the hidden state.\n",
    "    out, hidden = lstm(i.view(1, 1, -1), hidden)\n",
    "    print(out, hidden)\n",
    "    print()"
   ]
  },
  {
   "cell_type": "code",
   "execution_count": 232,
   "metadata": {
    "ExecuteTime": {
     "end_time": "2018-08-21T21:50:28.367113Z",
     "start_time": "2018-08-21T21:50:28.356481Z"
    }
   },
   "outputs": [
    {
     "name": "stdout",
     "output_type": "stream",
     "text": [
      "tensor([[[ 0.0620,  0.1487,  0.0885]],\n",
      "\n",
      "        [[-0.3055,  0.1013,  0.0948]],\n",
      "\n",
      "        [[-0.1396,  0.1814,  0.2787]],\n",
      "\n",
      "        [[-0.3497, -0.0022, -0.0701]],\n",
      "\n",
      "        [[-0.4779,  0.1155, -0.3771]]], grad_fn=<CatBackward>)\n",
      "(tensor([[[-0.4779,  0.1155, -0.3771]]], grad_fn=<ViewBackward>), tensor([[[-0.7820,  0.5263, -0.6907]]], grad_fn=<ViewBackward>))\n"
     ]
    }
   ],
   "source": [
    "# alternatively, we can do the entire sequence all at once.\n",
    "# the first value returned by LSTM is all of the hidden states throughout\n",
    "# the sequence. the second is just the most recent hidden state\n",
    "# (compare the last slice of \"out\" with \"hidden\" below, they are the same)\n",
    "# The reason for this is that:\n",
    "# \"out\" will give you access to all hidden states in the sequence\n",
    "# \"hidden\" will allow you to continue the sequence and backpropagate,\n",
    "# by passing it as an argument  to the lstm at a later time\n",
    "# Add the extra 2nd dimension\n",
    "inputs = torch.cat(inputs).view(len(inputs), 1, -1)\n",
    "hidden = (torch.randn(1, 1, 3), torch.randn(1, 1, 3))  # clean out hidden state\n",
    "out, hidden = lstm(inputs, hidden)\n",
    "print(out)\n",
    "print(hidden)"
   ]
  },
  {
   "cell_type": "code",
   "execution_count": null,
   "metadata": {},
   "outputs": [],
   "source": []
  },
  {
   "cell_type": "code",
   "execution_count": null,
   "metadata": {},
   "outputs": [],
   "source": []
  },
  {
   "cell_type": "code",
   "execution_count": null,
   "metadata": {},
   "outputs": [],
   "source": []
  }
 ],
 "metadata": {
  "kernelspec": {
   "display_name": "Python (anacoda)",
   "language": "python",
   "name": "other-env"
  },
  "language_info": {
   "codemirror_mode": {
    "name": "ipython",
    "version": 3
   },
   "file_extension": ".py",
   "mimetype": "text/x-python",
   "name": "python",
   "nbconvert_exporter": "python",
   "pygments_lexer": "ipython3",
   "version": "3.6.5"
  },
  "varInspector": {
   "cols": {
    "lenName": 16,
    "lenType": 16,
    "lenVar": 40
   },
   "kernels_config": {
    "python": {
     "delete_cmd_postfix": "",
     "delete_cmd_prefix": "del ",
     "library": "var_list.py",
     "varRefreshCmd": "print(var_dic_list())"
    },
    "r": {
     "delete_cmd_postfix": ") ",
     "delete_cmd_prefix": "rm(",
     "library": "var_list.r",
     "varRefreshCmd": "cat(var_dic_list()) "
    }
   },
   "types_to_exclude": [
    "module",
    "function",
    "builtin_function_or_method",
    "instance",
    "_Feature"
   ],
   "window_display": false
  }
 },
 "nbformat": 4,
 "nbformat_minor": 2
}
