{
 "cells": [
  {
   "cell_type": "markdown",
   "metadata": {},
   "source": [
    "# Natural Language Geneartion \n",
    "## (Word - by - Word)\n",
    "Generate new Answer Cards using RNN"
   ]
  },
  {
   "cell_type": "markdown",
   "metadata": {
    "heading_collapsed": true
   },
   "source": [
    "#### Pre-processing  \n",
    "Length of vocab: 1465  \n",
    "Length of first line: 5"
   ]
  },
  {
   "cell_type": "code",
   "execution_count": 2,
   "metadata": {
    "ExecuteTime": {
     "end_time": "2018-08-24T22:37:04.837299Z",
     "start_time": "2018-08-24T22:37:01.732555Z"
    },
    "hidden": true
   },
   "outputs": [],
   "source": [
    "import torch\n",
    "import torch.nn as nn\n",
    "import torch.nn.functional as F\n",
    "import torch.optim as optim\n",
    "\n",
    "from sklearn.cluster import KMeans\n",
    "from sklearn.manifold import TSNE\n",
    "import matplotlib.pyplot as plt\n",
    "%matplotlib inline\n",
    "from sklearn.metrics import silhouette_score\n",
    "from sklearn import metrics\n",
    "\n",
    "import numpy as np\n",
    "import random\n",
    "import pandas as pd\n",
    "import os\n",
    "import pickle"
   ]
  },
  {
   "cell_type": "code",
   "execution_count": 3,
   "metadata": {
    "ExecuteTime": {
     "end_time": "2018-08-24T22:37:04.863968Z",
     "start_time": "2018-08-24T22:37:04.858760Z"
    },
    "hidden": true
   },
   "outputs": [],
   "source": [
    "os.chdir('/Users/bellepeng/Desktop/Metis/Projects/NLP_CardsAgainstHumanity/data')"
   ]
  },
  {
   "cell_type": "code",
   "execution_count": 4,
   "metadata": {
    "ExecuteTime": {
     "end_time": "2018-08-24T22:37:06.328442Z",
     "start_time": "2018-08-24T22:37:06.318410Z"
    },
    "hidden": true
   },
   "outputs": [
    {
     "name": "stdout",
     "output_type": "stream",
     "text": [
      "Length of vocab: 1465\n",
      "Length of first line: 5\n"
     ]
    }
   ],
   "source": [
    "with open('w2v_pred_words_flat.pkl', 'rb') as picklefile:\n",
    "    w2v_pred_words_flat = pickle.load(picklefile)\n",
    "    \n",
    "print(\"Length of vocab:\", len(w2v_pred_words_flat)) # Length of vocab\n",
    "print(\"Length of first line:\", len(w2v_pred_words_flat[1]))"
   ]
  },
  {
   "cell_type": "markdown",
   "metadata": {
    "heading_collapsed": true
   },
   "source": [
    "#### Model Prep"
   ]
  },
  {
   "cell_type": "code",
   "execution_count": 4,
   "metadata": {
    "ExecuteTime": {
     "end_time": "2018-08-24T06:10:36.910700Z",
     "start_time": "2018-08-24T06:10:36.899212Z"
    },
    "hidden": true
   },
   "outputs": [],
   "source": [
    "word_to_ix = {}\n",
    "for sent in w2v_pred_words_flat:\n",
    "    for word in sent:\n",
    "        if word not in word_to_ix:\n",
    "            word_to_ix[word] = len(word_to_ix)"
   ]
  },
  {
   "cell_type": "code",
   "execution_count": 5,
   "metadata": {
    "ExecuteTime": {
     "end_time": "2018-08-24T06:10:37.325725Z",
     "start_time": "2018-08-24T06:10:37.320246Z"
    },
    "hidden": true
   },
   "outputs": [],
   "source": [
    "def prepare_sequence(seq, to_ix):\n",
    "    idxs = [to_ix[w] for w in seq]\n",
    "    return torch.tensor(idxs, dtype=torch.long)"
   ]
  },
  {
   "cell_type": "code",
   "execution_count": 6,
   "metadata": {
    "ExecuteTime": {
     "end_time": "2018-08-24T06:10:37.928120Z",
     "start_time": "2018-08-24T06:10:37.893701Z"
    },
    "hidden": true
   },
   "outputs": [
    {
     "name": "stdout",
     "output_type": "stream",
     "text": [
      "1465\n"
     ]
    },
    {
     "data": {
      "text/plain": [
       "tensor([0, 1, 2, 3, 4])"
      ]
     },
     "execution_count": 6,
     "metadata": {},
     "output_type": "execute_result"
    }
   ],
   "source": [
    "inputs = [prepare_sequence(sent, word_to_ix) for sent in w2v_pred_words_flat]\n",
    "print(len(inputs))\n",
    "inputs[0]"
   ]
  },
  {
   "cell_type": "code",
   "execution_count": 7,
   "metadata": {
    "ExecuteTime": {
     "end_time": "2018-08-24T06:10:38.866133Z",
     "start_time": "2018-08-24T06:10:38.850687Z"
    },
    "hidden": true
   },
   "outputs": [
    {
     "name": "stdout",
     "output_type": "stream",
     "text": [
      "{'sleep': 0, 'night': 1, '?': 2, 'passage': 3, 'time': 4, 'turning': 5, '32': 6, 'wearing': 7, 'glasses': 8, 'sounding': 9, 'smart': 10, 'shitting': 11, 'floor': 12, 'like': 13, 'bad': 14, 'girl': 15, 'salsa': 16, 'dave': 17, \"'s\": 18, 'cantina': 19, '99': 20, 'problems': 21, 'one': 22, 'rival': 23, 'dojo': 24, 'web': 25, 'lies': 26, 'google': 27, 'sea': 28, 'troubles': 29, 'intimacy': 30, 'best': 31, 'friend': 32, 'medium': 33, 'horchata': 34, 'happy': 35, 'daddies': 36, 'sandals': 37, 'opening': 38, 'mouth': 39, 'talk': 40, 'big': 41, 'penis': 42, 'fops': 43, 'seeing': 44, 'things': 45, 'hitler': 46, 'perspective': 47, 'bees': 48, 'smell': 49, 'genghis': 50, 'khan': 51, 'dna': 52, 'putting': 53, 'entire': 54, 'peanut': 55, 'butter': 56, 'jelly': 57, 'sandwich': 58, 'vcr': 59, 'long': 60, 'finding': 61, 'cards': 62, 'humanity': 63, 'card': 64, 'funny': 65, 'homeless': 66, 'people': 67, 'way': 68, 'world': 69, 'ends': 70, '/': 71, 'bang': 72, 'trillion': 73, 'dollars': 74, 'sexy': 75, 'pillow': 76, 'fights': 77, 'subscription': 78, 'men': 79, 'fitness': 80, 'high': 81, 'mom': 82, 'contributing': 83, 'society': 84, 'meaningful': 85, 'batman': 86, 'guilty': 87, 'pleasure': 88, 'alcoholism': 89, 'growing': 90, 'chained': 91, 'radiator': 92, 'perpetual': 93, 'darkness': 94, 'swim': 95, 'team': 96, 'awesome': 97, 'drinking': 98, 'driving': 99, 'tsa': 100, 'guidelines': 101, 'prohibit': 102, 'airplanes': 103, 'trees': 104, 'panty': 105, 'raids': 106, 'sad': 107, 'fat': 108, 'dragon': 109, 'friends': 110, 'mormon': 111, 'tabernacle': 112, 'choir': 113, 'bass': 114, 'drop': 115, 'huge': 116, 'tears': 117, 'starry': 118, 'vault': 119, 'asunder': 120, 'reveal': 121, 'face': 122, 'god': 123, 'ended': 124, 'last': 125, 'relationship': 126, 'libertarians': 127, 'naked': 128, 'soon': 129, 'balls': 130, 'full': 131, 'jizz': 132, 'taking': 133, 'shirt': 134, 'mtv': 135, 'new': 136, 'reality': 137, 'show': 138, 'features': 139, 'eight': 140, 'washed-up': 141, 'celebrities': 142, 'living': 143, 'nothing': 144, 'misogyny': 145, 'twenty': 146, 'bucks': 147, 'rehab': 148, 'drink': 149, 'forget': 150, 'three-fifths': 151, 'compromise': 152, 'grammar': 153, 'nazis': 154, 'also': 155, 'regular': 156, 'mufasa': 157, 'death': 158, 'scene': 159, 'bag': 160, 'magic': 161, 'beans': 162, 'dick': 163, 'fingers': 164, \"'m\": 165, 'sorry': 166, 'professor': 167, 'could': 168, 'complete': 169, 'homework': 170, 'homoerotic': 171, 'volleyball': 172, 'montage': 173, '10': 174, 'football': 175, 'players': 176, 'erections': 177, 'barreling': 178, 'towards': 179, 'speed': 180, 'forgetting': 181, 'grandma': 182, 'first': 183, 'name': 184, 'period': 185, 'poops': 186, 'alternative': 187, 'medicine': 188, 'embracing': 189, 'curative': 190, 'powers': 191, 'geese': 192, 'dorito': 193, 'crumbs': 194, 'purse': 195, 'fanta': 196, 'girls': 197, 'sneezing': 198, 'farting': 199, 'coming': 200, 'sugar': 201, 'madness': 202, 'sound': 203, 'three': 204, 'consecutive': 205, 'seconds': 206, 'happiness': 207, 'shiny': 208, 'objects': 209, 'eating': 210, 'together': 211, 'damn': 212, 'family': 213, 'almost': 214, 'giving': 215, 'money': 216, 'person': 217, 'next': 218, 'meal': 219, 'toy': 220, 'feeling': 221, 'going': 222, 'mcdonald': 223, '6-year-old': 224, 'pizza': 225, 'guy': 226, 'fucked': 227, 'boy': 228, 'scouts': 229, 'america': 230, 'helplessly': 231, 'giggling': 232, 'mention': 233, 'hutus': 234, 'tutsis': 235, 'pity': 236, 'kids': 237, 'days': 238, 'involved': 239, 'deez': 240, 'nuts': 241, 'pegged': 242, 'gandalf': 243, 'ominous': 244, 'background': 245, 'music': 246, 'ass': 247, 'cancer': 248, 'disney': 249, 'channel': 250, 'original': 251, 'movie': 252, 'hannah': 253, 'montana': 254, 'struggles': 255, 'spontaneous': 256, 'human': 257, 'combustion': 258, 'quiche': 259, 'fucking': 260, 'good': 261, 'red': 262, 'lobster': 263, 'autocannibalism': 264, 'want': 265, 'die': 266, 'genital': 267, 'piercings': 268, 'guns': 269, 'dying': 270, 'alone': 271, 'pain': 272, 'holding': 273, 'proper': 274, 'political': 275, 'beliefs': 276, 'attract': 277, 'mate': 278, 'watching': 279, 'cheney': 280, 'prefer': 281, 'bucket': 282, 'fish': 283, 'heads': 284, '!': 285, 'emotions': 286, 'two': 287, 'shitty': 288, 'garbage': 289, 'husband': 290, 'emo': 291, 'powered': 292, 'exoskeleton': 293, '110': 294, '%': 295, 'sex': 296, 'dungeon': 297, 'instead': 298, 'coal': 299, 'santa': 300, 'gives': 301, 'children': 302, 'cat': 303, 'video': 304, 'cute': 305, 'eyes': 306, 'roll': 307, 'back': 308, 'spine': 309, 'slides': 310, 'anus': 311, 'uninterrupted': 312, 'history': 313, 'imperialism': 314, 'exploitation': 315, 'mopey': 316, 'zoo': 317, 'lion': 318, 'mechahitler': 319, 'anal': 320, 'fissures': 321, 'would': 322, 'believe': 323, 'j.k.': 324, 'rowling': 325, ':': 326, 'harry': 327, 'potter': 328, 'chamber': 329, 'chainsaws': 330, 'hands': 331, 'muchin': 332, 'puss': 333, 'basic': 334, 'decency': 335, 'gogurt': 336, 'erotica': 337, 'romantic': 338, 'candlelit': 339, 'dinner': 340, 'incomplete': 341, 'without': 342, 'denying': 343, 'holocaust': 344, 'sweet': 345, 'spaceship': 346, 'michael': 347, 'jackson': 348, 'graphic': 349, 'violence': 350, 'adult': 351, 'language': 352, 'sexual': 353, 'content': 354, 'facilitating': 355, 'dialogue': 356, 'deconstructing': 357, 'binaries': 358, 'white': 359, 'black': 360, 'humiliation': 361, 'falcon': 362, 'cap': 363, 'head': 364, 'ejaculating': 365, 'live': 366, 'angry': 367, 'betcha': 368, 'axe': 369, 'body': 370, 'spray': 371, 'authentic': 372, 'mexican': 373, 'cuisine': 374, 'war': 375, '<': 376, '>': 377, 'leashes': 378, 'blood': 379, 'barack': 380, 'obama': 381, 'all-midget': 382, 'production': 383, 'shakespeare': 384, 'richard': 385, 'iii': 386, '/i': 387, 'billy': 388, 'mays': 389, 'dance': 390, 'plum': 391, 'fairy': 392, 'africa': 393, 'somersault': 394, 'barfing': 395, 'bloody': 396, 'pacifier': 397, 'pretty': 398, 'princess': 399, 'dress-up': 400, 'board': 401, 'game': 402, 'five': 403, 'bro': 404, 'tiny': 405, 'rancid': 406, 'farts': 407, 'skeletor': 408, 'aids': 409, 'monkeys': 410, 'dead': 411, 'think': 412, 'systematic': 413, 'destruction': 414, 'life': 415, 'poorly-timed': 416, 'jokes': 417, 'picking': 418, 'glass': 419, 'water': 420, 'sip': 421, 'president': 422, 'bring': 423, 'mexico': 424, 'reading': 425, 'end-user': 426, 'license': 427, 'agreement': 428, 'octopus': 429, 'hat': 430, 'asymmetric': 431, 'boob': 432, 'job': 433, 'warm': 434, 'velvety': 435, 'muppet': 436, 'corpse': 437, 'parents': 438, 'hiding': 439, 'giant': 440, 'sperm': 441, 'space': 442, 'art': 443, 'seduction': 444, 'backwards': 445, 'knees': 446, 'man': 447, 'suit': 448, 'perfect': 449, 'hair': 450, 'tells': 451, 'beautiful': 452, 'always': 453, 'get': 454, 'laid': 455, 'denzel': 456, 'dropping': 457, 'sbarro': 458, 'bathroom': 459, 'found': 460, '72': 461, 'hours': 462, 'keanu': 463, 'reeves': 464, 'packed': 465, 'brim': 466, 'sparkling': 467, 'teeth': 468, 'pumping': 469, 'baby': 470, 'every': 471, 'nine': 472, 'months': 473, 'find': 474, 'disturbing': 475, 'yet': 476, 'oddly': 477, 'charming': 478, 'miracle': 479, 'childbirth': 480, 'bunch': 481, 'idiots': 482, 'playing': 483, 'interacting': 484, 'normal': 485, 'humans': 486, 'dental': 487, 'dams': 488, 'catching': 489, 'salmon': 490, 'u.s.': 491, 'airdrop': 492, 'afghanistan': 493, 'flaming': 494, 'wreckage': 495, 'international': 496, 'station': 497, 'unlimited': 498, 'soup': 499, 'salad': 500, 'breadsticks': 501, 'truck': 502, 'goes': 503, '``': 504, 'toot': 505, 'actual': 506, 'mutants': 507, 'medical': 508, 'conditions': 509, 'superpowers': 510, 'helps': 511, 'unwind': 512, 'obesity': 513, 'bullshit': 514, 'lrey': 515, 'swimming': 516, 'toilet': 517, 'latching': 518, 'onto': 519, 'taint': 520, 'ton': 521, 'heaven': 522, 'catastrophic': 523, 'urethral': 524, 'trauma': 525, 'forty-five': 526, 'minutes': 527, 'finger': 528, 'blasting': 529, 'prancing': 530, 'major': 531, 'league': 532, 'baseball': 533, 'banned': 534, 'unfair': 535, 'advantage': 536, 'sudden': 537, 'unwanted': 538, 'slam': 539, 'poetry': 540, 'mere': 541, 'concept': 542, 'applebee': 543, 'blackface': 544, 'creepy': 545, 'child': 546, 'singing': 547, 'nursery': 548, 'rhyme': 549, 'billionaire': 550, 'shall': 551, 'erect': 552, '50-foot': 553, 'statue': 554, 'commemorate': 555, 'really': 556, 'cool': 557, 'land': 558, 'chocolate': 559, 'lumberjack': 560, 'fantasies': 561, 'manhole': 562, 'darth': 563, 'vader': 564, 'fad': 565, 'diet': 566, 'insatiable': 567, 'bloodlust': 568, 'cheerleaders': 569, 'laughing': 570, 'mommy': 571, 'daddy': 572, 'fighting': 573, 'pretending': 574, 'care': 575, 'united': 576, 'states': 577, 'create': 578, 'department': 579, 'dominating': 580, 'peeing': 581, 'eldest': 582, 'son': 583, 'filling': 584, 'concrete': 585, 'harlem': 586, 'globetrotters': 587, 'science': 588, 'becoming': 589, 'trap': 590, 'coughing': 591, 'vagina': 592, 'crying': 593, 'pages': 594, 'sylvia': 595, 'plath': 596, 'another': 597, 'goddamn': 598, 'vire': 599, 'maintaining': 600, 'status': 601, 'euphoric': 602, 'rush': 603, 'strangling': 604, 'drifter': 605, 'inside': 606, 'wife': 607, 'italians': 608, 'gay': 609, 'thoughts': 610, 'convince': 611, 'powerful': 612, 'wizard': 613, 'gays': 614, 'female': 615, 'orgasm': 616, 'ancient': 617, 'athenian': 618, 'boy-fucking': 619, 'crystal': 620, 'meth': 621, 'raced': 622, 'soviet': 623, 'union': 624, 'moon': 625, 'government': 626, 'funneled': 627, 'millions': 628, 'pesos': 629, 'research': 630, 'offended': 631, 'immortality': 632, 'cream': 633, 'pac-man': 634, 'uncontrollably': 635, 'guzzling': 636, 'cum': 637, 'hot': 638, 'lettuce': 639, 'broadway': 640, 'season': 641, 'musical': 642, 'mental': 643, 'illness': 644, 'ring': 645, 'rule': 646, 'nipple': 647, 'blades': 648, 'scissoring': 649, 'thing': 650, 'secret': 651, 'power': 652, 'economy': 653, 'free': 654, 'sles': 655, 'switching': 656, 'geico': 657, 'flying': 658, 'snakes': 659, 'uncontrollable': 660, 'gas': 661, 'robocop': 662, 'must': 663, 'construct': 664, 'additional': 665, 'pylons': 666, 'stuck': 667, 'chinese': 668, 'roland': 669, 'farter': 670, 'flatulist': 671, 'king': 672, 'kill': 673, 'mr': 674, 'bond': 675, 'clothes': 676, 'smegma': 677, 'peace': 678, ';': 679, 'grundle': 680, 'fleshy': 681, 'fun-bridge': 682, 'never': 683, 'fails': 684, 'liven': 685, 'party': 686, 'women': 687, 'suffrage': 688, 'chronic': 689, 'fart': 690, 'little': 691, 'bit': 692, 'comes': 693, 'lent': 694, 'flesh-eating': 695, 'bacteria': 696, 'hope': 697, 'ceiling': 698, 'famine': 699, 'shit': 700, 'third': 701, 'old': 702, 'cuddling': 703, 'limbaugh': 704, 'soft': 705, 'whipping': 706, 'winking': 707, 'class': 708, 'field': 709, 'trip': 710, 'completely': 711, 'ruined': 712, 'beached': 713, 'whale': 714, 'appreciative': 715, 'snapping': 716, 'rich': 717, 'pharaoh': 718, 'remained': 719, 'unmoved': 720, 'moses': 721, 'called': 722, 'plague': 723, 'busy': 724, 'many': 725, 'important': 726, 'overcompensation': 727, 'turned': 728, 'sausages': 729, 'gregor': 730, 'large': 731, 'know': 732, 'weapons': 733, 'fought': 734, 'iv': 735, 'dolphin': 736, 'learns': 737, 'becomes': 738, 'harvard': 739, 'law': 740, 'school': 741, 'big-city': 742, 'jew': 743, 'lawyers': 744, 'republicans': 745, 'warcraft': 746, 'teach': 747, 'using': 748, 'inspire': 749, 'inner': 750, 'city': 751, 'students': 752, 'succeed': 753, 'suffering': 754, 'pervades': 755, 'existence': 756, 'fingering': 757, 'demons': 758, 'final': 759, 'moments': 760, 'thought': 761, 'powerpoint': 762, 'presentation': 763, 'golden': 764, 'showers': 765, 'figuring': 766, 'kanye': 767, 'west': 768, 'hurt': 769, 'civilian': 770, 'casualties': 771, 'disaster': 772, 'studies': 773, 'lab': 774, 'rats': 775, 'navigate': 776, 'mazes': 777, '50': 778, 'fast': 779, 'exposed': 780, 'cold': 781, 'indifferent': 782, 'universe': 783, 'bathing': 784, 'moonsblood': 785, 'dancing': 786, 'around': 787, 'oak': 788, 'masturbation': 789, 'x-man': 790, 'whose': 791, 'dogs': 792, 'sticky': 793, 'hustle': 794, 'tip': 795, 'kamikaze': 796, 'pilots': 797, 'tripping': 798, 'anti-drug': 799, 'shit-hot': 800, 'guitar': 801, 'licks': 802, 'whoop-ass': 803, 'breastfeeding': 804, 'public': 805, 'radiant': 806, 'earth': 807, 'goddess': 808, 'destroying': 809, 'evidence': 810, 'academy': 811, 'award': 812, 'known': 813, 'bison': 814, 'sausage': 815, 'festival': 816, 'trick': 817, 'pull': 818, 'ether-soaked': 819, 'rag': 820, 'lance': 821, 'armstrong': 822, 'missing': 823, 'testicle': 824, 'natural': 825, 'male': 826, 'enhancement': 827, '46-year-old': 828, 'vin': 829, 'diesel': 830, 'eat': 831, 'queefing': 832, 'fire': 833, 'words': 834, 'kid-tested': 835, 'mother-approved': 836, 'john': 837, 'wilkes': 838, 'booth': 839, 'tables': 840, 'ronald': 841, 'reagan': 842, 'ultimate': 843, 'fantasy': 844, 'perfectly': 845, 'cylindrical': 846, 'gets': 847, 'age': 848, 'dumpster': 849, 'juice': 850, 'blackula': 851, 'profoundly': 852, 'handicapped': 853, 'wifely': 854, 'duties': 855, 'truly': 856, 'understood': 857, 'encountered': 858, 'texas': 859, 'rumor': 860, 'vladimir': 861, 'putin': 862, 'favorite': 863, 'delicacy': 864, 'stuffed': 865, 'crippling': 866, 'debt': 867, 'double': 868, 'penetration': 869, 'business': 870, 'meeting': 871, 'obvious': 872, 'purpose': 873, 'lifetime': 874, 'presents': 875, 'story': 876, 'funky': 877, 'fresh': 878, 'rhymes': 879, 'isis': 880, 'kool-aid': 881, 'sadness': 882, 'make': 883, 'haiku': 884, 'smallpox': 885, 'blankets': 886, 'fear': 887, 'hatred': 888, 'hearts': 889, 'racially-biased': 890, 'sat': 891, 'questions': 892, 'm.': 893, 'shyamalan': 894, 'bruce': 895, 'willis': 896, 'discovers': 897, 'along': 898, 'sharks': 899, 'legs': 900, 'hospice': 901, 'boyfriend': 902, 'slippery': 903, 'slope': 904, 'leads': 905, 'emotion': 906, 'anger': 907, 'swiftly': 908, 'achieving': 909, 'ravaged': 910, 'solace': 911, 'samuel': 912, 'l.': 913, 'textin': 914, 'existing': 915, 'whining': 916, 'bitch': 917, 'right': 918, 'killed': 919, 'ask': 920, 'historical': 921, 'revisionism': 922, 'guys': 923, 'call': 924, 'snorting': 925, 'coke': 926, 'clown': 927, 'boner': 928, 'teaching': 929, 'robot': 930, 'love': 931, 'acid': 932, 'cookies': 933, 'bake-sale': 934, 'pussy': 935, 'bill': 936, 'clinton': 937, 'bearskin': 938, 'rug': 939, 'saxophone': 940, 'malkovich': 941, 'superhero/sidekick': 942, 'duo': 943, 'antidepressants': 944, 'dear': 945, 'abby': 946, 'trouble': 947, 'advice': 948, 'making': 949, 'jazz': 950, 'heart': 951, 'earthquake': 952, 'sean': 953, 'penn': 954, 'brought': 955, 'haiti': 956, 'slightly': 957, 'shittier': 958, 'parallel': 959, 'active': 960, 'listening': 961, 'menopause': 962, 'reciprocating': 963, 'oral': 964, 'l.a.': 965, 'county': 966, 'jail': 967, 'word': 968, 'trade': 969, '200': 970, 'cigarettes': 971, 'village': 972, 'burned': 973, 'slaughtered': 974, 'stuff': 975, 'nipples': 976, 'buttload': 977, 'candy': 978, 'maybe': 979, 'born': 980, 'plowing': 981, 'england': 982, 'corn': 983, 'farmer': 984, 'stray': 985, 'pube': 986, 'therapist': 987, 'connery': 988, 'american': 989, 'indians': 990, 'forever': 991, 'changed': 992, 'introduced': 993, 'vengeance': 994, 'conga': 995, 'line': 996, 'buying': 997, 'pants': 998, 'folly': 999, 'espn2': 1000, 'series': 1001, 'yogurt': 1002, 'commercials': 1003, 'upgrading': 1004, 'mobile': 1005, 'hotspots': 1006, 'feeding': 1007, 'rosie': 1008, \"o'donnell\": 1009, 'step': 1010, '1': 1011, '2': 1012, '3': 1013, 'profit': 1014, 'devil': 1015, 'issues': 1016, 'waking': 1017, 'tornado': 1018, 'church': 1019, 'steeple': 1020, 'open': 1021, 'doors': 1022, 'object': 1023, 'permanence': 1024, 'labor': 1025, 'nonstop': 1026, 'go': 1027, 'eye': 1028, 'holes': 1029, 'lose': 1030, 'virginity': 1031, 'screaming': 1032, 'maniac': 1033, 'tribe': 1034, 'warrior': 1035, 'tom': 1036, 'selleck': 1037, 'mustache': 1038, 'gain': 1039, 'childhood': 1040, 'salvador': 1041, 'daliacute': 1042, 'produced': 1043, 'hundreds': 1044, 'paintings': 1045, 'puppies': 1046, 'fucked-up': 1047, 'monkey': 1048, 'smoking': 1049, 'cigar': 1050, '1,000': 1051, 'years': 1052, 'paper': 1053, 'distant': 1054, 'memory': 1055, 'pay': 1056, 'goods': 1057, 'services': 1058, 'count': 1059, 'chocula': 1060, 'worthless': 1061, 'figgy': 1062, 'pudding': 1063, 'belt': 1064, 'kung': 1065, 'pao': 1066, 'chicken': 1067, 'ennui': 1068, 'disobedient': 1069, 'slave': 1070, 'mines': 1071, 'smithsonian': 1072, 'museum': 1073, 'opened': 1074, 'exhibit': 1075, 'consensual': 1076, 'nonreproductive': 1077, 'incest': 1078, 'media': 1079, 'coverage': 1080, 'leprosy': 1081, 'erection': 1082, 'lasts': 1083, 'four': 1084, 'orgy': 1085, 'grinding': 1086, 'halt': 1087, 'violation': 1088, 'rights': 1089, 'blasted': 1090, 't-shirt': 1091, 'cannon': 1092, 'genitals': 1093, 'lactation': 1094, 'pooped': 1095, 'came': 1096, 'butt': 1097, 'inappropriate': 1098, 'yodeling': 1099, 'reason': 1100, 'commit': 1101, 'suicide': 1102, 'expecting': 1103, 'burp': 1104, 'vomiting': 1105, 'regurgitating': 1106, 'half-digested': 1107, 'sparrow': 1108, 'future': 1109, 'historians': 1110, 'agree': 1111, 'marked': 1112, 'beginning': 1113, 'decline': 1114, 'firing': 1115, 'rifle': 1116, 'air': 1117, 'deep': 1118, 'squealing': 1119, 'hog': 1120, 'racism': 1121, 'woman': 1122, 'gift': 1123, 'keeps': 1124, 'hilariously': 1125, 'gang-banged': 1126, 'blue': 1127, 'group': 1128, 'vs.': 1129, 'wild': 1130, 'bear': 1131, 'grylls': 1132, 'survive': 1133, 'depths': 1134, 'amazon': 1135, 'wits': 1136, 'menstrual': 1137, 'rage': 1138, 'scorned': 1139, 'milk': 1140, 'bay': 1141, 'three-hour': 1142, 'action': 1143, 'epic': 1144, 'pits': 1145, 'fetal': 1146, 'alcohol': 1147, 'syndrome': 1148, 'duffel': 1149, 'lizards': 1150, 'gotten': 1151, 'away': 1152, 'china': 1153, 'blown': 1154, 'marginalization': 1155, 'ugly': 1156, 'robust': 1157, 'mongoloid': 1158, 'pinch': 1159, 'suitable': 1160, 'substitute': 1161, 'thinking': 1162, 'even': 1163, 'painting': 1164, '8': 1165, 'oz': 1166, 'black-tar': 1167, 'heroin': 1168, 'difficult': 1169, 'nudist': 1170, 'colony': 1171, 'crazy': 1172, 'opium': 1173, 'majesty': 1174, 'queen': 1175, 'elizabeth': 1176, 'ii': 1177, 'force': 1178, 'explain': 1179, 'origin': 1180, 'oil': 1181, 'stupid': 1182, 'rome': 1183, 'whisperings': 1184, 'vatican': 1185, 'room': 1186, 'devoted': 1187, 'marginalized': 1188, 'learned': 1189, 'hard': 1190, 'cheer': 1191, 'grieving': 1192, 'pooping': 1193, 'leotard': 1194, 'hoping': 1195, 'notices': 1196, 'throwing': 1197, 'stones': 1198, 'dies': 1199, 'rolling': 1200, 'else': 1201, 'masturbate': 1202, 'laying': 1203, 'egg': 1204, 'spring': 1205, 'break': 1206, 'licking': 1207, 'claim': 1208, 'tribunal': 1209, 'organs': 1210, 'sniffing': 1211, 'glue': 1212, 'nickelback': 1213, 'tourism': 1214, 'caign': 1215, 'detroit': 1216, 'proudly': 1217, 'proclaims': 1218, 'finally': 1219, 'eliminated': 1220, 'bingeing': 1221, 'purging': 1222, 'pouty': 1223, 'teenage': 1224, 'pregnancy': 1225, 'self-produced': 1226, 'album': 1227, 'raps': 1228, 'sounds': 1229, 'doo-doo': 1230, 'forbidden': 1231, 'meat': 1232, 'orgasms': 1233, 'socialist': 1234, 'governments': 1235, 'scandinavia': 1236, 'declared': 1237, 'access': 1238, 'studio': 1239, 'audience': 1240, 'fun': 1241, 'dip': 1242, 'starts': 1243, 'controls': 1244, 'mooing': 1245, 'cinnabons': 1246, 'vomit': 1247, 'possible': 1248, 'muslim': 1249, 'shaft': 1250, 'sir': 1251, 'madam': 1252, 'regret': 1253, 'inform': 1254, 'office': 1255, 'denied': 1256, 'request': 1257, 'gentle': 1258, 'caress': 1259, 'thigh': 1260, 'cia': 1261, 'interrogates': 1262, 'enemy': 1263, 'agents': 1264, 'repeatedly': 1265, 'subjecting': 1266, 'vikings': 1267, 'viagra': 1268, 'woefully': 1269, 'paralyzed': 1270, 'neck': 1271, 'pictures': 1272, 'planets': 1273, 'pintilde': 1274, 'ata': 1275, 'scorpions': 1276, 'chugging': 1277, 'lava': 1278, 'l': 1279, 'midlife': 1280, 'crisis': 1281, 'dad': 1282, 'herpes': 1283, 'oversized': 1284, 'lollipop': 1285, 'run': 1286, 'destroy': 1287, 'involvement': 1288, 'morgan': 1289, 'freeman': 1290, 'yoga': 1291, 'ponytail': 1292, 'feather': 1293, 'earrings': 1294, 'creature': 1295, 'made': 1296, 'penises': 1297, 'constantly': 1298, 'arouse': 1299, 'porn': 1300, 'star': 1301, 'joey': 1302, 'mcgee': 1303, 'pig': 1304, 'sisters': 1305, 'critical': 1306, 'dumb': 1307, 'overthrowing': 1308, 'democratically-elected': 1309, 'chile': 1310, 'color': 1311, 'puce': 1312, 'stunt': 1313, 'david': 1314, 'blaine': 1315, 'escape': 1316, 'underground': 1317, 'railroad': 1318, 'icepick': 1319, 'lobotomy': 1320, 'captain': 1321, 'speaking': 1322, 'fasten': 1323, 'seatbelts': 1324, 'prepare': 1325, 'genetically': 1326, 'engineered': 1327, 'super-soldiers': 1328, 'freaked': 1329, 'looked': 1330, 'browser': 1331, '.com/': 1332, 'dark': 1333, 'side': 1334, 'gary': 1335, 'stages': 1336, 'grief': 1337, 'denial': 1338, 'bargaining': 1339, 'acceptance': 1340, 'comprehensive': 1341, 'immigration': 1342, 'reform': 1343, 'move': 1344, 'beating': 1345, 'wives': 1346, 'members': 1347, 'york': 1348, 'social': 1349, 'elite': 1350, 'paying': 1351, 'thousands': 1352, 'experience': 1353, 'waldo': 1354, 'trail': 1355, 'incurable': 1356, 'homosexual': 1357, 'toni': 1358, 'morrison': 1359, 'went': 1360, 'thanks': 1361, 'passive-agression': 1362, 'benefits': 1363, 'miss': 1364, 'muffet': 1365, 'tuffet': 1366, 'curds': 1367, 'hardworking': 1368, 'month': 1369, 'cosmo': 1370, 'spice': 1371, 'bringing': 1372, 'bedroom': 1373, 'fancy': 1374, 'feast': 1375, 'wise': 1376, 'trashcan': 1377, 'dining': 1378, 'cardboard': 1379, 'cutouts': 1380, 'cast': 1381, 'us': 1382, 'enjoy': 1383, 'given': 1384, '40': 1385, 'acres': 1386, 'mule': 1387, 'grandpa': 1388, 'ashes': 1389, 'country': 1390, \"'t\": 1391, 'thee': 1392, 'radiohead': 1393, 'interspecies': 1394, 'marriage': 1395, 'drunk': 1396, 'mouthwash': 1397, 'jewish': 1398, 'fraternities': 1399, 'debate': 1400, 'occupy': 1401, 'wall': 1402, 'street': 1403, 'general': 1404, 'assembly': 1405, 'waiting': 1406, \"'til\": 1407, 'spent': 1408, 'whole': 1409, 'working': 1410, 'toward': 1411, 'thighs': 1412, 'negative': 1413, 'image': 1414, 'totally': 1415, 'justified': 1416, 'poor': 1417, 'choices': 1418, 'dr.': 1419, 'phil': 1420, 'arms': 1421, 'vishnu': 1422, 'opposable': 1423, 'thumbs': 1424, 'support': 1425, 'payments': 1426, 'certain': 1427, 'micropig': 1428, 'raincoat': 1429, 'booties': 1430, 'everyone': 1431, 'ground': 1432, 'anyone': 1433, 'substantial': 1434, 'fortune': 1435, 'britney': 1436, 'spears': 1437, '55': 1438, 'grave': 1439, 'robbing': 1440, 'healing': 1441, 'process': 1442, 'began': 1443, 'joined': 1444, 'victims': 1445, 'mating': 1446, 'display': 1447, 'votes': 1448, 'mascot': 1449, 'grunting': 1450, 'ten': 1451, 'sand': 1452, 'esmeralda': 1453, 'daughter': 1454, 'disappointing': 1455, 'birthday': 1456, 'reunion': 1457, 'ketamine': 1458, 'charades': 1459, 'act': 1460, 'loud': 1461, 'scary': 1462, 'thunder': 1463, 'tonight': 1464, '20/20': 1465, 'praying': 1466, 'justice': 1467, 'warriors': 1468, 'flamethrowers': 1469, 'compassion': 1470, 'pyramid': 1471, 'severed': 1472, 'oompa-loompas': 1473, 'lived': 1474, 'experienced': 1475, 'running': 1476, 'mall': 1477, 'pissing': 1478, 'everywhere': 1479, 'hey': 1480, 'come': 1481, 'place': 1482, \"'ll\": 1483, 'internet': 1484, 'spending': 1485, 'lots': 1486, 'altar': 1487, 'boys': 1488, 'aaron': 1489, 'burr': 1490, 'gym': 1491, 'teacher': 1492, 'fired': 1493, 'adding': 1494, 'obstacle': 1495, 'course': 1496, 'goblin': 1497, 'carnival': 1498, 'dragged': 1499, 'tree': 1500, 'leopard': 1501, 'discovering': 1502, 'corpses': 1503, 'service': 1504, 'delivers': 1505, 'door': 1506, 'token': 1507, 'minority': 1508, 'cybernetic': 1509, 'enhancements': 1510, 'enormous': 1511, 'scandinavian': 1512, 'upcoming': 1513, 'role': 1514, 'daniel': 1515, 'day-lewis': 1516, 'immersed': 1517, 'ol': 1518, 'penis-in-the-popcorn': 1519, 'surprise': 1520, 'ghosts': 1521, 'native': 1522, 'solves': 1523, 'crimes': 1524, 'spirit': 1525, 'ruled': 1526, 'vicious': 1527, 'cycle': 1528, 'zero-risk': 1529, '$': 1530, '2,000': 1531, 'home': 1532, 'fit': 1533, 'club': 1534, 'goat': 1535, 'responsibly': 1536, 'buy': 1537, 'centaurs': 1538, 'listen': 1539, 'stop': 1540, 'steer': 1541, 'clear': 1542, 'hulk': 1543, 'hogan': 1544, 'prince': 1545, 'ali': 1546, 'fabulous': 1547, 'ababwa': 1548, 'successful': 1549, 'interview': 1550, 'begins': 1551, 'firm': 1552, 'handshake': 1553, 'powdery': 1554, 'manbaby': 1555, 'police': 1556, 'brutality': 1557, 'uppercut': 1558, 'offices': 1559, 'goldstein': 1560, 'tolerate': 1561, 'workplace': 1562, 'assassinating': 1563, 'whispering': 1564, 'parting': 1565, 'lovin': 1566, 'easy': 1567, 'ripping': 1568, 'chest': 1569, 'pulling': 1570, 'still-beating': 1571, 'meatloaf': 1572, 'trapped': 1573, 'conversation': 1574, 'ayn': 1575, 'rand': 1576, 'oncoming': 1577, 'traffic': 1578, 'aborting': 1579, 'fetus': 1580, 'blind': 1581, 'date': 1582, 'horribly': 1583, 'discovered': 1584, 'shared': 1585, 'interest': 1586, 'p.f': 1587, 'chang': 1588, 'swooping': 1589, 'spastic': 1590, 'nerd': 1591, 'left': 1592, 'stain': 1593, 'couch': 1594, 'weird': 1595, 'says': 1596, 'weirds': 1597, 'demonic': 1598, 'possession': 1599, 'voice': 1600, 'turns': 1601, '-man': 1602, 'neither': 1603, 'hero': 1604, 'needed': 1605, 'wanted': 1606, 'historically': 1607, 'colleges': 1608, 'dentist': 1609, 'testicular': 1610, 'torsion': 1611, 'humps': 1612, 'owls': 1613, 'predator': 1614, 'practice': 1615, 'ready': 1616, 'mutually-assured': 1617, 'puberty': 1618, 'seventh': 1619, 'circle': 1620, 'hell': 1621, 'sinners': 1622, 'endure': 1623, 'eternity': 1624, 'shambling': 1625, 'larry': 1626, 'necrophilia': 1627, 'thin': 1628, 'veneer': 1629, 'situational': 1630, 'causality': 1631, 'underlies': 1632, 'part': 1633, 'daily': 1634, 'regimen': 1635, 'anderson': 1636, 'cooper': 1637, 'sets': 1638, 'aside': 1639, '15': 1640, 'sunshine': 1641, 'rainbows': 1642, 'tiger': 1643, 'father': 1644, 'dinosaur': 1645, 'base': 1646, 'try': 1647, 'vehicular': 1648, 'manslaughter': 1649, 'medieval': 1650, 'times': 1651, 'tournament': 1652, 'generally': 1653, 'idea': 1654, 'tell': 1655, 'quotes': 1656, 'knight': 1657, 'actually': 1658, 'spider': 1659, 'rest': 1660, 'wet': 1661, 'dreams': 1662, 'windmill': 1663, 'enough': 1664, 'pressure': 1665, 'turn': 1666, 'mouthful': 1667, 'potato': 1668, 'gwyneth': 1669, 'paltrow': 1670, 'opinions': 1671, 'constant': 1672, 'need': 1673, 'validation': 1674, 'use': 1675, 'theory': 1676, 'kind': 1677, 'mess': 1678, 'stacy': 1679, 'bird-man': 1680, 'contract': 1681, 'perform': 1682, 'dressing': 1683, 'day': 1684, 'birds': 1685, 'attacked': 1686, 'orifice': 1687, 'butterscotch': 1688, 'scrubbing': 1689, 'folds': 1690, 'fuck': 1691, 'weapons-grade': 1692, 'plutonium': 1693, 'abducted': 1694, 'peter': 1695, 'pan': 1696, 'leader': 1697, 'kim': 1698, 'jong-un': 1699, 'praises': 1700, 'infinite': 1701, 'wisdom': 1702, 'humble': 1703, 'offering': 1704, 'chipotle': 1705, 'whomsoever': 1706, 'let': 1707, 'yeast': 1708, 'may': 1709, 'pass': 1710, 'finishing': 1711, 'shred': 1712, 'real': 1713, '.': 1714, 'pop': 1715, 'alright': 1716, 'bros.': 1717, 'frat': 1718, 'house': 1719, 'condemned': 1720, 'slieces': 1721, 'gamma': 1722, 'phi': 1723, 'commence': 1724, 'operation': 1725, 'solos': 1726, 'japanese': 1727, 'developed': 1728, 'small': 1729, 'efficient': 1730, 'version': 1731, 'turtle': 1732, 'biting': 1733, 'bullets': 1734, 'elderly': 1735, 'return': 1736, 'soul': 1737, 'promised': 1738, 'haunting': 1739, 'stare': 1740, 'iraqi': 1741, 'gandhi': 1742, 'saw': 1743, 'opens': 1744, 'clitoris': 1745, 'gladiatorial': 1746, 'combat': 1747, 'wes': 1748, 'film': 1749, 'precocious': 1750, 'terms': 1751, 'pistol-whipping': 1752, 'hostage': 1753, 'corporations': 1754, 'punching': 1755, 'massive': 1756, 'collection': 1757, 'pornography': 1758, 'lord': 1759, 'said': 1760, 'exactly': 1761, 'expect': 1762, 'quacking': 1763, 'duck': 1764, 'lieu': 1765, 'cogent': 1766, 'argument': 1767, 'nickelodeon': 1768, 'soulful': 1769, 'rendition': 1770, 'river': 1771, 'adderalltrade': 1772, 'sure': 1773, 'lot': 1774, 'indescribable': 1775, 'loneliness': 1776, 'vigilante': 1777, 'boobs': 1778, 'passionate': 1779, 'latino': 1780, 'lover': 1781, 'seen': 1782, 'bearded': 1783, 'lady': 1784, 'ladies': 1785, 'gentlemen': 1786, 'upon': 1787, 'aliens': 1788, 'carnies': 1789, 'compensating': 1790, 'peyote-fueled': 1791, 'vision': 1792, 'quest': 1793, 'middle-aged': 1794, 'roller': 1795, 'skates': 1796, 'allow': 1797, 'hippie': 1798, 'cloud': 1799, 'shot': 1800, 'sleeps': 1801, 'swings': 1802, 'walks': 1803, 'something': 1804, 'looking': 1805, 'strange': 1806, 'anything': 1807, 'keep': 1808, 'peasants': 1809, 'oprah': 1810, 'book': 1811, 'invisible': 1812, 'hand': 1813, 'decorative': 1814, 'pillows': 1815, 'literally': 1816, 'dimension': 1817, \"'ve\": 1818, 'adventure': 1819, 'romance': 1820, 'paramount': 1821, 'passable': 1822, 'transvestites': 1823, 'become': 1824, 'destroyer': 1825, 'lurks': 1826, 'hungers': 1827, 'flesh': 1828, 'summer': 1829, 'safe': 1830, 'crack': 1831, 'instance': 1832, 'handle': 1833, 'stay': 1834, 'hurricane': 1835, 'katrina': 1836, 'bowl': 1837, 'gourds': 1838, 'asians': 1839, 'math': 1840, 'prime': 1841, 'young': 1842, 'onions': 1843, 'absolutely': 1844, 'mesmerized': 1845, 'muffins': 1846, 'cock': 1847, 'year': 1848, 'sharing': 1849, 'needles': 1850, 'popeyes': 1851, 'close': 1852, 'everything': 1853, 'supercharged': 1854, 'catapults': 1855, 'dysentery': 1856, 'roofies': 1857, 'honey': 1858, 'role-play': 1859, 'skeleton': 1860, 'whatever': 1861, 'wish': 1862, 'mother': 1863, 'mountain': 1864, 'dew': 1865, 'extreme': 1866, 'flavor': 1867, 'armani': 1868, 'swanky': 1869, 'restaurant': 1870, '300': 1871, 'look': 1872, 'priceless': 1873, 'incredible': 1874, 'facts': 1875, 'great': 1876, 'depression': 1877, 'comedy': 1878, 'jackie': 1879, 'chan': 1880, 'fend': 1881, 'ninjas': 1882, 'dealing': 1883, 'horse': 1884, 'strong': 1885, 'rations': 1886, 'thirty': 1887, 'well': 1888, 'say': 1889, 'casey': 1890, 'sent': 1891, 'principal': 1892, 'jason': 1893, 'teen': 1894, 'mayor': 1895, 'gifted': 1896, 'explore': 1897, 'pace': 1898, 'beads': 1899, 'murder': 1900, 'foul': 1901, 'african': 1902, 'heed': 1903, 'mortals': 1904, 'heartwarming': 1905, 'orphans': 1906, 'mean': 1907, 'brag': 1908, 'jordan': 1909, 'comet': 1910, 'neptune': 1911, 'plunges': 1912, 'eternal': 1913, 'sexiness': 1914, 'slowly': 1915, 'encroaching': 1916, 'wolves': 1917, 'broke': 1918, 'hole': 1919, 'help': 1920, 'doctor': 1921, 'eaten': 1922, 'alive': 1923, 'fieri': 1924, 'jean-claude': 1925, 'van': 1926, 'damme': 1927, 'pile': 1928, 'squirming': 1929, 'bodies': 1930, '5-hour': 1931, 'energys': 1932, 'fifty': 1933, 'continuous': 1934, 'energy': 1935, 'hi': 1936, 'kendra': 1937, 'malibu': 1938, 'moderate-to-severe': 1939, 'joint': 1940, 'zesty': 1941, 'breakfast': 1942, 'burrito': 1943, 'foreskin': 1944, 'rock': 1945, 'proves': 1946, 'patient': 1947, 'likely': 1948, 'result': 1949, 'albino': 1950, 'unquestioning': 1951, 'obedience': 1952, 'poop': 1953, 'explosion': 1954, 'disease': 1955, 'tough': 1956, 'lane': 1957, 'leave': 1958, 'self-loathing': 1959, 'tension': 1960, '9/11': 1961, 'awkward': 1962, 'sauna': 1963, 'edible': 1964, 'underpants': 1965, 'cop': 1966, 'plays': 1967, 'interested': 1968, 'cheerfulness': 1969, 'belies': 1970, 'deep-seated': 1971, 'virgin': 1972, 'volcano': 1973, 'tasteful': 1974, 'sideboob': 1975, 'ever': 1976, '#': 1977, 'seizing': 1978, 'control': 1979, 'means': 1980, 'exploding': 1981, 'pigeons': 1982, 'farewell': 1983, 'address': 1984, 'george': 1985, 'washington': 1986, 'famously': 1987, 'warned': 1988, 'americans': 1989, 'dangers': 1990, 'mime': 1991, 'stroke': 1992, 'week': 1993, 'casual': 1994, 'friday': 1995, 'officially': 1996, 'creamy': 1997, 'slices': 1998, 'california': 1999, 'avocado': 2000, 'morpheus': 2001, 'letting': 2002, 'hamburglar': 2003, 'stalin': 2004, 'yo': 2005, 'mama': 2006, 'low': 2007, 'standard': 2008, 'jim': 2009, 'accounting': 2010, 'noticed': 2011, '1,200': 2012, 'charge': 2013, 'labeled': 2014, 'self-microwaving': 2015, 'dream': 2016, 'lack': 2017, 'sometimes': 2018, 'feel': 2019, 'zoloft': 2020, 'whales': 2021, 'eachother': 2022, 'caught': 2023, 'terrible': 2024, 'whooo': 2025, 'christopher': 2026, 'walken': 2027, 'falling': 2028, 'pit': 2029, 'waffles': 2030, 'bookstores': 2031, 'audacity': 2032, 'bed': 2033, 'reasonable': 2034, 'hour': 2035, 'today': 2036, 'informing': 2037, 'registered': 2038, 'offender': 2039, 'work': 2040, 'strict': 2041, 'policy': 2042, 'second': 2043, 'kiss': 2044, 'take-backsies': 2045, 'kid': 2046, 'used': 2047, 'play': 2048, 'cowboys': 2049, 'straight': 2050, 'blazin': 2051, '24/7': 2052, 'rwandan': 2053, 'genocide': 2054, 'boring': 2055, 'vaginal': 2056, 'purple': 2057, 'empowered': 2058, 'hilarious': 2059, 'bloopers': 2060, 'gassy': 2061, 'antelope': 2062, 'started': 2063, 'james': 2064, 'lonely': 2065, 'attic': 2066, 'meets': 2067, 'magical': 2068, 'eugenics': 2069, 'worry': 2070, '20': 2071, 'poopy': 2072, 'diapers': 2073, 'grandfather': 2074, 'worked': 2075, 'shoes': 2076, 'feet': 2077, 'behind': 2078, 'struggle': 2079, 'scalping': 2080, 'harsh': 2081, 'light': 2082, 'dubai': 2083, 'relax': 2084, 'famous': 2085, 'spas': 2086, 'nightlife': 2087, 'simply': 2088, 'poolside': 2089, 'pabst': 2090, 'ribbon': 2091, 'mr.': 2092, 'clean': 2093, 'loss': 2094, 'grey': 2095, 'nutrient': 2096, 'broth': 2097, 'sustains': 2098, 'mitt': 2099, 'romney': 2100, 'corner': 2101, 'midgets': 2102, 'popular': 2103, 'sports': 2104, 'tentacle': 2105, 'desert': 2106, 'ate': 2107, 'peyote': 2108, 'cactus': 2109, 'animal': 2110, 'song': 2111, 'sword': 2112, 'braying': 2113, 'mighty': 2114, 'beasts': 2115, 'passive-aggressive': 2116, 'post-it': 2117, 'notes': 2118, 'much': 2119, 'cocaine': 2120, 'plot': 2121, 'twist': 2122, 'buffalo': 2123, 'wings': 2124, 'mild': 2125, 'unhinged': 2126, 'ferris': 2127, 'wheel': 2128, 'embryonic': 2129, 'stem': 2130, 'cells': 2131, 'tongue': 2132, 'six': 2133, 'oxygen': 2134, 'facebook': 2135, 'netflix': 2136, 'lol': 2137, 'ridicule': 2138, 'anymore': 2139, 'placenta': 2140, 'change': 2141, 'might': 2142, 'notice': 2143, 'places': 2144, 'develop': 2145, 'potty': 2146, 'penny': 2147, 'whistle': 2148, 'solo': 2149, 'mrs.': 2150, 'chen': 2151, '4:15': 2152, 'morning': 2153, 'succumbed': 2154, 'arnold': 2155, 'schwarzenegger': 2156, 'abercrombie': 2157, 'fitch': 2158, 'lifestyle': 2159, 'bling': 2160, 'tennessee': 2161, 'changing': 2162, 'rid': 2163, 'ray': 2164, 'afterwards': 2165, 'envy': 2166, 'everybody': 2167, 'join': 2168, 'sense': 2169, 'presence': 2170, 'panties': 2171, 'unforgettable': 2172, 'passion': 2173, 'true': 2174, 'yanomamo': 2175, 'prove': 2176, 'withstand': 2177, 'german': 2178, 'scientology': 2179, 'nick': 2180, 'scrotum': 2181, 'tickling': 2182, 'describe': 2183, 'czar': 2184, 'mad': 2185, 'hacky-sack': 2186, 'skills': 2187, 'dippers': 2188, 'stuffy': 2189, 'pope': 2190, 'reparations': 2191, 'slavery': 2192, 'receive': 2193, 'participating': 2194, 'bouncing': 2195, 'teddy': 2196, 'roosevelt': 2197, 'manly': 2198, 'virtues': 2199, 'honor': 2200, 'temperance': 2201, 'industry': 2202, 'amount': 2203, 'carrots': 2204, 'jumping': 2205, 'take': 2206, 'kindly': 2207, 'parts': 2208, 'crucifixion': 2209, 'cnn': 2210, 'breaking': 2211, 'news': 2212, 'scientists': 2213, 'discover': 2214, 'gaze': 2215, 'greased-up': 2216, 'matthew': 2217, 'mcconaughey': 2218, 'congratulations': 2219, 'selected': 2220, 'internship': 2221, 'program': 2222, 'unable': 2223, 'offer': 2224, 'salary': 2225, 'nobody': 2226, 'all-new': 2227, 'nissan': 2228, 'pathfinder': 2229, '0.9': 2230, 'apr': 2231, 'financing': 2232, 'explosions': 2233, 'errbody': 2234, 'dry': 2235, 'heaving': 2236, 'grateful': 2237, 'amazing': 2238, 'mylife': 2239, 'tons': 2240, 'quesadilla': 2241, 'saladtrade': 2242, 'chili': 2243, 'wan': 2244, 'na': 2245, 'military': 2246, 'calendar': 2247, 'alert': 2248, 'leveling': 2249, 'shapeshifters': 2250, 'rhythm': 2251, 'capturing': 2252, 'newt': 2253, 'gingrich': 2254, 'forcing': 2255, 'all-you-can-eat': 2256, 'shrimp': 2257, '4.99': 2258, 'shutting': 2259, 'non-stop': 2260, 'fuckfest': 2261, 'asshole': 2262, 'multiple': 2263, 'stab': 2264, 'wounds': 2265, 'turd': 2266, 'trumpet': 2267, 'bbq': 2268, 'bacon': 2269, 'burger': 2270, 'super': 2271, 'soakertrade': 2272, 'pee': 2273, 'seppuku': 2274, 'slamming': 2275, 'dunk': 2276, 'insurance': 2277, 'plan': 2278, 'cover': 2279, 'injuries': 2280, 'caused': 2281, 'gymnastics': 2282, 'scrotal': 2283, 'frostbite': 2284, 'horrible': 2285, 'mountains': 2286, 'crumbling': 2287, 'stars': 2288, 'sky': 2289, 'clooney': 2290, 'musk': 2291, '1950s': 2292, 'psychologists': 2293, 'prescribed': 2294, 'cure': 2295, 'homosexually': 2296, 'out-of-this-world': 2297, 'bazongas': 2298, 'lsd': 2299, '+': 2300, '=': 2301, 'to-do': 2302, 'list': 2303, 'br/': 2304, '-': 2305, 'groceries': 2306, 'soccer': 2307, 'shaquille': 2308, \"o'neal\": 2309, 'acting': 2310, 'career': 2311, 'married': 2312, 'retiring': 2313, 'florida': 2314, 'vote': 2315, 'candidate': 2316, 'openly': 2317, 'pixelated': 2318, 'bukkake': 2319, 'ruin': 2320, 'wedding': 2321, 'million': 2322, 'alligators': 2323, 'blowjobs': 2324, 'oh': 2325, 'siri': 2326, 'fix': 2327, 'systems': 2328, 'policies': 2329, 'designed': 2330, 'preserve': 2331, 'centuries-old': 2332, 'structures': 2333, 'watch': 2334, 'mike': 2335, 'silence': 2336, 'privilege': 2337, 'ooo': 2338, 'sexting': 2339, 'pedophiles': 2340, 'brandon': 2341, 'still': 2342, 'parent': 2343, 'basement': 2344, 'heard': 2345, 'deflowering': 2346, 'botched': 2347, 'circumcision': 2348, 'catch': 2349, 'concealing': 2350, 'horrifying': 2351, 'laser': 2352, 'removal': 2353, 'accidents': 2354, 'streets': 2355, 'sheets': 2356, 'danger': 2357, 'likes': 2358, 'beer': 2359, 'nunchuck': 2360, 'moves': 2361, 'sucking': 2362, 'yak': 2363, 'someone': 2364, 'block': 2365, 'nothin': 2366, 'puts': 2367, 'mood': 2368, 'showing': 2369, 'blast': 2370, 'happened': 2371, 'top': 2372, 'auto-complete': 2373, 'results': 2374, '/br': 2375, 'height': 2376, 'net': 2377, 'worth': 2378, 'kissed': 2379, 'frog': 2380, 'leaving': 2381, 'voicemail': 2382, 'sniff': 2383, 'hug': 2384, 'liquid': 2385, 'lunge': 2386, 'lead': 2387, 'paint': 2388, 'taste': 2389, 'taylor': 2390, 'swift': 2391, 'credit': 2392, 'shake': 2393, 'correctness': 2394, 'hopeless': 2395, 'spiders': 2396, 'crime': 2397, 'lock': 2398, 'boot': 2399, 'hating': 2400, 'jews': 2401, 'sucks': 2402, 'destroyed': 2403, 'bleached': 2404, 'republican': 2405, 'agriculture': 2406, 'gloryholes': 2407, 'end': 2408, 'fabricating': 2409, 'statistics': 2410, 'total': 2411, 'waste': 2412, 'hillary': 2413, 'twisting': 2414, 'balloon': 2415, 'poodle': 2416, 'auschwitz': 2417, 'level': 2418, 'disco': 2419, 'fever': 2420, 'apex': 2421, 'cartwheel': 2422, 'problematic': 2423, 'arrangement': 2424, 'wherein': 2425, 'give': 2426, 'quivering': 2427, 'jowls': 2428, 'one-time': 2429, 'save': 2430, 'half-assed': 2431, 'foreplay': 2432, 'liked': 2433, 'm16': 2434, 'assault': 2435, 'swearing': 2436, 'praise': 2437, 'sultan': 2438, 'hideous': 2439, 'daughters': 2440}\n"
     ]
    }
   ],
   "source": [
    "print(word_to_ix)"
   ]
  },
  {
   "cell_type": "code",
   "execution_count": 8,
   "metadata": {
    "ExecuteTime": {
     "end_time": "2018-08-24T06:10:41.982482Z",
     "start_time": "2018-08-24T06:10:41.976235Z"
    },
    "hidden": true
   },
   "outputs": [],
   "source": [
    "def return_pred_word(tensors):\n",
    "    words = []\n",
    "    for t in range(len(tensors)):\n",
    "         words.append([key  for (key, value) in word_to_ix.items() if value == tensors[t]])\n",
    "    return words"
   ]
  },
  {
   "cell_type": "code",
   "execution_count": 24,
   "metadata": {
    "ExecuteTime": {
     "end_time": "2018-08-24T06:57:14.051849Z",
     "start_time": "2018-08-24T06:57:14.046962Z"
    },
    "hidden": true
   },
   "outputs": [],
   "source": [
    "def output_results(model, text):\n",
    "    from itertools import chain\n",
    "\n",
    "    print(text)\n",
    "    with torch.no_grad():\n",
    "        inputs = prepare_sequence(text, word_to_ix)\n",
    "        tag_scores = model(inputs)\n",
    "    post_train_max = [s.argmax() for s in tag_scores]\n",
    "    pred_words = return_pred_word(post_train_max)\n",
    "    \n",
    "    return ' '.join(list(chain.from_iterable(pred_words)))"
   ]
  },
  {
   "cell_type": "markdown",
   "metadata": {},
   "source": [
    "#### Model"
   ]
  },
  {
   "cell_type": "code",
   "execution_count": 10,
   "metadata": {
    "ExecuteTime": {
     "end_time": "2018-08-24T06:10:53.935875Z",
     "start_time": "2018-08-24T06:10:53.923572Z"
    }
   },
   "outputs": [],
   "source": [
    "class LSTMTagger(nn.Module):\n",
    "\n",
    "    def __init__(self, embedding_dim, hidden_dim, vocab_size):\n",
    "        super(LSTMTagger, self).__init__()\n",
    "        self.hidden_dim = hidden_dim\n",
    "\n",
    "        self.word_embeddings = nn.Embedding(vocab_size, embedding_dim)\n",
    "\n",
    "        # The LSTM takes word embeddings as inputs, and outputs hidden states\n",
    "        # with dimensionality hidden_dim.\n",
    "        self.lstm = nn.LSTM(embedding_dim, hidden_dim)\n",
    "\n",
    "        # The linear layer that maps from hidden state space to tag space\n",
    "        self.hidden2tag = nn.Linear(hidden_dim, vocab_size)\n",
    "        self.hidden = self.init_hidden()\n",
    "\n",
    "    def init_hidden(self):\n",
    "        # Before we've done anything, we dont have any hidden state.\n",
    "        # Refer to the Pytorch documentation to see exactly\n",
    "        # why they have this dimensionality.\n",
    "        # The axes semantics are (num_layers, minibatch_size, hidden_dim)\n",
    "        return (torch.zeros(1, 1, self.hidden_dim),\n",
    "                torch.zeros(1, 1, self.hidden_dim))\n",
    "\n",
    "    def forward(self, sentence):\n",
    "        embeds = self.word_embeddings(sentence)\n",
    "        lstm_out, self.hidden = self.lstm(\n",
    "            embeds.view(len(sentence), 1, -1), self.hidden)\n",
    "        tag_space = self.hidden2tag(lstm_out.view(len(sentence), -1))\n",
    "        tag_scores = F.log_softmax(tag_space, dim=1)\n",
    "        return tag_scores"
   ]
  },
  {
   "cell_type": "code",
   "execution_count": 11,
   "metadata": {
    "ExecuteTime": {
     "end_time": "2018-08-24T06:10:54.874383Z",
     "start_time": "2018-08-24T06:10:54.864947Z"
    }
   },
   "outputs": [],
   "source": [
    "EMBEDDING_DIM = 6\n",
    "HIDDEN_DIM = 6\n",
    "model = LSTMTagger(EMBEDDING_DIM, HIDDEN_DIM, len(word_to_ix))\n",
    "loss_function = nn.NLLLoss()\n",
    "optimizer = optim.SGD(model.parameters(), lr=0.1)"
   ]
  },
  {
   "cell_type": "code",
   "execution_count": 14,
   "metadata": {
    "ExecuteTime": {
     "end_time": "2018-08-24T06:11:21.793578Z",
     "start_time": "2018-08-24T06:11:21.568879Z"
    }
   },
   "outputs": [
    {
     "name": "stdout",
     "output_type": "stream",
     "text": [
      "['sleep', 'night', '?', 'passage', 'time']\n",
      "# of Words: 5\n",
      "# of Inputs: 1465\n",
      "len(word_to_ix)): 2441\n",
      "\n",
      "['sleep', 'night', '?', 'passage', 'time']\n"
     ]
    },
    {
     "data": {
      "text/plain": [
       "'hacky-sack ridicule caress ridicule union'"
      ]
     },
     "execution_count": 14,
     "metadata": {},
     "output_type": "execute_result"
    }
   ],
   "source": [
    "ix=0\n",
    "print(w2v_pred_words_flat[ix]) \n",
    "print(\"# of Words:\", len(w2v_pred_words_flat[ix]))  # 5 words\n",
    "print(\"# of Inputs:\", len(inputs))                  # 5 inputs\n",
    "# print(\"len(tag_scores):\", len(tag_scores))          # 5 tag scores      \n",
    "print(\"len(word_to_ix)):\", len(word_to_ix))         # 2433 vocab\n",
    "# for i in range(2):                                  # 2433 tensors for each\n",
    "#     print(\"len(tag_scores[i])):\", len(tag_scores[i]))  # 2433 vocab and 2433 tensors\n",
    "print()\n",
    "output_results(w2v_pred_words_flat[ix])"
   ]
  },
  {
   "cell_type": "code",
   "execution_count": 15,
   "metadata": {
    "ExecuteTime": {
     "end_time": "2018-08-24T06:50:12.460336Z",
     "start_time": "2018-08-24T06:12:20.762881Z"
    },
    "scrolled": true
   },
   "outputs": [
    {
     "name": "stdout",
     "output_type": "stream",
     "text": [
      "Epoch 0 loss_avg: 7.538853333346266\n",
      "Epoch 30 loss_avg: 5.400588258338056\n",
      "Epoch 60 loss_avg: 4.787212612807954\n",
      "Epoch 90 loss_avg: 4.5009589419430025\n",
      "Epoch 120 loss_avg: 4.261639579855948\n",
      "Epoch 150 loss_avg: 4.107708589493618\n",
      "Epoch 180 loss_avg: 3.984579068035803\n",
      "Epoch 210 loss_avg: 3.89648147959758\n",
      "Epoch 240 loss_avg: 3.7834148359786934\n",
      "Epoch 270 loss_avg: 3.719182936282695\n"
     ]
    }
   ],
   "source": [
    "training_data = w2v_pred_words_flat\n",
    "loss_agg=[]\n",
    "loss_avg=0\n",
    "plot_every = 30\n",
    "\n",
    "for epoch in range(300):  # again, normally you would NOT do 300 epochs, it is toy data\n",
    "    loss_avg = 0\n",
    "    for sentence in training_data:\n",
    "        # Step 1. Remember that Pytorch accumulates gradients.\n",
    "        # We need to clear them out before each instance\n",
    "        model.zero_grad()\n",
    "\n",
    "        # Also, we need to clear out the hidden state of the LSTM,\n",
    "        # detaching it from its history on the last instance.\n",
    "        model.hidden = model.init_hidden()\n",
    "\n",
    "        # Step 2. Get our inputs ready for the network, that is, turn them into\n",
    "        # Tensors of word indices.\n",
    "        sentence_in = prepare_sequence(sentence[:-1], word_to_ix)\n",
    "        targets = prepare_sequence(sentence[1:], word_to_ix)\n",
    "\n",
    "        # Step 3. Run our forward pass.\n",
    "        tag_scores = model(sentence_in)\n",
    "\n",
    "        # Step 4. Compute the loss, gradients, and update the parameters by\n",
    "        #  calling optimizer.step()\n",
    "        loss = loss_function(tag_scores, targets)\n",
    "        loss_avg += loss.data.item()\n",
    "       \n",
    "        loss.backward()\n",
    "        optimizer.step()\n",
    "    \n",
    "    if epoch % plot_every == 0:\n",
    "        print(f\"Epoch {epoch} loss_avg:\", loss_avg/len(training_data))\n",
    "    \n",
    "    loss_agg.append(loss)"
   ]
  },
  {
   "cell_type": "code",
   "execution_count": 16,
   "metadata": {
    "ExecuteTime": {
     "end_time": "2018-08-24T06:50:12.830846Z",
     "start_time": "2018-08-24T06:50:12.789836Z"
    }
   },
   "outputs": [
    {
     "name": "stdout",
     "output_type": "stream",
     "text": [
      "['sleep', 'night', '?', 'passage', 'time']\n"
     ]
    },
    {
     "data": {
      "text/plain": [
       "'! ! pussy < good'"
      ]
     },
     "execution_count": 16,
     "metadata": {},
     "output_type": "execute_result"
    }
   ],
   "source": [
    "output_results(training_data[0])"
   ]
  },
  {
   "cell_type": "code",
   "execution_count": 27,
   "metadata": {
    "ExecuteTime": {
     "end_time": "2018-08-24T06:57:36.495867Z",
     "start_time": "2018-08-24T06:57:36.407469Z"
    }
   },
   "outputs": [
    {
     "name": "stdout",
     "output_type": "stream",
     "text": [
      "['sleep', 'night', '?']\n",
      "night life bees\n",
      "['batman', 'guilty', 'pleasure']\n",
      "know 's love\n",
      "['next', 'happy', 'meal', 'toy', '?']\n",
      "office show child could bees\n"
     ]
    }
   ],
   "source": [
    "print(output_results(model, ['sleep', 'night', '?']))\n",
    "print(output_results(model, ['batman', 'guilty', 'pleasure']))\n",
    "print(output_results(model, ['next', 'happy', 'meal', 'toy', '?']))"
   ]
  },
  {
   "cell_type": "code",
   "execution_count": 20,
   "metadata": {
    "ExecuteTime": {
     "end_time": "2018-08-24T06:55:58.196712Z",
     "start_time": "2018-08-24T06:55:57.946744Z"
    }
   },
   "outputs": [
    {
     "name": "stdout",
     "output_type": "stream",
     "text": [
      "loss_avg: 5330.717501401901\n"
     ]
    },
    {
     "data": {
      "text/plain": [
       "Text(0,0.5,'Neg Log Likelihood Loss')"
      ]
     },
     "execution_count": 20,
     "metadata": {},
     "output_type": "execute_result"
    },
    {
     "data": {
      "image/png": "[encoded data removed]",
      "text/plain": [
       "<Figure size 900x600 with 1 Axes>"
      ]
     },
     "metadata": {},
     "output_type": "display_data"
    }
   ],
   "source": [
    "# print(\"len loss agg:\", len(loss_list))\n",
    "print(\"loss_avg:\", loss_avg)\n",
    "plt.figure(dpi=150)\n",
    "plt.plot(range(len(loss_agg)), loss_agg)\n",
    "plt.title('Loss over Time', size=25)\n",
    "plt.tick_params(axis='both', labelsize=15)\n",
    "plt.xlabel('Epochs', fontsize=15)\n",
    "plt.ylabel('Neg Log Likelihood Loss', fontsize=15)"
   ]
  },
  {
   "cell_type": "code",
   "execution_count": 5,
   "metadata": {
    "ExecuteTime": {
     "end_time": "2018-08-24T22:39:02.141280Z",
     "start_time": "2018-08-24T22:39:02.136955Z"
    }
   },
   "outputs": [],
   "source": [
    "import os\n",
    "os.chdir('/Users/bellepeng/Desktop/Metis/Projects/NLP_CardsAgainstHumanity/data')\n",
    "torch.save(model, 'model_nlg_1.pt')"
   ]
  },
  {
   "cell_type": "code",
   "execution_count": 25,
   "metadata": {
    "ExecuteTime": {
     "end_time": "2018-08-24T06:57:22.448648Z",
     "start_time": "2018-08-24T06:57:22.433639Z"
    }
   },
   "outputs": [],
   "source": [
    "model_nlg1_v2 = torch.load('model_nlg_1.pt')"
   ]
  },
  {
   "cell_type": "code",
   "execution_count": 26,
   "metadata": {
    "ExecuteTime": {
     "end_time": "2018-08-24T06:57:23.476204Z",
     "start_time": "2018-08-24T06:57:23.432069Z"
    }
   },
   "outputs": [
    {
     "name": "stdout",
     "output_type": "stream",
     "text": [
      "['next', 'happy', 'meal', 'toy', '?']\n",
      "universe firm yet giving bees\n"
     ]
    }
   ],
   "source": [
    "print(output_results(model_nlg1_v2, ['next', 'happy', 'meal', 'toy', '?']))"
   ]
  },
  {
   "cell_type": "code",
   "execution_count": null,
   "metadata": {},
   "outputs": [],
   "source": []
  }
 ],
 "metadata": {
  "kernelspec": {
   "display_name": "Python (anacoda)",
   "language": "python",
   "name": "other-env"
  },
  "language_info": {
   "codemirror_mode": {
    "name": "ipython",
    "version": 3
   },
   "file_extension": ".py",
   "mimetype": "text/x-python",
   "name": "python",
   "nbconvert_exporter": "python",
   "pygments_lexer": "ipython3",
   "version": "3.6.5"
  },
  "varInspector": {
   "cols": {
    "lenName": 16,
    "lenType": 16,
    "lenVar": 40
   },
   "kernels_config": {
    "python": {
     "delete_cmd_postfix": "",
     "delete_cmd_prefix": "del ",
     "library": "var_list.py",
     "varRefreshCmd": "print(var_dic_list())"
    },
    "r": {
     "delete_cmd_postfix": ") ",
     "delete_cmd_prefix": "rm(",
     "library": "var_list.r",
     "varRefreshCmd": "cat(var_dic_list()) "
    }
   },
   "types_to_exclude": [
    "module",
    "function",
    "builtin_function_or_method",
    "instance",
    "_Feature"
   ],
   "window_display": false
  }
 },
 "nbformat": 4,
 "nbformat_minor": 2
}
